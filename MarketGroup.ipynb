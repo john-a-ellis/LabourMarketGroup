{
 "cells": [
  {
   "cell_type": "code",
   "execution_count": 1,
   "id": "60ecca9a-cacf-4a4a-9d86-c2d7314e82e2",
   "metadata": {},
   "outputs": [],
   "source": [
    "# Import Dependencies\n",
    "import pandas as pd\n",
    "from dash import Dash, html, dcc, callback, Output, Input\n",
    "import plotly.express as px\n",
    "from stats_can import StatsCan\n",
    "import dash_bootstrap_components as dbc\n",
    "import datetime as dt\n",
    "import plotly.graph_objects as go\n",
    "import numpy as np\n",
    "import random\n",
    "sc = StatsCan()\n",
    "pd.options.display.max_colwidth = 255"
   ]
  },
  {
   "cell_type": "code",
   "execution_count": 2,
   "id": "186ebab6-5804-476a-a997-c2e60edc0b2d",
   "metadata": {},
   "outputs": [],
   "source": [
    "#set storage location for Stats Can Data\n",
    "sc = StatsCan(data_folder=\"Resources\")"
   ]
  },
  {
   "cell_type": "code",
   "execution_count": 86,
   "id": "8876a3d4-078e-4c37-ae15-5d1c74f2bb11",
   "metadata": {},
   "outputs": [],
   "source": [
    "#Set Global Variable for North Bay\n",
    "getLocation = ['North Bay, Ontario','North Bay (CA), Ontario']"
   ]
  },
  {
   "cell_type": "code",
   "execution_count": 192,
   "id": "685e7e54-96a5-4dbb-b36c-7038f218a676",
   "metadata": {},
   "outputs": [],
   "source": [
    "df = sc.table_to_df(\"17-10-0148-01\") # demographic data"
   ]
  },
  {
   "cell_type": "code",
   "execution_count": 193,
   "id": "86b66567-f8c0-464f-8839-080a9ae6d33c",
   "metadata": {},
   "outputs": [],
   "source": [
    "df=df.loc[df['GEO'].isin(getLocation)]"
   ]
  },
  {
   "cell_type": "code",
   "execution_count": 194,
   "id": "afdc51bf-ee39-4760-9d54-27ab5fae85b1",
   "metadata": {},
   "outputs": [],
   "source": [
    "df.rename(columns = {'REF_DATE':'Date'}, inplace=True)"
   ]
  },
  {
   "cell_type": "code",
   "execution_count": 195,
   "id": "316670f0-6241-4546-8d47-ada3c6b7b0c8",
   "metadata": {},
   "outputs": [
    {
     "name": "stderr",
     "output_type": "stream",
     "text": [
      "C:\\Users\\johna\\AppData\\Local\\Temp\\ipykernel_133056\\3585288318.py:1: FutureWarning:\n",
      "\n",
      "The behavior of Series.replace (and DataFrame.replace) with CategoricalDtype is deprecated. In a future version, replace will only be used for cases that preserve the categories. To change the categories, use ser.cat.rename_categories instead.\n",
      "\n"
     ]
    }
   ],
   "source": [
    "df=df.replace(to_replace='90 years and older', value= '90 years +')"
   ]
  },
  {
   "cell_type": "code",
   "execution_count": 196,
   "id": "3e706781-0693-41b0-b02f-8fe0c2ac8289",
   "metadata": {},
   "outputs": [
    {
     "data": {
      "text/plain": [
       "['Men+', 'Women+']"
      ]
     },
     "execution_count": 196,
     "metadata": {},
     "output_type": "execute_result"
    }
   ],
   "source": [
    "gender_list=df['Gender'].unique().tolist()\n",
    "gender_list.pop(0)\n",
    "gender_list"
   ]
  },
  {
   "cell_type": "code",
   "execution_count": 197,
   "id": "c9a9e4c8-b88f-46ae-91e6-ac6bcc4e44ce",
   "metadata": {},
   "outputs": [
    {
     "data": {
      "text/plain": [
       "['All ages',\n",
       " '0 to 4 years',\n",
       " '0 years',\n",
       " '1 year',\n",
       " '2 years',\n",
       " '3 years',\n",
       " '4 years',\n",
       " '5 to 9 years',\n",
       " '5 years',\n",
       " '6 years',\n",
       " '7 years',\n",
       " '8 years',\n",
       " '9 years',\n",
       " '10 to 14 years',\n",
       " '10 years',\n",
       " '11 years',\n",
       " '12 years',\n",
       " '13 years',\n",
       " '14 years',\n",
       " '15 to 19 years',\n",
       " '15 years',\n",
       " '16 years',\n",
       " '17 years',\n",
       " '18 years',\n",
       " '19 years',\n",
       " '20 to 24 years',\n",
       " '20 years',\n",
       " '21 years',\n",
       " '22 years',\n",
       " '23 years',\n",
       " '24 years',\n",
       " '25 to 29 years',\n",
       " '25 years',\n",
       " '26 years',\n",
       " '27 years',\n",
       " '28 years',\n",
       " '29 years',\n",
       " '30 to 34 years',\n",
       " '30 years',\n",
       " '31 years',\n",
       " '32 years',\n",
       " '33 years',\n",
       " '34 years',\n",
       " '35 to 39 years',\n",
       " '35 years',\n",
       " '36 years',\n",
       " '37 years',\n",
       " '38 years',\n",
       " '39 years',\n",
       " '40 to 44 years',\n",
       " '40 years',\n",
       " '41 years',\n",
       " '42 years',\n",
       " '43 years',\n",
       " '44 years',\n",
       " '45 to 49 years',\n",
       " '45 years',\n",
       " '46 years',\n",
       " '47 years',\n",
       " '48 years',\n",
       " '49 years',\n",
       " '50 to 54 years',\n",
       " '50 years',\n",
       " '51 years',\n",
       " '52 years',\n",
       " '53 years',\n",
       " '54 years',\n",
       " '55 to 59 years',\n",
       " '55 years',\n",
       " '56 years',\n",
       " '57 years',\n",
       " '58 years',\n",
       " '59 years',\n",
       " '60 to 64 years',\n",
       " '60 years',\n",
       " '61 years',\n",
       " '62 years',\n",
       " '63 years',\n",
       " '64 years',\n",
       " '65 to 69 years',\n",
       " '65 years',\n",
       " '66 years',\n",
       " '67 years',\n",
       " '68 years',\n",
       " '69 years',\n",
       " '70 to 74 years',\n",
       " '70 years',\n",
       " '71 years',\n",
       " '72 years',\n",
       " '73 years',\n",
       " '74 years',\n",
       " '75 to 79 years',\n",
       " '75 years',\n",
       " '76 years',\n",
       " '77 years',\n",
       " '78 years',\n",
       " '79 years',\n",
       " '80 to 84 years',\n",
       " '80 years',\n",
       " '81 years',\n",
       " '82 years',\n",
       " '83 years',\n",
       " '84 years',\n",
       " '85 to 89 years',\n",
       " '85 years',\n",
       " '86 years',\n",
       " '87 years',\n",
       " '88 years',\n",
       " '89 years',\n",
       " '90 years +',\n",
       " '0 to 14 years',\n",
       " '15 to 64 years',\n",
       " '65 years and older',\n",
       " 'Median age',\n",
       " 'Average age']"
      ]
     },
     "execution_count": 197,
     "metadata": {},
     "output_type": "execute_result"
    }
   ],
   "source": [
    "mylist = df['Age group'].unique().tolist()\n",
    "mylist"
   ]
  },
  {
   "cell_type": "code",
   "execution_count": 198,
   "id": "ff80ab3d-12e0-4876-817a-20a41fad07fe",
   "metadata": {},
   "outputs": [],
   "source": [
    "age_list = []\n",
    "for i in mylist:\n",
    "    # print(i)\n",
    "    if i.find('to') != -1:\n",
    "        age_list.append(i)\n",
    "    elif i.find('and') != -1:\n",
    "        age_list.append(i)\n",
    "    elif i.find('+') != -1:\n",
    "        age_list.append(i)\n",
    "        \n",
    "\n",
    "age_list.remove('0 to 14 years')\n",
    "age_list.remove('65 years and older')\n",
    "age_list.remove('15 to 64 years')"
   ]
  },
  {
   "cell_type": "code",
   "execution_count": 199,
   "id": "e59e0dc7-7375-4e70-b87d-4055fbea20b6",
   "metadata": {},
   "outputs": [
    {
     "data": {
      "text/plain": [
       "['0 to 4 years',\n",
       " '5 to 9 years',\n",
       " '10 to 14 years',\n",
       " '15 to 19 years',\n",
       " '20 to 24 years',\n",
       " '25 to 29 years',\n",
       " '30 to 34 years',\n",
       " '35 to 39 years',\n",
       " '40 to 44 years',\n",
       " '45 to 49 years',\n",
       " '50 to 54 years',\n",
       " '55 to 59 years',\n",
       " '60 to 64 years',\n",
       " '65 to 69 years',\n",
       " '70 to 74 years',\n",
       " '75 to 79 years',\n",
       " '80 to 84 years',\n",
       " '85 to 89 years',\n",
       " '90 years +']"
      ]
     },
     "execution_count": 199,
     "metadata": {},
     "output_type": "execute_result"
    }
   ],
   "source": [
    "age_list"
   ]
  },
  {
   "cell_type": "code",
   "execution_count": 200,
   "id": "ebb87cd0-8f55-4aeb-84a7-6d44e36f4f05",
   "metadata": {},
   "outputs": [
    {
     "data": {
      "text/html": [
       "<div>\n",
       "<style scoped>\n",
       "    .dataframe tbody tr th:only-of-type {\n",
       "        vertical-align: middle;\n",
       "    }\n",
       "\n",
       "    .dataframe tbody tr th {\n",
       "        vertical-align: top;\n",
       "    }\n",
       "\n",
       "    .dataframe thead th {\n",
       "        text-align: right;\n",
       "    }\n",
       "</style>\n",
       "<table border=\"1\" class=\"dataframe\">\n",
       "  <thead>\n",
       "    <tr style=\"text-align: right;\">\n",
       "      <th></th>\n",
       "      <th>Date</th>\n",
       "      <th>GEO</th>\n",
       "      <th>DGUID</th>\n",
       "      <th>Gender</th>\n",
       "      <th>Age group</th>\n",
       "      <th>UOM</th>\n",
       "      <th>UOM_ID</th>\n",
       "      <th>SCALAR_FACTOR</th>\n",
       "      <th>SCALAR_ID</th>\n",
       "      <th>VECTOR</th>\n",
       "      <th>COORDINATE</th>\n",
       "      <th>VALUE</th>\n",
       "      <th>STATUS</th>\n",
       "      <th>SYMBOL</th>\n",
       "      <th>TERMINATED</th>\n",
       "      <th>DECIMALS</th>\n",
       "    </tr>\n",
       "  </thead>\n",
       "  <tbody>\n",
       "    <tr>\n",
       "      <th>37721</th>\n",
       "      <td>2001-01-01</td>\n",
       "      <td>North Bay (CA), Ontario</td>\n",
       "      <td>2021S0504575</td>\n",
       "      <td>Men+</td>\n",
       "      <td>0 to 4 years</td>\n",
       "      <td>Persons</td>\n",
       "      <td>249</td>\n",
       "      <td>units</td>\n",
       "      <td>0</td>\n",
       "      <td>v1589894685</td>\n",
       "      <td>110.2.2</td>\n",
       "      <td>1942.0</td>\n",
       "      <td>NaN</td>\n",
       "      <td>NaN</td>\n",
       "      <td>NaN</td>\n",
       "      <td>0</td>\n",
       "    </tr>\n",
       "    <tr>\n",
       "      <th>37727</th>\n",
       "      <td>2001-01-01</td>\n",
       "      <td>North Bay (CA), Ontario</td>\n",
       "      <td>2021S0504575</td>\n",
       "      <td>Men+</td>\n",
       "      <td>5 to 9 years</td>\n",
       "      <td>Persons</td>\n",
       "      <td>249</td>\n",
       "      <td>units</td>\n",
       "      <td>0</td>\n",
       "      <td>v1589894695</td>\n",
       "      <td>110.2.8</td>\n",
       "      <td>2301.0</td>\n",
       "      <td>NaN</td>\n",
       "      <td>NaN</td>\n",
       "      <td>NaN</td>\n",
       "      <td>0</td>\n",
       "    </tr>\n",
       "    <tr>\n",
       "      <th>37733</th>\n",
       "      <td>2001-01-01</td>\n",
       "      <td>North Bay (CA), Ontario</td>\n",
       "      <td>2021S0504575</td>\n",
       "      <td>Men+</td>\n",
       "      <td>10 to 14 years</td>\n",
       "      <td>Persons</td>\n",
       "      <td>249</td>\n",
       "      <td>units</td>\n",
       "      <td>0</td>\n",
       "      <td>v1589894686</td>\n",
       "      <td>110.2.14</td>\n",
       "      <td>2594.0</td>\n",
       "      <td>NaN</td>\n",
       "      <td>NaN</td>\n",
       "      <td>NaN</td>\n",
       "      <td>0</td>\n",
       "    </tr>\n",
       "    <tr>\n",
       "      <th>37739</th>\n",
       "      <td>2001-01-01</td>\n",
       "      <td>North Bay (CA), Ontario</td>\n",
       "      <td>2021S0504575</td>\n",
       "      <td>Men+</td>\n",
       "      <td>15 to 19 years</td>\n",
       "      <td>Persons</td>\n",
       "      <td>249</td>\n",
       "      <td>units</td>\n",
       "      <td>0</td>\n",
       "      <td>v1589894687</td>\n",
       "      <td>110.2.20</td>\n",
       "      <td>2713.0</td>\n",
       "      <td>NaN</td>\n",
       "      <td>NaN</td>\n",
       "      <td>NaN</td>\n",
       "      <td>0</td>\n",
       "    </tr>\n",
       "    <tr>\n",
       "      <th>37745</th>\n",
       "      <td>2001-01-01</td>\n",
       "      <td>North Bay (CA), Ontario</td>\n",
       "      <td>2021S0504575</td>\n",
       "      <td>Men+</td>\n",
       "      <td>20 to 24 years</td>\n",
       "      <td>Persons</td>\n",
       "      <td>249</td>\n",
       "      <td>units</td>\n",
       "      <td>0</td>\n",
       "      <td>v1589894689</td>\n",
       "      <td>110.2.26</td>\n",
       "      <td>2416.0</td>\n",
       "      <td>NaN</td>\n",
       "      <td>NaN</td>\n",
       "      <td>NaN</td>\n",
       "      <td>0</td>\n",
       "    </tr>\n",
       "    <tr>\n",
       "      <th>...</th>\n",
       "      <td>...</td>\n",
       "      <td>...</td>\n",
       "      <td>...</td>\n",
       "      <td>...</td>\n",
       "      <td>...</td>\n",
       "      <td>...</td>\n",
       "      <td>...</td>\n",
       "      <td>...</td>\n",
       "      <td>...</td>\n",
       "      <td>...</td>\n",
       "      <td>...</td>\n",
       "      <td>...</td>\n",
       "      <td>...</td>\n",
       "      <td>...</td>\n",
       "      <td>...</td>\n",
       "      <td>...</td>\n",
       "    </tr>\n",
       "    <tr>\n",
       "      <th>1639410</th>\n",
       "      <td>2023-01-01</td>\n",
       "      <td>North Bay (CA), Ontario</td>\n",
       "      <td>2021S0504575</td>\n",
       "      <td>Women+</td>\n",
       "      <td>70 to 74 years</td>\n",
       "      <td>Persons</td>\n",
       "      <td>249</td>\n",
       "      <td>units</td>\n",
       "      <td>0</td>\n",
       "      <td>v1589894816</td>\n",
       "      <td>110.3.86</td>\n",
       "      <td>2235.0</td>\n",
       "      <td>NaN</td>\n",
       "      <td>NaN</td>\n",
       "      <td>NaN</td>\n",
       "      <td>0</td>\n",
       "    </tr>\n",
       "    <tr>\n",
       "      <th>1639416</th>\n",
       "      <td>2023-01-01</td>\n",
       "      <td>North Bay (CA), Ontario</td>\n",
       "      <td>2021S0504575</td>\n",
       "      <td>Women+</td>\n",
       "      <td>75 to 79 years</td>\n",
       "      <td>Persons</td>\n",
       "      <td>249</td>\n",
       "      <td>units</td>\n",
       "      <td>0</td>\n",
       "      <td>v1589894817</td>\n",
       "      <td>110.3.92</td>\n",
       "      <td>1681.0</td>\n",
       "      <td>NaN</td>\n",
       "      <td>NaN</td>\n",
       "      <td>NaN</td>\n",
       "      <td>0</td>\n",
       "    </tr>\n",
       "    <tr>\n",
       "      <th>1639422</th>\n",
       "      <td>2023-01-01</td>\n",
       "      <td>North Bay (CA), Ontario</td>\n",
       "      <td>2021S0504575</td>\n",
       "      <td>Women+</td>\n",
       "      <td>80 to 84 years</td>\n",
       "      <td>Persons</td>\n",
       "      <td>249</td>\n",
       "      <td>units</td>\n",
       "      <td>0</td>\n",
       "      <td>v1589894818</td>\n",
       "      <td>110.3.98</td>\n",
       "      <td>1255.0</td>\n",
       "      <td>NaN</td>\n",
       "      <td>NaN</td>\n",
       "      <td>NaN</td>\n",
       "      <td>0</td>\n",
       "    </tr>\n",
       "    <tr>\n",
       "      <th>1639428</th>\n",
       "      <td>2023-01-01</td>\n",
       "      <td>North Bay (CA), Ontario</td>\n",
       "      <td>2021S0504575</td>\n",
       "      <td>Women+</td>\n",
       "      <td>85 to 89 years</td>\n",
       "      <td>Persons</td>\n",
       "      <td>249</td>\n",
       "      <td>units</td>\n",
       "      <td>0</td>\n",
       "      <td>v1589894819</td>\n",
       "      <td>110.3.104</td>\n",
       "      <td>776.0</td>\n",
       "      <td>NaN</td>\n",
       "      <td>NaN</td>\n",
       "      <td>NaN</td>\n",
       "      <td>0</td>\n",
       "    </tr>\n",
       "    <tr>\n",
       "      <th>1639434</th>\n",
       "      <td>2023-01-01</td>\n",
       "      <td>North Bay (CA), Ontario</td>\n",
       "      <td>2021S0504575</td>\n",
       "      <td>Women+</td>\n",
       "      <td>90 years +</td>\n",
       "      <td>Persons</td>\n",
       "      <td>249</td>\n",
       "      <td>units</td>\n",
       "      <td>0</td>\n",
       "      <td>v1589894798</td>\n",
       "      <td>110.3.110</td>\n",
       "      <td>459.0</td>\n",
       "      <td>NaN</td>\n",
       "      <td>NaN</td>\n",
       "      <td>NaN</td>\n",
       "      <td>0</td>\n",
       "    </tr>\n",
       "  </tbody>\n",
       "</table>\n",
       "<p>874 rows × 16 columns</p>\n",
       "</div>"
      ],
      "text/plain": [
       "              Date                      GEO         DGUID  Gender  \\\n",
       "37721   2001-01-01  North Bay (CA), Ontario  2021S0504575    Men+   \n",
       "37727   2001-01-01  North Bay (CA), Ontario  2021S0504575    Men+   \n",
       "37733   2001-01-01  North Bay (CA), Ontario  2021S0504575    Men+   \n",
       "37739   2001-01-01  North Bay (CA), Ontario  2021S0504575    Men+   \n",
       "37745   2001-01-01  North Bay (CA), Ontario  2021S0504575    Men+   \n",
       "...            ...                      ...           ...     ...   \n",
       "1639410 2023-01-01  North Bay (CA), Ontario  2021S0504575  Women+   \n",
       "1639416 2023-01-01  North Bay (CA), Ontario  2021S0504575  Women+   \n",
       "1639422 2023-01-01  North Bay (CA), Ontario  2021S0504575  Women+   \n",
       "1639428 2023-01-01  North Bay (CA), Ontario  2021S0504575  Women+   \n",
       "1639434 2023-01-01  North Bay (CA), Ontario  2021S0504575  Women+   \n",
       "\n",
       "              Age group      UOM UOM_ID SCALAR_FACTOR SCALAR_ID       VECTOR  \\\n",
       "37721      0 to 4 years  Persons    249         units         0  v1589894685   \n",
       "37727      5 to 9 years  Persons    249         units         0  v1589894695   \n",
       "37733    10 to 14 years  Persons    249         units         0  v1589894686   \n",
       "37739    15 to 19 years  Persons    249         units         0  v1589894687   \n",
       "37745    20 to 24 years  Persons    249         units         0  v1589894689   \n",
       "...                 ...      ...    ...           ...       ...          ...   \n",
       "1639410  70 to 74 years  Persons    249         units         0  v1589894816   \n",
       "1639416  75 to 79 years  Persons    249         units         0  v1589894817   \n",
       "1639422  80 to 84 years  Persons    249         units         0  v1589894818   \n",
       "1639428  85 to 89 years  Persons    249         units         0  v1589894819   \n",
       "1639434      90 years +  Persons    249         units         0  v1589894798   \n",
       "\n",
       "        COORDINATE   VALUE STATUS SYMBOL TERMINATED DECIMALS  \n",
       "37721      110.2.2  1942.0    NaN    NaN        NaN        0  \n",
       "37727      110.2.8  2301.0    NaN    NaN        NaN        0  \n",
       "37733     110.2.14  2594.0    NaN    NaN        NaN        0  \n",
       "37739     110.2.20  2713.0    NaN    NaN        NaN        0  \n",
       "37745     110.2.26  2416.0    NaN    NaN        NaN        0  \n",
       "...            ...     ...    ...    ...        ...      ...  \n",
       "1639410   110.3.86  2235.0    NaN    NaN        NaN        0  \n",
       "1639416   110.3.92  1681.0    NaN    NaN        NaN        0  \n",
       "1639422   110.3.98  1255.0    NaN    NaN        NaN        0  \n",
       "1639428  110.3.104   776.0    NaN    NaN        NaN        0  \n",
       "1639434  110.3.110   459.0    NaN    NaN        NaN        0  \n",
       "\n",
       "[874 rows x 16 columns]"
      ]
     },
     "execution_count": 200,
     "metadata": {},
     "output_type": "execute_result"
    }
   ],
   "source": [
    "df_dg = df.loc[(df['GEO'].isin(getLocation)) & (df['Age group'].isin(age_list)) & (df['Gender'].isin(gender_list))]\n",
    "df_dg"
   ]
  },
  {
   "cell_type": "code",
   "execution_count": 219,
   "id": "5846a495-1504-4dc2-b8f4-e40d82389860",
   "metadata": {},
   "outputs": [
    {
     "data": {
      "application/vnd.plotly.v1+json": {
       "config": {
        "plotlyServerURL": "https://plot.ly"
       },
       "data": [
        {
         "name": "Male",
         "orientation": "h",
         "type": "bar",
         "x": [
          1942,
          2301,
          2594,
          2713,
          2416,
          2111,
          2276,
          2952,
          3063,
          2634,
          2536,
          2004,
          1689,
          1585,
          1226,
          820,
          457,
          227,
          71,
          1872,
          2272,
          2527,
          2777,
          2421,
          2124,
          2248,
          2841,
          3153,
          2721,
          2524,
          2144,
          1756,
          1573,
          1245,
          857,
          486,
          217,
          71,
          1786,
          2169,
          2515,
          2774,
          2464,
          2147,
          2219,
          2630,
          3203,
          2866,
          2525,
          2239,
          1821,
          1600,
          1257,
          885,
          518,
          215,
          79,
          1742,
          2065,
          2529,
          2779,
          2490,
          2121,
          2174,
          2436,
          3238,
          2978,
          2550,
          2366,
          1837,
          1601,
          1299,
          920,
          533,
          209,
          79,
          1684,
          2061,
          2432,
          2768,
          2618,
          2184,
          2107,
          2373,
          3191,
          3075,
          2634,
          2504,
          1859,
          1563,
          1344,
          977,
          530,
          217,
          87,
          1680,
          1987,
          2379,
          2757,
          2724,
          2117,
          2087,
          2364,
          3035,
          3185,
          2699,
          2559,
          1938,
          1574,
          1377,
          993,
          590,
          235,
          68,
          1683,
          1923,
          2301,
          2646,
          2772,
          2127,
          2059,
          2313,
          2914,
          3192,
          2767,
          2514,
          2101,
          1627,
          1358,
          987,
          631,
          264,
          73,
          1716,
          1900,
          2191,
          2606,
          2746,
          2190,
          2039,
          2301,
          2695,
          3229,
          2863,
          2496,
          2169,
          1691,
          1391,
          1012,
          655,
          279,
          84,
          1719,
          1870,
          2097,
          2614,
          2750,
          2220,
          2055,
          2239,
          2511,
          3241,
          2945,
          2501,
          2309,
          1691,
          1416,
          1045,
          686,
          317,
          79,
          1753,
          1820,
          2051,
          2514,
          2765,
          2306,
          2107,
          2140,
          2439,
          3178,
          3067,
          2580,
          2418,
          1705,
          1400,
          1089,
          722,
          342,
          82,
          1753,
          1765,
          2024,
          2424,
          2730,
          2374,
          2116,
          2108,
          2404,
          3029,
          3176,
          2638,
          2446,
          1783,
          1390,
          1143,
          714,
          349,
          111,
          1762,
          1743,
          1991,
          2260,
          2634,
          2440,
          2112,
          2122,
          2338,
          2904,
          3155,
          2706,
          2411,
          1905,
          1425,
          1151,
          726,
          377,
          117,
          1711,
          1773,
          1967,
          2148,
          2570,
          2479,
          2106,
          2119,
          2281,
          2645,
          3180,
          2769,
          2401,
          1984,
          1499,
          1150,
          737,
          387,
          134,
          1728,
          1765,
          1906,
          2114,
          2516,
          2492,
          2112,
          2122,
          2248,
          2432,
          3163,
          2815,
          2400,
          2103,
          1490,
          1154,
          752,
          399,
          148,
          1762,
          1791,
          1848,
          2081,
          2412,
          2444,
          2169,
          2115,
          2150,
          2336,
          3057,
          2903,
          2449,
          2175,
          1485,
          1170,
          782,
          394,
          165,
          1774,
          1779,
          1792,
          2080,
          2335,
          2397,
          2219,
          2026,
          2112,
          2312,
          2932,
          2971,
          2499,
          2218,
          1514,
          1174,
          829,
          410,
          176,
          1751,
          1798,
          1796,
          2161,
          2516,
          2389,
          2263,
          2030,
          2101,
          2285,
          2821,
          2988,
          2561,
          2229,
          1648,
          1221,
          846,
          427,
          196,
          1743,
          1810,
          1825,
          2074,
          2591,
          2429,
          2303,
          2066,
          2095,
          2267,
          2614,
          3074,
          2629,
          2249,
          1740,
          1276,
          852,
          451,
          193,
          1734,
          1852,
          1844,
          1964,
          2488,
          2518,
          2353,
          2128,
          2115,
          2251,
          2403,
          3133,
          2709,
          2288,
          1879,
          1256,
          884,
          464,
          212,
          1674,
          1912,
          1901,
          1942,
          2327,
          2503,
          2404,
          2228,
          2167,
          2176,
          2311,
          3073,
          2830,
          2334,
          1982,
          1241,
          917,
          515,
          205,
          1648,
          1930,
          1908,
          1936,
          2299,
          2445,
          2513,
          2329,
          2144,
          2157,
          2315,
          2971,
          2951,
          2376,
          2039,
          1318,
          935,
          537,
          241,
          1579,
          1931,
          1933,
          2063,
          2846,
          2701,
          2600,
          2433,
          2143,
          2195,
          2333,
          2839,
          2996,
          2461,
          2026,
          1446,
          932,
          558,
          253,
          1508,
          1920,
          1968,
          2101,
          3413,
          3183,
          2809,
          2535,
          2222,
          2204,
          2342,
          2674,
          3068,
          2551,
          2045,
          1518,
          948,
          588,
          257
         ],
         "y": [
          "0 to 4 years",
          "5 to 9 years",
          "10 to 14 years",
          "15 to 19 years",
          "20 to 24 years",
          "25 to 29 years",
          "30 to 34 years",
          "35 to 39 years",
          "40 to 44 years",
          "45 to 49 years",
          "50 to 54 years",
          "55 to 59 years",
          "60 to 64 years",
          "65 to 69 years",
          "70 to 74 years",
          "75 to 79 years",
          "80 to 84 years",
          "85 to 89 years",
          "90 years +"
         ]
        },
        {
         "name": "Female",
         "orientation": "h",
         "type": "bar",
         "x": [
          -1847,
          -2268,
          -2471,
          -2607,
          -2439,
          -2106,
          -2284,
          -3107,
          -3060,
          -2739,
          -2604,
          -2090,
          -1855,
          -1583,
          -1401,
          -1237,
          -871,
          -505,
          -235,
          -1757,
          -2165,
          -2540,
          -2605,
          -2464,
          -2084,
          -2263,
          -2937,
          -3158,
          -2811,
          -2573,
          -2205,
          -1897,
          -1596,
          -1449,
          -1224,
          -905,
          -520,
          -243,
          -1690,
          -2095,
          -2526,
          -2596,
          -2475,
          -2107,
          -2253,
          -2749,
          -3225,
          -2867,
          -2592,
          -2316,
          -1961,
          -1623,
          -1484,
          -1216,
          -943,
          -536,
          -262,
          -1654,
          -2018,
          -2457,
          -2615,
          -2505,
          -2107,
          -2262,
          -2540,
          -3273,
          -2935,
          -2681,
          -2362,
          -2010,
          -1678,
          -1499,
          -1203,
          -998,
          -539,
          -275,
          -1644,
          -1944,
          -2414,
          -2580,
          -2634,
          -2160,
          -2179,
          -2393,
          -3282,
          -3033,
          -2749,
          -2503,
          -2027,
          -1725,
          -1488,
          -1234,
          -1000,
          -575,
          -281,
          -1664,
          -1860,
          -2333,
          -2585,
          -2693,
          -2145,
          -2138,
          -2304,
          -3203,
          -3112,
          -2823,
          -2581,
          -2074,
          -1776,
          -1502,
          -1254,
          -1020,
          -569,
          -295,
          -1587,
          -1821,
          -2190,
          -2664,
          -2668,
          -2207,
          -2059,
          -2296,
          -2969,
          -3193,
          -2871,
          -2581,
          -2156,
          -1809,
          -1498,
          -1305,
          -1007,
          -625,
          -291,
          -1621,
          -1782,
          -2122,
          -2664,
          -2585,
          -2252,
          -2068,
          -2268,
          -2757,
          -3246,
          -2916,
          -2574,
          -2249,
          -1882,
          -1508,
          -1346,
          -1000,
          -673,
          -315,
          -1664,
          -1753,
          -2036,
          -2587,
          -2546,
          -2296,
          -2058,
          -2266,
          -2532,
          -3285,
          -2944,
          -2647,
          -2298,
          -1936,
          -1551,
          -1339,
          -991,
          -715,
          -317,
          -1729,
          -1742,
          -1963,
          -2531,
          -2588,
          -2391,
          -2051,
          -2210,
          -2380,
          -3277,
          -3010,
          -2692,
          -2413,
          -1935,
          -1561,
          -1312,
          -1020,
          -714,
          -358,
          -1746,
          -1747,
          -1912,
          -2406,
          -2657,
          -2399,
          -2067,
          -2181,
          -2297,
          -3171,
          -3082,
          -2751,
          -2482,
          -1967,
          -1623,
          -1319,
          -1022,
          -699,
          -395,
          -1758,
          -1704,
          -1893,
          -2220,
          -2684,
          -2351,
          -2122,
          -2116,
          -2289,
          -2974,
          -3135,
          -2816,
          -2475,
          -2059,
          -1665,
          -1315,
          -1070,
          -680,
          -440,
          -1743,
          -1719,
          -1852,
          -2157,
          -2561,
          -2350,
          -2129,
          -2063,
          -2277,
          -2728,
          -3212,
          -2842,
          -2470,
          -2113,
          -1749,
          -1318,
          -1086,
          -651,
          -462,
          -1710,
          -1760,
          -1847,
          -2094,
          -2397,
          -2384,
          -2169,
          -2042,
          -2266,
          -2494,
          -3235,
          -2843,
          -2537,
          -2125,
          -1827,
          -1356,
          -1062,
          -665,
          -479,
          -1672,
          -1808,
          -1846,
          -2013,
          -2321,
          -2324,
          -2234,
          -1995,
          -2205,
          -2350,
          -3177,
          -2879,
          -2593,
          -2239,
          -1790,
          -1392,
          -1051,
          -684,
          -454,
          -1652,
          -1792,
          -1826,
          -1978,
          -2277,
          -2191,
          -2235,
          -2013,
          -2110,
          -2274,
          -3063,
          -2949,
          -2620,
          -2319,
          -1783,
          -1441,
          -1059,
          -705,
          -469,
          -1716,
          -1796,
          -1745,
          -2064,
          -2327,
          -2267,
          -2222,
          -2072,
          -2064,
          -2258,
          -2875,
          -3045,
          -2701,
          -2333,
          -1874,
          -1465,
          -1069,
          -725,
          -473,
          -1697,
          -1779,
          -1736,
          -1988,
          -2432,
          -2306,
          -2214,
          -2126,
          -2028,
          -2255,
          -2666,
          -3135,
          -2755,
          -2367,
          -1904,
          -1538,
          -1080,
          -746,
          -463,
          -1675,
          -1756,
          -1771,
          -1937,
          -2257,
          -2301,
          -2254,
          -2187,
          -2035,
          -2261,
          -2497,
          -3188,
          -2814,
          -2426,
          -1935,
          -1591,
          -1130,
          -704,
          -451,
          -1628,
          -1728,
          -1829,
          -1932,
          -2240,
          -2273,
          -2252,
          -2303,
          -2006,
          -2258,
          -2363,
          -3159,
          -2919,
          -2497,
          -2037,
          -1577,
          -1165,
          -714,
          -452,
          -1614,
          -1718,
          -1840,
          -1885,
          -2226,
          -2249,
          -2281,
          -2342,
          -2065,
          -2217,
          -2315,
          -3066,
          -3053,
          -2572,
          -2145,
          -1571,
          -1169,
          -741,
          -460,
          -1514,
          -1776,
          -1888,
          -1947,
          -2591,
          -2412,
          -2393,
          -2339,
          -2177,
          -2175,
          -2355,
          -2913,
          -3157,
          -2658,
          -2188,
          -1651,
          -1191,
          -753,
          -462,
          -1447,
          -1795,
          -1882,
          -1961,
          -3029,
          -2891,
          -2537,
          -2381,
          -2255,
          -2158,
          -2380,
          -2758,
          -3258,
          -2740,
          -2235,
          -1681,
          -1255,
          -776,
          -459
         ],
         "y": [
          "0 to 4 years",
          "5 to 9 years",
          "10 to 14 years",
          "15 to 19 years",
          "20 to 24 years",
          "25 to 29 years",
          "30 to 34 years",
          "35 to 39 years",
          "40 to 44 years",
          "45 to 49 years",
          "50 to 54 years",
          "55 to 59 years",
          "60 to 64 years",
          "65 to 69 years",
          "70 to 74 years",
          "75 to 79 years",
          "80 to 84 years",
          "85 to 89 years",
          "90 years +"
         ]
        }
       ],
       "layout": {
        "bargap": 0,
        "bargroupgap": 0,
        "barmode": "relative",
        "height": 243,
        "margin": {
         "b": 1,
         "l": 1,
         "r": 1,
         "t": 40
        },
        "template": {
         "data": {
          "bar": [
           {
            "error_x": {
             "color": "#2a3f5f"
            },
            "error_y": {
             "color": "#2a3f5f"
            },
            "marker": {
             "line": {
              "color": "#E5ECF6",
              "width": 0.5
             },
             "pattern": {
              "fillmode": "overlay",
              "size": 10,
              "solidity": 0.2
             }
            },
            "type": "bar"
           }
          ],
          "barpolar": [
           {
            "marker": {
             "line": {
              "color": "#E5ECF6",
              "width": 0.5
             },
             "pattern": {
              "fillmode": "overlay",
              "size": 10,
              "solidity": 0.2
             }
            },
            "type": "barpolar"
           }
          ],
          "carpet": [
           {
            "aaxis": {
             "endlinecolor": "#2a3f5f",
             "gridcolor": "white",
             "linecolor": "white",
             "minorgridcolor": "white",
             "startlinecolor": "#2a3f5f"
            },
            "baxis": {
             "endlinecolor": "#2a3f5f",
             "gridcolor": "white",
             "linecolor": "white",
             "minorgridcolor": "white",
             "startlinecolor": "#2a3f5f"
            },
            "type": "carpet"
           }
          ],
          "choropleth": [
           {
            "colorbar": {
             "outlinewidth": 0,
             "ticks": ""
            },
            "type": "choropleth"
           }
          ],
          "contour": [
           {
            "colorbar": {
             "outlinewidth": 0,
             "ticks": ""
            },
            "colorscale": [
             [
              0,
              "#0d0887"
             ],
             [
              0.1111111111111111,
              "#46039f"
             ],
             [
              0.2222222222222222,
              "#7201a8"
             ],
             [
              0.3333333333333333,
              "#9c179e"
             ],
             [
              0.4444444444444444,
              "#bd3786"
             ],
             [
              0.5555555555555556,
              "#d8576b"
             ],
             [
              0.6666666666666666,
              "#ed7953"
             ],
             [
              0.7777777777777778,
              "#fb9f3a"
             ],
             [
              0.8888888888888888,
              "#fdca26"
             ],
             [
              1,
              "#f0f921"
             ]
            ],
            "type": "contour"
           }
          ],
          "contourcarpet": [
           {
            "colorbar": {
             "outlinewidth": 0,
             "ticks": ""
            },
            "type": "contourcarpet"
           }
          ],
          "heatmap": [
           {
            "colorbar": {
             "outlinewidth": 0,
             "ticks": ""
            },
            "colorscale": [
             [
              0,
              "#0d0887"
             ],
             [
              0.1111111111111111,
              "#46039f"
             ],
             [
              0.2222222222222222,
              "#7201a8"
             ],
             [
              0.3333333333333333,
              "#9c179e"
             ],
             [
              0.4444444444444444,
              "#bd3786"
             ],
             [
              0.5555555555555556,
              "#d8576b"
             ],
             [
              0.6666666666666666,
              "#ed7953"
             ],
             [
              0.7777777777777778,
              "#fb9f3a"
             ],
             [
              0.8888888888888888,
              "#fdca26"
             ],
             [
              1,
              "#f0f921"
             ]
            ],
            "type": "heatmap"
           }
          ],
          "heatmapgl": [
           {
            "colorbar": {
             "outlinewidth": 0,
             "ticks": ""
            },
            "colorscale": [
             [
              0,
              "#0d0887"
             ],
             [
              0.1111111111111111,
              "#46039f"
             ],
             [
              0.2222222222222222,
              "#7201a8"
             ],
             [
              0.3333333333333333,
              "#9c179e"
             ],
             [
              0.4444444444444444,
              "#bd3786"
             ],
             [
              0.5555555555555556,
              "#d8576b"
             ],
             [
              0.6666666666666666,
              "#ed7953"
             ],
             [
              0.7777777777777778,
              "#fb9f3a"
             ],
             [
              0.8888888888888888,
              "#fdca26"
             ],
             [
              1,
              "#f0f921"
             ]
            ],
            "type": "heatmapgl"
           }
          ],
          "histogram": [
           {
            "marker": {
             "pattern": {
              "fillmode": "overlay",
              "size": 10,
              "solidity": 0.2
             }
            },
            "type": "histogram"
           }
          ],
          "histogram2d": [
           {
            "colorbar": {
             "outlinewidth": 0,
             "ticks": ""
            },
            "colorscale": [
             [
              0,
              "#0d0887"
             ],
             [
              0.1111111111111111,
              "#46039f"
             ],
             [
              0.2222222222222222,
              "#7201a8"
             ],
             [
              0.3333333333333333,
              "#9c179e"
             ],
             [
              0.4444444444444444,
              "#bd3786"
             ],
             [
              0.5555555555555556,
              "#d8576b"
             ],
             [
              0.6666666666666666,
              "#ed7953"
             ],
             [
              0.7777777777777778,
              "#fb9f3a"
             ],
             [
              0.8888888888888888,
              "#fdca26"
             ],
             [
              1,
              "#f0f921"
             ]
            ],
            "type": "histogram2d"
           }
          ],
          "histogram2dcontour": [
           {
            "colorbar": {
             "outlinewidth": 0,
             "ticks": ""
            },
            "colorscale": [
             [
              0,
              "#0d0887"
             ],
             [
              0.1111111111111111,
              "#46039f"
             ],
             [
              0.2222222222222222,
              "#7201a8"
             ],
             [
              0.3333333333333333,
              "#9c179e"
             ],
             [
              0.4444444444444444,
              "#bd3786"
             ],
             [
              0.5555555555555556,
              "#d8576b"
             ],
             [
              0.6666666666666666,
              "#ed7953"
             ],
             [
              0.7777777777777778,
              "#fb9f3a"
             ],
             [
              0.8888888888888888,
              "#fdca26"
             ],
             [
              1,
              "#f0f921"
             ]
            ],
            "type": "histogram2dcontour"
           }
          ],
          "mesh3d": [
           {
            "colorbar": {
             "outlinewidth": 0,
             "ticks": ""
            },
            "type": "mesh3d"
           }
          ],
          "parcoords": [
           {
            "line": {
             "colorbar": {
              "outlinewidth": 0,
              "ticks": ""
             }
            },
            "type": "parcoords"
           }
          ],
          "pie": [
           {
            "automargin": true,
            "type": "pie"
           }
          ],
          "scatter": [
           {
            "fillpattern": {
             "fillmode": "overlay",
             "size": 10,
             "solidity": 0.2
            },
            "type": "scatter"
           }
          ],
          "scatter3d": [
           {
            "line": {
             "colorbar": {
              "outlinewidth": 0,
              "ticks": ""
             }
            },
            "marker": {
             "colorbar": {
              "outlinewidth": 0,
              "ticks": ""
             }
            },
            "type": "scatter3d"
           }
          ],
          "scattercarpet": [
           {
            "marker": {
             "colorbar": {
              "outlinewidth": 0,
              "ticks": ""
             }
            },
            "type": "scattercarpet"
           }
          ],
          "scattergeo": [
           {
            "marker": {
             "colorbar": {
              "outlinewidth": 0,
              "ticks": ""
             }
            },
            "type": "scattergeo"
           }
          ],
          "scattergl": [
           {
            "marker": {
             "colorbar": {
              "outlinewidth": 0,
              "ticks": ""
             }
            },
            "type": "scattergl"
           }
          ],
          "scattermapbox": [
           {
            "marker": {
             "colorbar": {
              "outlinewidth": 0,
              "ticks": ""
             }
            },
            "type": "scattermapbox"
           }
          ],
          "scatterpolar": [
           {
            "marker": {
             "colorbar": {
              "outlinewidth": 0,
              "ticks": ""
             }
            },
            "type": "scatterpolar"
           }
          ],
          "scatterpolargl": [
           {
            "marker": {
             "colorbar": {
              "outlinewidth": 0,
              "ticks": ""
             }
            },
            "type": "scatterpolargl"
           }
          ],
          "scatterternary": [
           {
            "marker": {
             "colorbar": {
              "outlinewidth": 0,
              "ticks": ""
             }
            },
            "type": "scatterternary"
           }
          ],
          "surface": [
           {
            "colorbar": {
             "outlinewidth": 0,
             "ticks": ""
            },
            "colorscale": [
             [
              0,
              "#0d0887"
             ],
             [
              0.1111111111111111,
              "#46039f"
             ],
             [
              0.2222222222222222,
              "#7201a8"
             ],
             [
              0.3333333333333333,
              "#9c179e"
             ],
             [
              0.4444444444444444,
              "#bd3786"
             ],
             [
              0.5555555555555556,
              "#d8576b"
             ],
             [
              0.6666666666666666,
              "#ed7953"
             ],
             [
              0.7777777777777778,
              "#fb9f3a"
             ],
             [
              0.8888888888888888,
              "#fdca26"
             ],
             [
              1,
              "#f0f921"
             ]
            ],
            "type": "surface"
           }
          ],
          "table": [
           {
            "cells": {
             "fill": {
              "color": "#EBF0F8"
             },
             "line": {
              "color": "white"
             }
            },
            "header": {
             "fill": {
              "color": "#C8D4E3"
             },
             "line": {
              "color": "white"
             }
            },
            "type": "table"
           }
          ]
         },
         "layout": {
          "annotationdefaults": {
           "arrowcolor": "#2a3f5f",
           "arrowhead": 0,
           "arrowwidth": 1
          },
          "autotypenumbers": "strict",
          "coloraxis": {
           "colorbar": {
            "outlinewidth": 0,
            "ticks": ""
           }
          },
          "colorscale": {
           "diverging": [
            [
             0,
             "#8e0152"
            ],
            [
             0.1,
             "#c51b7d"
            ],
            [
             0.2,
             "#de77ae"
            ],
            [
             0.3,
             "#f1b6da"
            ],
            [
             0.4,
             "#fde0ef"
            ],
            [
             0.5,
             "#f7f7f7"
            ],
            [
             0.6,
             "#e6f5d0"
            ],
            [
             0.7,
             "#b8e186"
            ],
            [
             0.8,
             "#7fbc41"
            ],
            [
             0.9,
             "#4d9221"
            ],
            [
             1,
             "#276419"
            ]
           ],
           "sequential": [
            [
             0,
             "#0d0887"
            ],
            [
             0.1111111111111111,
             "#46039f"
            ],
            [
             0.2222222222222222,
             "#7201a8"
            ],
            [
             0.3333333333333333,
             "#9c179e"
            ],
            [
             0.4444444444444444,
             "#bd3786"
            ],
            [
             0.5555555555555556,
             "#d8576b"
            ],
            [
             0.6666666666666666,
             "#ed7953"
            ],
            [
             0.7777777777777778,
             "#fb9f3a"
            ],
            [
             0.8888888888888888,
             "#fdca26"
            ],
            [
             1,
             "#f0f921"
            ]
           ],
           "sequentialminus": [
            [
             0,
             "#0d0887"
            ],
            [
             0.1111111111111111,
             "#46039f"
            ],
            [
             0.2222222222222222,
             "#7201a8"
            ],
            [
             0.3333333333333333,
             "#9c179e"
            ],
            [
             0.4444444444444444,
             "#bd3786"
            ],
            [
             0.5555555555555556,
             "#d8576b"
            ],
            [
             0.6666666666666666,
             "#ed7953"
            ],
            [
             0.7777777777777778,
             "#fb9f3a"
            ],
            [
             0.8888888888888888,
             "#fdca26"
            ],
            [
             1,
             "#f0f921"
            ]
           ]
          },
          "colorway": [
           "#636efa",
           "#EF553B",
           "#00cc96",
           "#ab63fa",
           "#FFA15A",
           "#19d3f3",
           "#FF6692",
           "#B6E880",
           "#FF97FF",
           "#FECB52"
          ],
          "font": {
           "color": "#2a3f5f"
          },
          "geo": {
           "bgcolor": "white",
           "lakecolor": "white",
           "landcolor": "#E5ECF6",
           "showlakes": true,
           "showland": true,
           "subunitcolor": "white"
          },
          "hoverlabel": {
           "align": "left"
          },
          "hovermode": "closest",
          "mapbox": {
           "style": "light"
          },
          "paper_bgcolor": "white",
          "plot_bgcolor": "#E5ECF6",
          "polar": {
           "angularaxis": {
            "gridcolor": "white",
            "linecolor": "white",
            "ticks": ""
           },
           "bgcolor": "#E5ECF6",
           "radialaxis": {
            "gridcolor": "white",
            "linecolor": "white",
            "ticks": ""
           }
          },
          "scene": {
           "xaxis": {
            "backgroundcolor": "#E5ECF6",
            "gridcolor": "white",
            "gridwidth": 2,
            "linecolor": "white",
            "showbackground": true,
            "ticks": "",
            "zerolinecolor": "white"
           },
           "yaxis": {
            "backgroundcolor": "#E5ECF6",
            "gridcolor": "white",
            "gridwidth": 2,
            "linecolor": "white",
            "showbackground": true,
            "ticks": "",
            "zerolinecolor": "white"
           },
           "zaxis": {
            "backgroundcolor": "#E5ECF6",
            "gridcolor": "white",
            "gridwidth": 2,
            "linecolor": "white",
            "showbackground": true,
            "ticks": "",
            "zerolinecolor": "white"
           }
          },
          "shapedefaults": {
           "line": {
            "color": "#2a3f5f"
           }
          },
          "ternary": {
           "aaxis": {
            "gridcolor": "white",
            "linecolor": "white",
            "ticks": ""
           },
           "baxis": {
            "gridcolor": "white",
            "linecolor": "white",
            "ticks": ""
           },
           "bgcolor": "#E5ECF6",
           "caxis": {
            "gridcolor": "white",
            "linecolor": "white",
            "ticks": ""
           }
          },
          "title": {
           "x": 0.05
          },
          "xaxis": {
           "automargin": true,
           "gridcolor": "white",
           "linecolor": "white",
           "ticks": "",
           "title": {
            "standoff": 15
           },
           "zerolinecolor": "white",
           "zerolinewidth": 2
          },
          "yaxis": {
           "automargin": true,
           "gridcolor": "white",
           "linecolor": "white",
           "ticks": "",
           "title": {
            "standoff": 15
           },
           "zerolinecolor": "white",
           "zerolinewidth": 2
          }
         }
        },
        "title": {
         "text": "Population Pyramid - North Bay"
        },
        "width": 990,
        "xaxis": {
         "autorange": true,
         "range": [
          -3449.777777777778,
          3405.777777777778
         ],
         "ticktext": [
          "3000",
          "2000",
          "1000",
          "0",
          "1000",
          "2000",
          "3000"
         ],
         "tickvals": [
          -3000,
          -2000,
          -1000,
          0,
          1000,
          2000,
          3000
         ],
         "type": "linear"
        },
        "yaxis": {
         "autorange": true,
         "range": [
          -0.5,
          18.5
         ],
         "type": "category"
        }
       }
      },
      "image/png": "[encoded data removed]",
      "text/html": [
       "<div>                            <div id=\"ec6b98da-55de-4893-9077-aeb2a5c5f7e3\" class=\"plotly-graph-div\" style=\"height:243px; width:990px;\"></div>            <script type=\"text/javascript\">                require([\"plotly\"], function(Plotly) {                    window.PLOTLYENV=window.PLOTLYENV || {};                                    if (document.getElementById(\"ec6b98da-55de-4893-9077-aeb2a5c5f7e3\")) {                    Plotly.newPlot(                        \"ec6b98da-55de-4893-9077-aeb2a5c5f7e3\",                        [{\"name\":\"Male\",\"orientation\":\"h\",\"x\":[1942.0,2301.0,2594.0,2713.0,2416.0,2111.0,2276.0,2952.0,3063.0,2634.0,2536.0,2004.0,1689.0,1585.0,1226.0,820.0,457.0,227.0,71.0,1872.0,2272.0,2527.0,2777.0,2421.0,2124.0,2248.0,2841.0,3153.0,2721.0,2524.0,2144.0,1756.0,1573.0,1245.0,857.0,486.0,217.0,71.0,1786.0,2169.0,2515.0,2774.0,2464.0,2147.0,2219.0,2630.0,3203.0,2866.0,2525.0,2239.0,1821.0,1600.0,1257.0,885.0,518.0,215.0,79.0,1742.0,2065.0,2529.0,2779.0,2490.0,2121.0,2174.0,2436.0,3238.0,2978.0,2550.0,2366.0,1837.0,1601.0,1299.0,920.0,533.0,209.0,79.0,1684.0,2061.0,2432.0,2768.0,2618.0,2184.0,2107.0,2373.0,3191.0,3075.0,2634.0,2504.0,1859.0,1563.0,1344.0,977.0,530.0,217.0,87.0,1680.0,1987.0,2379.0,2757.0,2724.0,2117.0,2087.0,2364.0,3035.0,3185.0,2699.0,2559.0,1938.0,1574.0,1377.0,993.0,590.0,235.0,68.0,1683.0,1923.0,2301.0,2646.0,2772.0,2127.0,2059.0,2313.0,2914.0,3192.0,2767.0,2514.0,2101.0,1627.0,1358.0,987.0,631.0,264.0,73.0,1716.0,1900.0,2191.0,2606.0,2746.0,2190.0,2039.0,2301.0,2695.0,3229.0,2863.0,2496.0,2169.0,1691.0,1391.0,1012.0,655.0,279.0,84.0,1719.0,1870.0,2097.0,2614.0,2750.0,2220.0,2055.0,2239.0,2511.0,3241.0,2945.0,2501.0,2309.0,1691.0,1416.0,1045.0,686.0,317.0,79.0,1753.0,1820.0,2051.0,2514.0,2765.0,2306.0,2107.0,2140.0,2439.0,3178.0,3067.0,2580.0,2418.0,1705.0,1400.0,1089.0,722.0,342.0,82.0,1753.0,1765.0,2024.0,2424.0,2730.0,2374.0,2116.0,2108.0,2404.0,3029.0,3176.0,2638.0,2446.0,1783.0,1390.0,1143.0,714.0,349.0,111.0,1762.0,1743.0,1991.0,2260.0,2634.0,2440.0,2112.0,2122.0,2338.0,2904.0,3155.0,2706.0,2411.0,1905.0,1425.0,1151.0,726.0,377.0,117.0,1711.0,1773.0,1967.0,2148.0,2570.0,2479.0,2106.0,2119.0,2281.0,2645.0,3180.0,2769.0,2401.0,1984.0,1499.0,1150.0,737.0,387.0,134.0,1728.0,1765.0,1906.0,2114.0,2516.0,2492.0,2112.0,2122.0,2248.0,2432.0,3163.0,2815.0,2400.0,2103.0,1490.0,1154.0,752.0,399.0,148.0,1762.0,1791.0,1848.0,2081.0,2412.0,2444.0,2169.0,2115.0,2150.0,2336.0,3057.0,2903.0,2449.0,2175.0,1485.0,1170.0,782.0,394.0,165.0,1774.0,1779.0,1792.0,2080.0,2335.0,2397.0,2219.0,2026.0,2112.0,2312.0,2932.0,2971.0,2499.0,2218.0,1514.0,1174.0,829.0,410.0,176.0,1751.0,1798.0,1796.0,2161.0,2516.0,2389.0,2263.0,2030.0,2101.0,2285.0,2821.0,2988.0,2561.0,2229.0,1648.0,1221.0,846.0,427.0,196.0,1743.0,1810.0,1825.0,2074.0,2591.0,2429.0,2303.0,2066.0,2095.0,2267.0,2614.0,3074.0,2629.0,2249.0,1740.0,1276.0,852.0,451.0,193.0,1734.0,1852.0,1844.0,1964.0,2488.0,2518.0,2353.0,2128.0,2115.0,2251.0,2403.0,3133.0,2709.0,2288.0,1879.0,1256.0,884.0,464.0,212.0,1674.0,1912.0,1901.0,1942.0,2327.0,2503.0,2404.0,2228.0,2167.0,2176.0,2311.0,3073.0,2830.0,2334.0,1982.0,1241.0,917.0,515.0,205.0,1648.0,1930.0,1908.0,1936.0,2299.0,2445.0,2513.0,2329.0,2144.0,2157.0,2315.0,2971.0,2951.0,2376.0,2039.0,1318.0,935.0,537.0,241.0,1579.0,1931.0,1933.0,2063.0,2846.0,2701.0,2600.0,2433.0,2143.0,2195.0,2333.0,2839.0,2996.0,2461.0,2026.0,1446.0,932.0,558.0,253.0,1508.0,1920.0,1968.0,2101.0,3413.0,3183.0,2809.0,2535.0,2222.0,2204.0,2342.0,2674.0,3068.0,2551.0,2045.0,1518.0,948.0,588.0,257.0],\"y\":[\"0 to 4 years\",\"5 to 9 years\",\"10 to 14 years\",\"15 to 19 years\",\"20 to 24 years\",\"25 to 29 years\",\"30 to 34 years\",\"35 to 39 years\",\"40 to 44 years\",\"45 to 49 years\",\"50 to 54 years\",\"55 to 59 years\",\"60 to 64 years\",\"65 to 69 years\",\"70 to 74 years\",\"75 to 79 years\",\"80 to 84 years\",\"85 to 89 years\",\"90 years +\"],\"type\":\"bar\"},{\"name\":\"Female\",\"orientation\":\"h\",\"x\":[-1847.0,-2268.0,-2471.0,-2607.0,-2439.0,-2106.0,-2284.0,-3107.0,-3060.0,-2739.0,-2604.0,-2090.0,-1855.0,-1583.0,-1401.0,-1237.0,-871.0,-505.0,-235.0,-1757.0,-2165.0,-2540.0,-2605.0,-2464.0,-2084.0,-2263.0,-2937.0,-3158.0,-2811.0,-2573.0,-2205.0,-1897.0,-1596.0,-1449.0,-1224.0,-905.0,-520.0,-243.0,-1690.0,-2095.0,-2526.0,-2596.0,-2475.0,-2107.0,-2253.0,-2749.0,-3225.0,-2867.0,-2592.0,-2316.0,-1961.0,-1623.0,-1484.0,-1216.0,-943.0,-536.0,-262.0,-1654.0,-2018.0,-2457.0,-2615.0,-2505.0,-2107.0,-2262.0,-2540.0,-3273.0,-2935.0,-2681.0,-2362.0,-2010.0,-1678.0,-1499.0,-1203.0,-998.0,-539.0,-275.0,-1644.0,-1944.0,-2414.0,-2580.0,-2634.0,-2160.0,-2179.0,-2393.0,-3282.0,-3033.0,-2749.0,-2503.0,-2027.0,-1725.0,-1488.0,-1234.0,-1000.0,-575.0,-281.0,-1664.0,-1860.0,-2333.0,-2585.0,-2693.0,-2145.0,-2138.0,-2304.0,-3203.0,-3112.0,-2823.0,-2581.0,-2074.0,-1776.0,-1502.0,-1254.0,-1020.0,-569.0,-295.0,-1587.0,-1821.0,-2190.0,-2664.0,-2668.0,-2207.0,-2059.0,-2296.0,-2969.0,-3193.0,-2871.0,-2581.0,-2156.0,-1809.0,-1498.0,-1305.0,-1007.0,-625.0,-291.0,-1621.0,-1782.0,-2122.0,-2664.0,-2585.0,-2252.0,-2068.0,-2268.0,-2757.0,-3246.0,-2916.0,-2574.0,-2249.0,-1882.0,-1508.0,-1346.0,-1000.0,-673.0,-315.0,-1664.0,-1753.0,-2036.0,-2587.0,-2546.0,-2296.0,-2058.0,-2266.0,-2532.0,-3285.0,-2944.0,-2647.0,-2298.0,-1936.0,-1551.0,-1339.0,-991.0,-715.0,-317.0,-1729.0,-1742.0,-1963.0,-2531.0,-2588.0,-2391.0,-2051.0,-2210.0,-2380.0,-3277.0,-3010.0,-2692.0,-2413.0,-1935.0,-1561.0,-1312.0,-1020.0,-714.0,-358.0,-1746.0,-1747.0,-1912.0,-2406.0,-2657.0,-2399.0,-2067.0,-2181.0,-2297.0,-3171.0,-3082.0,-2751.0,-2482.0,-1967.0,-1623.0,-1319.0,-1022.0,-699.0,-395.0,-1758.0,-1704.0,-1893.0,-2220.0,-2684.0,-2351.0,-2122.0,-2116.0,-2289.0,-2974.0,-3135.0,-2816.0,-2475.0,-2059.0,-1665.0,-1315.0,-1070.0,-680.0,-440.0,-1743.0,-1719.0,-1852.0,-2157.0,-2561.0,-2350.0,-2129.0,-2063.0,-2277.0,-2728.0,-3212.0,-2842.0,-2470.0,-2113.0,-1749.0,-1318.0,-1086.0,-651.0,-462.0,-1710.0,-1760.0,-1847.0,-2094.0,-2397.0,-2384.0,-2169.0,-2042.0,-2266.0,-2494.0,-3235.0,-2843.0,-2537.0,-2125.0,-1827.0,-1356.0,-1062.0,-665.0,-479.0,-1672.0,-1808.0,-1846.0,-2013.0,-2321.0,-2324.0,-2234.0,-1995.0,-2205.0,-2350.0,-3177.0,-2879.0,-2593.0,-2239.0,-1790.0,-1392.0,-1051.0,-684.0,-454.0,-1652.0,-1792.0,-1826.0,-1978.0,-2277.0,-2191.0,-2235.0,-2013.0,-2110.0,-2274.0,-3063.0,-2949.0,-2620.0,-2319.0,-1783.0,-1441.0,-1059.0,-705.0,-469.0,-1716.0,-1796.0,-1745.0,-2064.0,-2327.0,-2267.0,-2222.0,-2072.0,-2064.0,-2258.0,-2875.0,-3045.0,-2701.0,-2333.0,-1874.0,-1465.0,-1069.0,-725.0,-473.0,-1697.0,-1779.0,-1736.0,-1988.0,-2432.0,-2306.0,-2214.0,-2126.0,-2028.0,-2255.0,-2666.0,-3135.0,-2755.0,-2367.0,-1904.0,-1538.0,-1080.0,-746.0,-463.0,-1675.0,-1756.0,-1771.0,-1937.0,-2257.0,-2301.0,-2254.0,-2187.0,-2035.0,-2261.0,-2497.0,-3188.0,-2814.0,-2426.0,-1935.0,-1591.0,-1130.0,-704.0,-451.0,-1628.0,-1728.0,-1829.0,-1932.0,-2240.0,-2273.0,-2252.0,-2303.0,-2006.0,-2258.0,-2363.0,-3159.0,-2919.0,-2497.0,-2037.0,-1577.0,-1165.0,-714.0,-452.0,-1614.0,-1718.0,-1840.0,-1885.0,-2226.0,-2249.0,-2281.0,-2342.0,-2065.0,-2217.0,-2315.0,-3066.0,-3053.0,-2572.0,-2145.0,-1571.0,-1169.0,-741.0,-460.0,-1514.0,-1776.0,-1888.0,-1947.0,-2591.0,-2412.0,-2393.0,-2339.0,-2177.0,-2175.0,-2355.0,-2913.0,-3157.0,-2658.0,-2188.0,-1651.0,-1191.0,-753.0,-462.0,-1447.0,-1795.0,-1882.0,-1961.0,-3029.0,-2891.0,-2537.0,-2381.0,-2255.0,-2158.0,-2380.0,-2758.0,-3258.0,-2740.0,-2235.0,-1681.0,-1255.0,-776.0,-459.0],\"y\":[\"0 to 4 years\",\"5 to 9 years\",\"10 to 14 years\",\"15 to 19 years\",\"20 to 24 years\",\"25 to 29 years\",\"30 to 34 years\",\"35 to 39 years\",\"40 to 44 years\",\"45 to 49 years\",\"50 to 54 years\",\"55 to 59 years\",\"60 to 64 years\",\"65 to 69 years\",\"70 to 74 years\",\"75 to 79 years\",\"80 to 84 years\",\"85 to 89 years\",\"90 years +\"],\"type\":\"bar\"}],                        {\"template\":{\"data\":{\"histogram2dcontour\":[{\"type\":\"histogram2dcontour\",\"colorbar\":{\"outlinewidth\":0,\"ticks\":\"\"},\"colorscale\":[[0.0,\"#0d0887\"],[0.1111111111111111,\"#46039f\"],[0.2222222222222222,\"#7201a8\"],[0.3333333333333333,\"#9c179e\"],[0.4444444444444444,\"#bd3786\"],[0.5555555555555556,\"#d8576b\"],[0.6666666666666666,\"#ed7953\"],[0.7777777777777778,\"#fb9f3a\"],[0.8888888888888888,\"#fdca26\"],[1.0,\"#f0f921\"]]}],\"choropleth\":[{\"type\":\"choropleth\",\"colorbar\":{\"outlinewidth\":0,\"ticks\":\"\"}}],\"histogram2d\":[{\"type\":\"histogram2d\",\"colorbar\":{\"outlinewidth\":0,\"ticks\":\"\"},\"colorscale\":[[0.0,\"#0d0887\"],[0.1111111111111111,\"#46039f\"],[0.2222222222222222,\"#7201a8\"],[0.3333333333333333,\"#9c179e\"],[0.4444444444444444,\"#bd3786\"],[0.5555555555555556,\"#d8576b\"],[0.6666666666666666,\"#ed7953\"],[0.7777777777777778,\"#fb9f3a\"],[0.8888888888888888,\"#fdca26\"],[1.0,\"#f0f921\"]]}],\"heatmap\":[{\"type\":\"heatmap\",\"colorbar\":{\"outlinewidth\":0,\"ticks\":\"\"},\"colorscale\":[[0.0,\"#0d0887\"],[0.1111111111111111,\"#46039f\"],[0.2222222222222222,\"#7201a8\"],[0.3333333333333333,\"#9c179e\"],[0.4444444444444444,\"#bd3786\"],[0.5555555555555556,\"#d8576b\"],[0.6666666666666666,\"#ed7953\"],[0.7777777777777778,\"#fb9f3a\"],[0.8888888888888888,\"#fdca26\"],[1.0,\"#f0f921\"]]}],\"heatmapgl\":[{\"type\":\"heatmapgl\",\"colorbar\":{\"outlinewidth\":0,\"ticks\":\"\"},\"colorscale\":[[0.0,\"#0d0887\"],[0.1111111111111111,\"#46039f\"],[0.2222222222222222,\"#7201a8\"],[0.3333333333333333,\"#9c179e\"],[0.4444444444444444,\"#bd3786\"],[0.5555555555555556,\"#d8576b\"],[0.6666666666666666,\"#ed7953\"],[0.7777777777777778,\"#fb9f3a\"],[0.8888888888888888,\"#fdca26\"],[1.0,\"#f0f921\"]]}],\"contourcarpet\":[{\"type\":\"contourcarpet\",\"colorbar\":{\"outlinewidth\":0,\"ticks\":\"\"}}],\"contour\":[{\"type\":\"contour\",\"colorbar\":{\"outlinewidth\":0,\"ticks\":\"\"},\"colorscale\":[[0.0,\"#0d0887\"],[0.1111111111111111,\"#46039f\"],[0.2222222222222222,\"#7201a8\"],[0.3333333333333333,\"#9c179e\"],[0.4444444444444444,\"#bd3786\"],[0.5555555555555556,\"#d8576b\"],[0.6666666666666666,\"#ed7953\"],[0.7777777777777778,\"#fb9f3a\"],[0.8888888888888888,\"#fdca26\"],[1.0,\"#f0f921\"]]}],\"surface\":[{\"type\":\"surface\",\"colorbar\":{\"outlinewidth\":0,\"ticks\":\"\"},\"colorscale\":[[0.0,\"#0d0887\"],[0.1111111111111111,\"#46039f\"],[0.2222222222222222,\"#7201a8\"],[0.3333333333333333,\"#9c179e\"],[0.4444444444444444,\"#bd3786\"],[0.5555555555555556,\"#d8576b\"],[0.6666666666666666,\"#ed7953\"],[0.7777777777777778,\"#fb9f3a\"],[0.8888888888888888,\"#fdca26\"],[1.0,\"#f0f921\"]]}],\"mesh3d\":[{\"type\":\"mesh3d\",\"colorbar\":{\"outlinewidth\":0,\"ticks\":\"\"}}],\"scatter\":[{\"fillpattern\":{\"fillmode\":\"overlay\",\"size\":10,\"solidity\":0.2},\"type\":\"scatter\"}],\"parcoords\":[{\"type\":\"parcoords\",\"line\":{\"colorbar\":{\"outlinewidth\":0,\"ticks\":\"\"}}}],\"scatterpolargl\":[{\"type\":\"scatterpolargl\",\"marker\":{\"colorbar\":{\"outlinewidth\":0,\"ticks\":\"\"}}}],\"bar\":[{\"error_x\":{\"color\":\"#2a3f5f\"},\"error_y\":{\"color\":\"#2a3f5f\"},\"marker\":{\"line\":{\"color\":\"#E5ECF6\",\"width\":0.5},\"pattern\":{\"fillmode\":\"overlay\",\"size\":10,\"solidity\":0.2}},\"type\":\"bar\"}],\"scattergeo\":[{\"type\":\"scattergeo\",\"marker\":{\"colorbar\":{\"outlinewidth\":0,\"ticks\":\"\"}}}],\"scatterpolar\":[{\"type\":\"scatterpolar\",\"marker\":{\"colorbar\":{\"outlinewidth\":0,\"ticks\":\"\"}}}],\"histogram\":[{\"marker\":{\"pattern\":{\"fillmode\":\"overlay\",\"size\":10,\"solidity\":0.2}},\"type\":\"histogram\"}],\"scattergl\":[{\"type\":\"scattergl\",\"marker\":{\"colorbar\":{\"outlinewidth\":0,\"ticks\":\"\"}}}],\"scatter3d\":[{\"type\":\"scatter3d\",\"line\":{\"colorbar\":{\"outlinewidth\":0,\"ticks\":\"\"}},\"marker\":{\"colorbar\":{\"outlinewidth\":0,\"ticks\":\"\"}}}],\"scattermapbox\":[{\"type\":\"scattermapbox\",\"marker\":{\"colorbar\":{\"outlinewidth\":0,\"ticks\":\"\"}}}],\"scatterternary\":[{\"type\":\"scatterternary\",\"marker\":{\"colorbar\":{\"outlinewidth\":0,\"ticks\":\"\"}}}],\"scattercarpet\":[{\"type\":\"scattercarpet\",\"marker\":{\"colorbar\":{\"outlinewidth\":0,\"ticks\":\"\"}}}],\"carpet\":[{\"aaxis\":{\"endlinecolor\":\"#2a3f5f\",\"gridcolor\":\"white\",\"linecolor\":\"white\",\"minorgridcolor\":\"white\",\"startlinecolor\":\"#2a3f5f\"},\"baxis\":{\"endlinecolor\":\"#2a3f5f\",\"gridcolor\":\"white\",\"linecolor\":\"white\",\"minorgridcolor\":\"white\",\"startlinecolor\":\"#2a3f5f\"},\"type\":\"carpet\"}],\"table\":[{\"cells\":{\"fill\":{\"color\":\"#EBF0F8\"},\"line\":{\"color\":\"white\"}},\"header\":{\"fill\":{\"color\":\"#C8D4E3\"},\"line\":{\"color\":\"white\"}},\"type\":\"table\"}],\"barpolar\":[{\"marker\":{\"line\":{\"color\":\"#E5ECF6\",\"width\":0.5},\"pattern\":{\"fillmode\":\"overlay\",\"size\":10,\"solidity\":0.2}},\"type\":\"barpolar\"}],\"pie\":[{\"automargin\":true,\"type\":\"pie\"}]},\"layout\":{\"autotypenumbers\":\"strict\",\"colorway\":[\"#636efa\",\"#EF553B\",\"#00cc96\",\"#ab63fa\",\"#FFA15A\",\"#19d3f3\",\"#FF6692\",\"#B6E880\",\"#FF97FF\",\"#FECB52\"],\"font\":{\"color\":\"#2a3f5f\"},\"hovermode\":\"closest\",\"hoverlabel\":{\"align\":\"left\"},\"paper_bgcolor\":\"white\",\"plot_bgcolor\":\"#E5ECF6\",\"polar\":{\"bgcolor\":\"#E5ECF6\",\"angularaxis\":{\"gridcolor\":\"white\",\"linecolor\":\"white\",\"ticks\":\"\"},\"radialaxis\":{\"gridcolor\":\"white\",\"linecolor\":\"white\",\"ticks\":\"\"}},\"ternary\":{\"bgcolor\":\"#E5ECF6\",\"aaxis\":{\"gridcolor\":\"white\",\"linecolor\":\"white\",\"ticks\":\"\"},\"baxis\":{\"gridcolor\":\"white\",\"linecolor\":\"white\",\"ticks\":\"\"},\"caxis\":{\"gridcolor\":\"white\",\"linecolor\":\"white\",\"ticks\":\"\"}},\"coloraxis\":{\"colorbar\":{\"outlinewidth\":0,\"ticks\":\"\"}},\"colorscale\":{\"sequential\":[[0.0,\"#0d0887\"],[0.1111111111111111,\"#46039f\"],[0.2222222222222222,\"#7201a8\"],[0.3333333333333333,\"#9c179e\"],[0.4444444444444444,\"#bd3786\"],[0.5555555555555556,\"#d8576b\"],[0.6666666666666666,\"#ed7953\"],[0.7777777777777778,\"#fb9f3a\"],[0.8888888888888888,\"#fdca26\"],[1.0,\"#f0f921\"]],\"sequentialminus\":[[0.0,\"#0d0887\"],[0.1111111111111111,\"#46039f\"],[0.2222222222222222,\"#7201a8\"],[0.3333333333333333,\"#9c179e\"],[0.4444444444444444,\"#bd3786\"],[0.5555555555555556,\"#d8576b\"],[0.6666666666666666,\"#ed7953\"],[0.7777777777777778,\"#fb9f3a\"],[0.8888888888888888,\"#fdca26\"],[1.0,\"#f0f921\"]],\"diverging\":[[0,\"#8e0152\"],[0.1,\"#c51b7d\"],[0.2,\"#de77ae\"],[0.3,\"#f1b6da\"],[0.4,\"#fde0ef\"],[0.5,\"#f7f7f7\"],[0.6,\"#e6f5d0\"],[0.7,\"#b8e186\"],[0.8,\"#7fbc41\"],[0.9,\"#4d9221\"],[1,\"#276419\"]]},\"xaxis\":{\"gridcolor\":\"white\",\"linecolor\":\"white\",\"ticks\":\"\",\"title\":{\"standoff\":15},\"zerolinecolor\":\"white\",\"automargin\":true,\"zerolinewidth\":2},\"yaxis\":{\"gridcolor\":\"white\",\"linecolor\":\"white\",\"ticks\":\"\",\"title\":{\"standoff\":15},\"zerolinecolor\":\"white\",\"automargin\":true,\"zerolinewidth\":2},\"scene\":{\"xaxis\":{\"backgroundcolor\":\"#E5ECF6\",\"gridcolor\":\"white\",\"linecolor\":\"white\",\"showbackground\":true,\"ticks\":\"\",\"zerolinecolor\":\"white\",\"gridwidth\":2},\"yaxis\":{\"backgroundcolor\":\"#E5ECF6\",\"gridcolor\":\"white\",\"linecolor\":\"white\",\"showbackground\":true,\"ticks\":\"\",\"zerolinecolor\":\"white\",\"gridwidth\":2},\"zaxis\":{\"backgroundcolor\":\"#E5ECF6\",\"gridcolor\":\"white\",\"linecolor\":\"white\",\"showbackground\":true,\"ticks\":\"\",\"zerolinecolor\":\"white\",\"gridwidth\":2}},\"shapedefaults\":{\"line\":{\"color\":\"#2a3f5f\"}},\"annotationdefaults\":{\"arrowcolor\":\"#2a3f5f\",\"arrowhead\":0,\"arrowwidth\":1},\"geo\":{\"bgcolor\":\"white\",\"landcolor\":\"#E5ECF6\",\"subunitcolor\":\"white\",\"showland\":true,\"showlakes\":true,\"lakecolor\":\"white\"},\"title\":{\"x\":0.05},\"mapbox\":{\"style\":\"light\"}}},\"xaxis\":{\"tickvals\":[-3000,-2000,-1000,0,1000,2000,3000],\"ticktext\":[\"3000\",\"2000\",\"1000\",\"0\",\"1000\",\"2000\",\"3000\"]},\"margin\":{\"l\":1,\"r\":1,\"t\":40,\"b\":1},\"title\":{\"text\":\"Population Pyramid - North Bay\"},\"barmode\":\"relative\",\"bargap\":0.0,\"bargroupgap\":0,\"width\":990,\"height\":243},                        {\"responsive\": true}                    ).then(function(){\n",
       "                            \n",
       "var gd = document.getElementById('ec6b98da-55de-4893-9077-aeb2a5c5f7e3');\n",
       "var x = new MutationObserver(function (mutations, observer) {{\n",
       "        var display = window.getComputedStyle(gd).display;\n",
       "        if (!display || display === 'none') {{\n",
       "            console.log([gd, 'removed!']);\n",
       "            Plotly.purge(gd);\n",
       "            observer.disconnect();\n",
       "        }}\n",
       "}});\n",
       "\n",
       "// Listen for the removal of the full notebook cells\n",
       "var notebookContainer = gd.closest('#notebook-container');\n",
       "if (notebookContainer) {{\n",
       "    x.observe(notebookContainer, {childList: true});\n",
       "}}\n",
       "\n",
       "// Listen for the clearing of the current output cell\n",
       "var outputEl = gd.closest('.output');\n",
       "if (outputEl) {{\n",
       "    x.observe(outputEl, {childList: true});\n",
       "}}\n",
       "\n",
       "                        })                };                });            </script>        </div>"
      ]
     },
     "metadata": {},
     "output_type": "display_data"
    }
   ],
   "source": [
    "y_age = df_dg['Age group'].unique()\n",
    "x_Male = df_dg['VALUE'].loc[(df_dg['Gender']=='Men+')]\n",
    "x_Female = df_dg['VALUE'].loc[(df_dg['Gender']=='Women+')] * -1\n",
    "fig= go.Figure()\n",
    "fig.add_trace(go.Bar(y =  y_age, x=x_Male, name = 'Male', orientation= 'h', ))\n",
    "fig.add_trace(go.Bar(y =  y_age, x=x_Female, name = 'Female', orientation= 'h', ))\n",
    "fig.update_layout(title='Population Pyramid - North Bay',\n",
    "                  barmode = 'relative', \n",
    "                  bargap = 0.0, bargroupgap = 0, \n",
    "                  xaxis = dict(tickvals = [-3000, -2000, -1000, \n",
    "                                           0, 1000, 2000, 3000], \n",
    "                                \n",
    "                              ticktext = ['3000', '2000', '1000', '0',  \n",
    "                                          '1000', '2000', '3000'], \n",
    "                                \n",
    "                              # title = 'Population', \n",
    "                              # title_font_size = 10\n",
    "                              ),\n",
    "                  width=990,\n",
    "                  height=243,\n",
    "                  margin=dict(l=1, r=1, t=40, b=1),\n",
    "                 ) \n",
    "  \n",
    "fig.show()"
   ]
  },
  {
   "cell_type": "code",
   "execution_count": 220,
   "id": "97e19c84-bd0f-438b-a9bb-74c144c7ee91",
   "metadata": {},
   "outputs": [
    {
     "name": "stderr",
     "output_type": "stream",
     "text": [
      "C:\\Users\\johna\\AppData\\Local\\Temp\\ipykernel_133056\\3257056526.py:5: SettingWithCopyWarning:\n",
      "\n",
      "\n",
      "A value is trying to be set on a copy of a slice from a DataFrame\n",
      "\n",
      "See the caveats in the documentation: https://pandas.pydata.org/pandas-docs/stable/user_guide/indexing.html#returning-a-view-versus-a-copy\n",
      "\n"
     ]
    }
   ],
   "source": [
    "#Import Data from Stats Canada\n",
    "df = sc.table_to_df(\"14-10-0137-01\") # Count of Persons claiming EI per week\n",
    "df.rename(columns = {'REF_DATE':'Date'}, inplace=True)\n",
    "df_ei = df.loc[(df['GEO'].isin(getLocation)) & (df['Age group'] == '15 years and over')]\n",
    "df_ei.rename(columns = {'VALUE':'Claimants'}, inplace=True)\n",
    "df = sc.table_to_df(\"14-10-0391-01\") # Labour force characteristics by year for 5 years\n",
    "df.rename(columns = {'REF_DATE':'Date'}, inplace=True)\n",
    "df_lf= df.loc[df['GEO'].isin((getLocation))]\n",
    "df = sc.table_to_df(\"11-10-0072-01\") # Wages Salearies and  commissions of tax filers by sex and age group\n",
    "df.rename(columns = {'REF_DATE':'Date'}, inplace=True)\n",
    "df_ws= df.loc[(df['GEO'].isin(getLocation)) & (df['Age group']=='Ages 15 years and over')]\n",
    "df=''"
   ]
  },
  {
   "cell_type": "code",
   "execution_count": 135,
   "id": "7b73b171-b864-46ef-a08a-4b71768cd307",
   "metadata": {
    "scrolled": true
   },
   "outputs": [
    {
     "data": {
      "text/plain": [
       "['All types of income benefits',\n",
       " 'Regular benefits',\n",
       " 'Regular benefits with declared earnings',\n",
       " 'Regular benefits without declared earnings']"
      ]
     },
     "execution_count": 135,
     "metadata": {},
     "output_type": "execute_result"
    }
   ],
   "source": [
    "#set up drop lists \n",
    "sex_list = df_ei['Sex'].unique().tolist()\n",
    "beneficiary_list = df_ei['Beneficiary detail'].unique().tolist()\n",
    "characteristic_list= df_lf['Labour force characteristics'].unique().tolist()\n",
    "age_group_list = df_ei['Age group'].unique().tolist()\n",
    "income_statistic_list = df_ws['Statistics'].unique().tolist()\n",
    "beneficiary_list\n",
    "\n"
   ]
  },
  {
   "cell_type": "code",
   "execution_count": 114,
   "id": "a3d1c447-c38f-46f2-a565-b1f050e00f1f",
   "metadata": {},
   "outputs": [],
   "source": [
    "UOM = df_ws[['Statistics', 'UOM']]\n",
    "UOM=UOM.drop_duplicates()\n",
    "# mytable.set_index(['Statistics', 'UOM'], inplace=True)"
   ]
  },
  {
   "cell_type": "code",
   "execution_count": 115,
   "id": "437ec8e4-4600-4a91-a2e9-77400e0634fe",
   "metadata": {},
   "outputs": [],
   "source": [
    "UOM=UOM.rename(columns={'Statistics':'Measure'})"
   ]
  },
  {
   "cell_type": "code",
   "execution_count": 116,
   "id": "0871b478-07f8-492c-982d-18ac5464bb0a",
   "metadata": {},
   "outputs": [
    {
     "data": {
      "text/html": [
       "<div>\n",
       "<style scoped>\n",
       "    .dataframe tbody tr th:only-of-type {\n",
       "        vertical-align: middle;\n",
       "    }\n",
       "\n",
       "    .dataframe tbody tr th {\n",
       "        vertical-align: top;\n",
       "    }\n",
       "\n",
       "    .dataframe thead th {\n",
       "        text-align: right;\n",
       "    }\n",
       "</style>\n",
       "<table border=\"1\" class=\"dataframe\">\n",
       "  <thead>\n",
       "    <tr style=\"text-align: right;\">\n",
       "      <th></th>\n",
       "      <th>Measure</th>\n",
       "      <th>UOM</th>\n",
       "    </tr>\n",
       "  </thead>\n",
       "  <tbody>\n",
       "    <tr>\n",
       "      <th>136</th>\n",
       "      <td>Population</td>\n",
       "      <td>Persons</td>\n",
       "    </tr>\n",
       "    <tr>\n",
       "      <th>137</th>\n",
       "      <td>Labour force</td>\n",
       "      <td>Persons</td>\n",
       "    </tr>\n",
       "    <tr>\n",
       "      <th>138</th>\n",
       "      <td>Employment</td>\n",
       "      <td>Persons</td>\n",
       "    </tr>\n",
       "    <tr>\n",
       "      <th>139</th>\n",
       "      <td>Unemployment</td>\n",
       "      <td>Persons</td>\n",
       "    </tr>\n",
       "    <tr>\n",
       "      <th>140</th>\n",
       "      <td>Not in labour force</td>\n",
       "      <td>Persons</td>\n",
       "    </tr>\n",
       "    <tr>\n",
       "      <th>141</th>\n",
       "      <td>Unemployment rate</td>\n",
       "      <td>Percentage</td>\n",
       "    </tr>\n",
       "    <tr>\n",
       "      <th>142</th>\n",
       "      <td>Participation rate</td>\n",
       "      <td>Percentage</td>\n",
       "    </tr>\n",
       "    <tr>\n",
       "      <th>143</th>\n",
       "      <td>Employment rate</td>\n",
       "      <td>Percentage</td>\n",
       "    </tr>\n",
       "  </tbody>\n",
       "</table>\n",
       "</div>"
      ],
      "text/plain": [
       "                 Measure         UOM\n",
       "136           Population     Persons\n",
       "137         Labour force     Persons\n",
       "138           Employment     Persons\n",
       "139         Unemployment     Persons\n",
       "140  Not in labour force     Persons\n",
       "141    Unemployment rate  Percentage\n",
       "142   Participation rate  Percentage\n",
       "143      Employment rate  Percentage"
      ]
     },
     "execution_count": 116,
     "metadata": {},
     "output_type": "execute_result"
    }
   ],
   "source": [
    "temp_df=df_lf[['Labour force characteristics', 'UOM']]\n",
    "temp_df=temp_df.drop_duplicates()\n",
    "temp_df=temp_df.rename(columns={'Labour force characteristics':'Measure'})\n",
    "temp_df"
   ]
  },
  {
   "cell_type": "code",
   "execution_count": 117,
   "id": "41eda4aa-6d57-43ba-aaf3-c547fb35a96c",
   "metadata": {},
   "outputs": [
    {
     "data": {
      "text/html": [
       "<div>\n",
       "<style scoped>\n",
       "    .dataframe tbody tr th:only-of-type {\n",
       "        vertical-align: middle;\n",
       "    }\n",
       "\n",
       "    .dataframe tbody tr th {\n",
       "        vertical-align: top;\n",
       "    }\n",
       "\n",
       "    .dataframe thead th {\n",
       "        text-align: right;\n",
       "    }\n",
       "</style>\n",
       "<table border=\"1\" class=\"dataframe\">\n",
       "  <thead>\n",
       "    <tr style=\"text-align: right;\">\n",
       "      <th></th>\n",
       "      <th>Measure</th>\n",
       "      <th>UOM</th>\n",
       "    </tr>\n",
       "  </thead>\n",
       "  <tbody>\n",
       "    <tr>\n",
       "      <th>0</th>\n",
       "      <td>Count of tax filers with wages, salaries and commissions</td>\n",
       "      <td>Number</td>\n",
       "    </tr>\n",
       "    <tr>\n",
       "      <th>1</th>\n",
       "      <td>Percentage of tax filers with wages, salaries and commissions</td>\n",
       "      <td>Percent</td>\n",
       "    </tr>\n",
       "    <tr>\n",
       "      <th>2</th>\n",
       "      <td>25th percentile of wages, salaries and commissions</td>\n",
       "      <td>Dollars</td>\n",
       "    </tr>\n",
       "    <tr>\n",
       "      <th>3</th>\n",
       "      <td>Median wages, salaries and commissions</td>\n",
       "      <td>Dollars</td>\n",
       "    </tr>\n",
       "    <tr>\n",
       "      <th>4</th>\n",
       "      <td>75th percentile of wages, salaries and commissions</td>\n",
       "      <td>Dollars</td>\n",
       "    </tr>\n",
       "    <tr>\n",
       "      <th>5</th>\n",
       "      <td>Median total income</td>\n",
       "      <td>Dollars</td>\n",
       "    </tr>\n",
       "    <tr>\n",
       "      <th>6</th>\n",
       "      <td>Population</td>\n",
       "      <td>Persons</td>\n",
       "    </tr>\n",
       "    <tr>\n",
       "      <th>7</th>\n",
       "      <td>Labour force</td>\n",
       "      <td>Persons</td>\n",
       "    </tr>\n",
       "    <tr>\n",
       "      <th>8</th>\n",
       "      <td>Employment</td>\n",
       "      <td>Persons</td>\n",
       "    </tr>\n",
       "    <tr>\n",
       "      <th>9</th>\n",
       "      <td>Unemployment</td>\n",
       "      <td>Persons</td>\n",
       "    </tr>\n",
       "    <tr>\n",
       "      <th>10</th>\n",
       "      <td>Not in labour force</td>\n",
       "      <td>Persons</td>\n",
       "    </tr>\n",
       "    <tr>\n",
       "      <th>11</th>\n",
       "      <td>Unemployment rate</td>\n",
       "      <td>Percentage</td>\n",
       "    </tr>\n",
       "    <tr>\n",
       "      <th>12</th>\n",
       "      <td>Participation rate</td>\n",
       "      <td>Percentage</td>\n",
       "    </tr>\n",
       "    <tr>\n",
       "      <th>13</th>\n",
       "      <td>Employment rate</td>\n",
       "      <td>Percentage</td>\n",
       "    </tr>\n",
       "  </tbody>\n",
       "</table>\n",
       "</div>"
      ],
      "text/plain": [
       "                                                          Measure         UOM\n",
       "0        Count of tax filers with wages, salaries and commissions      Number\n",
       "1   Percentage of tax filers with wages, salaries and commissions     Percent\n",
       "2              25th percentile of wages, salaries and commissions     Dollars\n",
       "3                          Median wages, salaries and commissions     Dollars\n",
       "4              75th percentile of wages, salaries and commissions     Dollars\n",
       "5                                             Median total income     Dollars\n",
       "6                                                      Population     Persons\n",
       "7                                                    Labour force     Persons\n",
       "8                                                      Employment     Persons\n",
       "9                                                    Unemployment     Persons\n",
       "10                                            Not in labour force     Persons\n",
       "11                                              Unemployment rate  Percentage\n",
       "12                                             Participation rate  Percentage\n",
       "13                                                Employment rate  Percentage"
      ]
     },
     "execution_count": 117,
     "metadata": {},
     "output_type": "execute_result"
    }
   ],
   "source": [
    "UOM=pd.concat([UOM, temp_df], ignore_index = True)\n",
    "UOM"
   ]
  },
  {
   "cell_type": "code",
   "execution_count": 118,
   "id": "8598d95c-2d09-49b5-a139-36b90910897b",
   "metadata": {},
   "outputs": [],
   "source": [
    "beneficiary_list = df_ei['Beneficiary detail'].unique().tolist()"
   ]
  },
  {
   "cell_type": "code",
   "execution_count": 119,
   "id": "80d47c2e-4fc2-49ff-acf5-d73aa5a18457",
   "metadata": {},
   "outputs": [
    {
     "name": "stdout",
     "output_type": "stream",
     "text": [
      "<class 'pandas.core.frame.DataFrame'>\n",
      "Index: 3492 entries, 10920 to 6003557\n",
      "Data columns (total 17 columns):\n",
      " #   Column              Non-Null Count  Dtype         \n",
      "---  ------              --------------  -----         \n",
      " 0   Date                3492 non-null   datetime64[ns]\n",
      " 1   GEO                 3492 non-null   category      \n",
      " 2   DGUID               3492 non-null   category      \n",
      " 3   Beneficiary detail  3492 non-null   object        \n",
      " 4   Sex                 3492 non-null   category      \n",
      " 5   Age group           3492 non-null   category      \n",
      " 6   UOM                 3492 non-null   category      \n",
      " 7   UOM_ID              3492 non-null   category      \n",
      " 8   SCALAR_FACTOR       3492 non-null   category      \n",
      " 9   SCALAR_ID           3492 non-null   category      \n",
      " 10  VECTOR              3492 non-null   category      \n",
      " 11  COORDINATE          3492 non-null   category      \n",
      " 12  Claimants           3492 non-null   float64       \n",
      " 13  STATUS              0 non-null      category      \n",
      " 14  SYMBOL              0 non-null      category      \n",
      " 15  TERMINATED          0 non-null      category      \n",
      " 16  DECIMALS            3492 non-null   category      \n",
      "dtypes: category(14), datetime64[ns](1), float64(1), object(1)\n",
      "memory usage: 1.5+ MB\n"
     ]
    }
   ],
   "source": [
    "df_ei.info()"
   ]
  },
  {
   "cell_type": "code",
   "execution_count": 120,
   "id": "29808081-3184-4328-8cb1-7b3f1cc59270",
   "metadata": {},
   "outputs": [
    {
     "name": "stderr",
     "output_type": "stream",
     "text": [
      "C:\\Users\\johna\\AppData\\Local\\Temp\\ipykernel_133056\\725738697.py:3: FutureWarning:\n",
      "\n",
      "The behavior of Series.replace (and DataFrame.replace) with CategoricalDtype is deprecated. In a future version, replace will only be used for cases that preserve the categories. To change the categories, use ser.cat.rename_categories instead.\n",
      "\n"
     ]
    },
    {
     "data": {
      "text/html": [
       "<div>\n",
       "<style scoped>\n",
       "    .dataframe tbody tr th:only-of-type {\n",
       "        vertical-align: middle;\n",
       "    }\n",
       "\n",
       "    .dataframe tbody tr th {\n",
       "        vertical-align: top;\n",
       "    }\n",
       "\n",
       "    .dataframe thead th {\n",
       "        text-align: right;\n",
       "    }\n",
       "</style>\n",
       "<table border=\"1\" class=\"dataframe\">\n",
       "  <thead>\n",
       "    <tr style=\"text-align: right;\">\n",
       "      <th></th>\n",
       "      <th>Measure</th>\n",
       "      <th>UOM</th>\n",
       "    </tr>\n",
       "  </thead>\n",
       "  <tbody>\n",
       "    <tr>\n",
       "      <th>10920</th>\n",
       "      <td>All types of income benefits</td>\n",
       "      <td>Claimants</td>\n",
       "    </tr>\n",
       "    <tr>\n",
       "      <th>10941</th>\n",
       "      <td>Regular benefits</td>\n",
       "      <td>Claimants</td>\n",
       "    </tr>\n",
       "    <tr>\n",
       "      <th>10962</th>\n",
       "      <td>Regular benefits with declared earnings</td>\n",
       "      <td>Claimants</td>\n",
       "    </tr>\n",
       "    <tr>\n",
       "      <th>10983</th>\n",
       "      <td>Regular benefits without declared earnings</td>\n",
       "      <td>Claimants</td>\n",
       "    </tr>\n",
       "  </tbody>\n",
       "</table>\n",
       "</div>"
      ],
      "text/plain": [
       "                                          Measure        UOM\n",
       "10920                All types of income benefits  Claimants\n",
       "10941                            Regular benefits  Claimants\n",
       "10962     Regular benefits with declared earnings  Claimants\n",
       "10983  Regular benefits without declared earnings  Claimants"
      ]
     },
     "execution_count": 120,
     "metadata": {},
     "output_type": "execute_result"
    }
   ],
   "source": [
    "temp_df=df_ei[['Beneficiary detail', 'UOM']]\n",
    "temp_df=temp_df.drop_duplicates()\n",
    "temp_df=temp_df.replace(to_replace='Persons', value='Claimants')\n",
    "temp_df=temp_df.rename(columns={'Beneficiary detail':'Measure'})\n",
    "temp_df"
   ]
  },
  {
   "cell_type": "code",
   "execution_count": 121,
   "id": "7aacef66-0463-471d-ac81-54bf6e35011d",
   "metadata": {},
   "outputs": [
    {
     "data": {
      "text/html": [
       "<div>\n",
       "<style scoped>\n",
       "    .dataframe tbody tr th:only-of-type {\n",
       "        vertical-align: middle;\n",
       "    }\n",
       "\n",
       "    .dataframe tbody tr th {\n",
       "        vertical-align: top;\n",
       "    }\n",
       "\n",
       "    .dataframe thead th {\n",
       "        text-align: right;\n",
       "    }\n",
       "</style>\n",
       "<table border=\"1\" class=\"dataframe\">\n",
       "  <thead>\n",
       "    <tr style=\"text-align: right;\">\n",
       "      <th></th>\n",
       "      <th>Measure</th>\n",
       "      <th>UOM</th>\n",
       "    </tr>\n",
       "  </thead>\n",
       "  <tbody>\n",
       "    <tr>\n",
       "      <th>0</th>\n",
       "      <td>Count of tax filers with wages, salaries and commissions</td>\n",
       "      <td>Number</td>\n",
       "    </tr>\n",
       "    <tr>\n",
       "      <th>1</th>\n",
       "      <td>Percentage of tax filers with wages, salaries and commissions</td>\n",
       "      <td>Percent</td>\n",
       "    </tr>\n",
       "    <tr>\n",
       "      <th>2</th>\n",
       "      <td>25th percentile of wages, salaries and commissions</td>\n",
       "      <td>Dollars</td>\n",
       "    </tr>\n",
       "    <tr>\n",
       "      <th>3</th>\n",
       "      <td>Median wages, salaries and commissions</td>\n",
       "      <td>Dollars</td>\n",
       "    </tr>\n",
       "    <tr>\n",
       "      <th>4</th>\n",
       "      <td>75th percentile of wages, salaries and commissions</td>\n",
       "      <td>Dollars</td>\n",
       "    </tr>\n",
       "    <tr>\n",
       "      <th>5</th>\n",
       "      <td>Median total income</td>\n",
       "      <td>Dollars</td>\n",
       "    </tr>\n",
       "    <tr>\n",
       "      <th>6</th>\n",
       "      <td>Population</td>\n",
       "      <td>Persons</td>\n",
       "    </tr>\n",
       "    <tr>\n",
       "      <th>7</th>\n",
       "      <td>Labour force</td>\n",
       "      <td>Persons</td>\n",
       "    </tr>\n",
       "    <tr>\n",
       "      <th>8</th>\n",
       "      <td>Employment</td>\n",
       "      <td>Persons</td>\n",
       "    </tr>\n",
       "    <tr>\n",
       "      <th>9</th>\n",
       "      <td>Unemployment</td>\n",
       "      <td>Persons</td>\n",
       "    </tr>\n",
       "    <tr>\n",
       "      <th>10</th>\n",
       "      <td>Not in labour force</td>\n",
       "      <td>Persons</td>\n",
       "    </tr>\n",
       "    <tr>\n",
       "      <th>11</th>\n",
       "      <td>Unemployment rate</td>\n",
       "      <td>Percentage</td>\n",
       "    </tr>\n",
       "    <tr>\n",
       "      <th>12</th>\n",
       "      <td>Participation rate</td>\n",
       "      <td>Percentage</td>\n",
       "    </tr>\n",
       "    <tr>\n",
       "      <th>13</th>\n",
       "      <td>Employment rate</td>\n",
       "      <td>Percentage</td>\n",
       "    </tr>\n",
       "    <tr>\n",
       "      <th>14</th>\n",
       "      <td>All types of income benefits</td>\n",
       "      <td>Claimants</td>\n",
       "    </tr>\n",
       "    <tr>\n",
       "      <th>15</th>\n",
       "      <td>Regular benefits</td>\n",
       "      <td>Claimants</td>\n",
       "    </tr>\n",
       "    <tr>\n",
       "      <th>16</th>\n",
       "      <td>Regular benefits with declared earnings</td>\n",
       "      <td>Claimants</td>\n",
       "    </tr>\n",
       "    <tr>\n",
       "      <th>17</th>\n",
       "      <td>Regular benefits without declared earnings</td>\n",
       "      <td>Claimants</td>\n",
       "    </tr>\n",
       "  </tbody>\n",
       "</table>\n",
       "</div>"
      ],
      "text/plain": [
       "                                                          Measure         UOM\n",
       "0        Count of tax filers with wages, salaries and commissions      Number\n",
       "1   Percentage of tax filers with wages, salaries and commissions     Percent\n",
       "2              25th percentile of wages, salaries and commissions     Dollars\n",
       "3                          Median wages, salaries and commissions     Dollars\n",
       "4              75th percentile of wages, salaries and commissions     Dollars\n",
       "5                                             Median total income     Dollars\n",
       "6                                                      Population     Persons\n",
       "7                                                    Labour force     Persons\n",
       "8                                                      Employment     Persons\n",
       "9                                                    Unemployment     Persons\n",
       "10                                            Not in labour force     Persons\n",
       "11                                              Unemployment rate  Percentage\n",
       "12                                             Participation rate  Percentage\n",
       "13                                                Employment rate  Percentage\n",
       "14                                   All types of income benefits   Claimants\n",
       "15                                               Regular benefits   Claimants\n",
       "16                        Regular benefits with declared earnings   Claimants\n",
       "17                     Regular benefits without declared earnings   Claimants"
      ]
     },
     "execution_count": 121,
     "metadata": {},
     "output_type": "execute_result"
    }
   ],
   "source": [
    "UOM=pd.concat([UOM, temp_df], ignore_index = True)\n",
    "UOM"
   ]
  },
  {
   "cell_type": "code",
   "execution_count": 122,
   "id": "3c513dfb-5963-4cf7-9d9e-476198baa6e8",
   "metadata": {},
   "outputs": [
    {
     "data": {
      "text/plain": [
       "['Population',\n",
       " 'Labour force',\n",
       " 'Employment',\n",
       " 'Unemployment',\n",
       " 'Not in labour force',\n",
       " 'Unemployment rate',\n",
       " 'Participation rate',\n",
       " 'Employment rate']"
      ]
     },
     "execution_count": 122,
     "metadata": {},
     "output_type": "execute_result"
    }
   ],
   "source": [
    "characteristic_list"
   ]
  },
  {
   "cell_type": "code",
   "execution_count": 123,
   "id": "b6ad4a03-6e6d-432f-b3c4-b1af4f66624f",
   "metadata": {},
   "outputs": [
    {
     "data": {
      "application/vnd.plotly.v1+json": {
       "config": {
        "plotlyServerURL": "https://plot.ly"
       },
       "data": [
        {
         "hovertemplate": "Labour force characteristics=Population<br>Date=%{x}<br>VALUE=%{marker.size}<extra></extra>",
         "legendgroup": "Population",
         "marker": {
          "color": "#636efa",
          "size": [
           60.9,
           61.1,
           61.3,
           61.4,
           61.7,
           61.8,
           61.5,
           61.2,
           60.9,
           60.6,
           60.5,
           61,
           61.3,
           61.3,
           61.3,
           61.5,
           62,
           62.7
          ],
          "sizemode": "area",
          "sizeref": 0.15675,
          "symbol": "circle"
         },
         "mode": "markers",
         "name": "Population",
         "orientation": "v",
         "showlegend": true,
         "type": "scatter",
         "x": [
          "2006-01-01T00:00:00",
          "2007-01-01T00:00:00",
          "2008-01-01T00:00:00",
          "2009-01-01T00:00:00",
          "2010-01-01T00:00:00",
          "2011-01-01T00:00:00",
          "2012-01-01T00:00:00",
          "2013-01-01T00:00:00",
          "2014-01-01T00:00:00",
          "2015-01-01T00:00:00",
          "2016-01-01T00:00:00",
          "2017-01-01T00:00:00",
          "2018-01-01T00:00:00",
          "2019-01-01T00:00:00",
          "2020-01-01T00:00:00",
          "2021-01-01T00:00:00",
          "2022-01-01T00:00:00",
          "2023-01-01T00:00:00"
         ],
         "xaxis": "x",
         "y": [
          60.9,
          61.1,
          61.3,
          61.4,
          61.7,
          61.8,
          61.5,
          61.2,
          60.9,
          60.6,
          60.5,
          61,
          61.3,
          61.3,
          61.3,
          61.5,
          62,
          62.7
         ],
         "yaxis": "y"
        },
        {
         "hovertemplate": "<b>OLS trendline</b><br>VALUE = 1.09879e-09 * Date + 59.7903<br>R<sup>2</sup>=0.128883<br><br>Labour force characteristics=Population<br>Date=%{x}<br>VALUE=%{y} <b>(trend)</b><extra></extra>",
         "legendgroup": "Population",
         "marker": {
          "color": "#636efa",
          "symbol": "circle"
         },
         "mode": "lines",
         "name": "Population",
         "showlegend": false,
         "type": "scatter",
         "x": [
          "2006-01-01T00:00:00",
          "2007-01-01T00:00:00",
          "2008-01-01T00:00:00",
          "2009-01-01T00:00:00",
          "2010-01-01T00:00:00",
          "2011-01-01T00:00:00",
          "2012-01-01T00:00:00",
          "2013-01-01T00:00:00",
          "2014-01-01T00:00:00",
          "2015-01-01T00:00:00",
          "2016-01-01T00:00:00",
          "2017-01-01T00:00:00",
          "2018-01-01T00:00:00",
          "2019-01-01T00:00:00",
          "2020-01-01T00:00:00",
          "2021-01-01T00:00:00",
          "2022-01-01T00:00:00",
          "2023-01-01T00:00:00"
         ],
         "xaxis": "x",
         "y": [
          61.038606475427294,
          61.07325788568199,
          61.10790929593669,
          61.14265564156195,
          61.17730705181665,
          61.211958462071344,
          61.24660987232604,
          61.2813562179513,
          61.316007628205995,
          61.35065903846069,
          61.385310448715394,
          61.42005679434065,
          61.45470820459535,
          61.489359614850045,
          61.52401102510474,
          61.55875737073,
          61.593408780984696,
          61.62806019123939
         ],
         "yaxis": "y"
        },
        {
         "hovertemplate": "Labour force characteristics=Employment<br>Date=%{x}<br>VALUE=%{marker.size}<extra></extra>",
         "legendgroup": "Employment",
         "marker": {
          "color": "#EF553B",
          "size": [
           36.2,
           38.1,
           38.1,
           34.9,
           32.6,
           35.7,
           37.2,
           32.3,
           38.4,
           32,
           32.7,
           33.6,
           34.2,
           34.5,
           32.2,
           32.9,
           34.6,
           33.4
          ],
          "sizemode": "area",
          "sizeref": 0.15675,
          "symbol": "circle"
         },
         "mode": "markers",
         "name": "Employment",
         "orientation": "v",
         "showlegend": true,
         "type": "scatter",
         "x": [
          "2006-01-01T00:00:00",
          "2007-01-01T00:00:00",
          "2008-01-01T00:00:00",
          "2009-01-01T00:00:00",
          "2010-01-01T00:00:00",
          "2011-01-01T00:00:00",
          "2012-01-01T00:00:00",
          "2013-01-01T00:00:00",
          "2014-01-01T00:00:00",
          "2015-01-01T00:00:00",
          "2016-01-01T00:00:00",
          "2017-01-01T00:00:00",
          "2018-01-01T00:00:00",
          "2019-01-01T00:00:00",
          "2020-01-01T00:00:00",
          "2021-01-01T00:00:00",
          "2022-01-01T00:00:00",
          "2023-01-01T00:00:00"
         ],
         "xaxis": "x",
         "y": [
          36.2,
          38.1,
          38.1,
          34.9,
          32.6,
          35.7,
          37.2,
          32.3,
          38.4,
          32,
          32.7,
          33.6,
          34.2,
          34.5,
          32.2,
          32.9,
          34.6,
          33.4
         ],
         "yaxis": "y"
        },
        {
         "hovertemplate": "<b>OLS trendline</b><br>VALUE = -6.99851e-09 * Date + 44.4725<br>R<sup>2</sup>=0.293779<br><br>Labour force characteristics=Employment<br>Date=%{x}<br>VALUE=%{y} <b>(trend)</b><extra></extra>",
         "legendgroup": "Employment",
         "marker": {
          "color": "#EF553B",
          "symbol": "circle"
         },
         "mode": "lines",
         "name": "Employment",
         "showlegend": false,
         "type": "scatter",
         "x": [
          "2006-01-01T00:00:00",
          "2007-01-01T00:00:00",
          "2008-01-01T00:00:00",
          "2009-01-01T00:00:00",
          "2010-01-01T00:00:00",
          "2011-01-01T00:00:00",
          "2012-01-01T00:00:00",
          "2013-01-01T00:00:00",
          "2014-01-01T00:00:00",
          "2015-01-01T00:00:00",
          "2016-01-01T00:00:00",
          "2017-01-01T00:00:00",
          "2018-01-01T00:00:00",
          "2019-01-01T00:00:00",
          "2020-01-01T00:00:00",
          "2021-01-01T00:00:00",
          "2022-01-01T00:00:00",
          "2023-01-01T00:00:00"
         ],
         "xaxis": "x",
         "y": [
          36.52164651111551,
          36.30094148475541,
          36.08023645839531,
          35.858926760730114,
          35.63822173437001,
          35.41751670800991,
          35.19681168164981,
          34.975501983984614,
          34.754796957624514,
          34.53409193126441,
          34.31338690490431,
          34.092077207239115,
          33.871372180879014,
          33.65066715451891,
          33.42996212815881,
          33.208652430493615,
          32.987947404133514,
          32.767242377773414
         ],
         "yaxis": "y"
        },
        {
         "hovertemplate": "Labour force characteristics=Not in labour force<br>Date=%{x}<br>VALUE=%{marker.size}<extra></extra>",
         "legendgroup": "Not in labour force",
         "marker": {
          "color": "#00cc96",
          "size": [
           22.2,
           20.3,
           21.4,
           23.3,
           25.4,
           22.8,
           21.3,
           25.4,
           19.8,
           26.5,
           25.5,
           25.1,
           24.8,
           24.8,
           26.1,
           25.6,
           25.9,
           27.1
          ],
          "sizemode": "area",
          "sizeref": 0.15675,
          "symbol": "circle"
         },
         "mode": "markers",
         "name": "Not in labour force",
         "orientation": "v",
         "showlegend": true,
         "type": "scatter",
         "x": [
          "2006-01-01T00:00:00",
          "2007-01-01T00:00:00",
          "2008-01-01T00:00:00",
          "2009-01-01T00:00:00",
          "2010-01-01T00:00:00",
          "2011-01-01T00:00:00",
          "2012-01-01T00:00:00",
          "2013-01-01T00:00:00",
          "2014-01-01T00:00:00",
          "2015-01-01T00:00:00",
          "2016-01-01T00:00:00",
          "2017-01-01T00:00:00",
          "2018-01-01T00:00:00",
          "2019-01-01T00:00:00",
          "2020-01-01T00:00:00",
          "2021-01-01T00:00:00",
          "2022-01-01T00:00:00",
          "2023-01-01T00:00:00"
         ],
         "xaxis": "x",
         "y": [
          22.2,
          20.3,
          21.4,
          23.3,
          25.4,
          22.8,
          21.3,
          25.4,
          19.8,
          26.5,
          25.5,
          25.1,
          24.8,
          24.8,
          26.1,
          25.6,
          25.9,
          27.1
         ],
         "yaxis": "y"
        },
        {
         "hovertemplate": "<b>OLS trendline</b><br>VALUE = 9.39541e-09 * Date + 10.8782<br>R<sup>2</sup>=0.497837<br><br>Labour force characteristics=Not in labour force<br>Date=%{x}<br>VALUE=%{y} <b>(trend)</b><extra></extra>",
         "legendgroup": "Not in labour force",
         "marker": {
          "color": "#00cc96",
          "symbol": "circle"
         },
         "mode": "lines",
         "name": "Not in labour force",
         "showlegend": false,
         "type": "scatter",
         "x": [
          "2006-01-01T00:00:00",
          "2007-01-01T00:00:00",
          "2008-01-01T00:00:00",
          "2009-01-01T00:00:00",
          "2010-01-01T00:00:00",
          "2011-01-01T00:00:00",
          "2012-01-01T00:00:00",
          "2013-01-01T00:00:00",
          "2014-01-01T00:00:00",
          "2015-01-01T00:00:00",
          "2016-01-01T00:00:00",
          "2017-01-01T00:00:00",
          "2018-01-01T00:00:00",
          "2019-01-01T00:00:00",
          "2020-01-01T00:00:00",
          "2021-01-01T00:00:00",
          "2022-01-01T00:00:00",
          "2023-01-01T00:00:00"
         ],
         "xaxis": "x",
         "y": [
          21.55210177831804,
          21.848395533198065,
          22.14468928807809,
          22.44179480667011,
          22.738088561550136,
          23.03438231643016,
          23.33067607131018,
          23.627781589902206,
          23.924075344782228,
          24.22036909966225,
          24.516662854542275,
          24.813768373134298,
          25.11006212801432,
          25.406355882894346,
          25.70264963777437,
          25.99975515636639,
          26.296048911246416,
          26.59234266612644
         ],
         "yaxis": "y"
        }
       ],
       "layout": {
        "autosize": true,
        "legend": {
         "itemsizing": "constant",
         "title": {
          "text": "Labour force characteristics"
         },
         "tracegroupgap": 0
        },
        "margin": {
         "t": 60
        },
        "template": {
         "data": {
          "bar": [
           {
            "error_x": {
             "color": "#2a3f5f"
            },
            "error_y": {
             "color": "#2a3f5f"
            },
            "marker": {
             "line": {
              "color": "#E5ECF6",
              "width": 0.5
             },
             "pattern": {
              "fillmode": "overlay",
              "size": 10,
              "solidity": 0.2
             }
            },
            "type": "bar"
           }
          ],
          "barpolar": [
           {
            "marker": {
             "line": {
              "color": "#E5ECF6",
              "width": 0.5
             },
             "pattern": {
              "fillmode": "overlay",
              "size": 10,
              "solidity": 0.2
             }
            },
            "type": "barpolar"
           }
          ],
          "carpet": [
           {
            "aaxis": {
             "endlinecolor": "#2a3f5f",
             "gridcolor": "white",
             "linecolor": "white",
             "minorgridcolor": "white",
             "startlinecolor": "#2a3f5f"
            },
            "baxis": {
             "endlinecolor": "#2a3f5f",
             "gridcolor": "white",
             "linecolor": "white",
             "minorgridcolor": "white",
             "startlinecolor": "#2a3f5f"
            },
            "type": "carpet"
           }
          ],
          "choropleth": [
           {
            "colorbar": {
             "outlinewidth": 0,
             "ticks": ""
            },
            "type": "choropleth"
           }
          ],
          "contour": [
           {
            "colorbar": {
             "outlinewidth": 0,
             "ticks": ""
            },
            "colorscale": [
             [
              0,
              "#0d0887"
             ],
             [
              0.1111111111111111,
              "#46039f"
             ],
             [
              0.2222222222222222,
              "#7201a8"
             ],
             [
              0.3333333333333333,
              "#9c179e"
             ],
             [
              0.4444444444444444,
              "#bd3786"
             ],
             [
              0.5555555555555556,
              "#d8576b"
             ],
             [
              0.6666666666666666,
              "#ed7953"
             ],
             [
              0.7777777777777778,
              "#fb9f3a"
             ],
             [
              0.8888888888888888,
              "#fdca26"
             ],
             [
              1,
              "#f0f921"
             ]
            ],
            "type": "contour"
           }
          ],
          "contourcarpet": [
           {
            "colorbar": {
             "outlinewidth": 0,
             "ticks": ""
            },
            "type": "contourcarpet"
           }
          ],
          "heatmap": [
           {
            "colorbar": {
             "outlinewidth": 0,
             "ticks": ""
            },
            "colorscale": [
             [
              0,
              "#0d0887"
             ],
             [
              0.1111111111111111,
              "#46039f"
             ],
             [
              0.2222222222222222,
              "#7201a8"
             ],
             [
              0.3333333333333333,
              "#9c179e"
             ],
             [
              0.4444444444444444,
              "#bd3786"
             ],
             [
              0.5555555555555556,
              "#d8576b"
             ],
             [
              0.6666666666666666,
              "#ed7953"
             ],
             [
              0.7777777777777778,
              "#fb9f3a"
             ],
             [
              0.8888888888888888,
              "#fdca26"
             ],
             [
              1,
              "#f0f921"
             ]
            ],
            "type": "heatmap"
           }
          ],
          "heatmapgl": [
           {
            "colorbar": {
             "outlinewidth": 0,
             "ticks": ""
            },
            "colorscale": [
             [
              0,
              "#0d0887"
             ],
             [
              0.1111111111111111,
              "#46039f"
             ],
             [
              0.2222222222222222,
              "#7201a8"
             ],
             [
              0.3333333333333333,
              "#9c179e"
             ],
             [
              0.4444444444444444,
              "#bd3786"
             ],
             [
              0.5555555555555556,
              "#d8576b"
             ],
             [
              0.6666666666666666,
              "#ed7953"
             ],
             [
              0.7777777777777778,
              "#fb9f3a"
             ],
             [
              0.8888888888888888,
              "#fdca26"
             ],
             [
              1,
              "#f0f921"
             ]
            ],
            "type": "heatmapgl"
           }
          ],
          "histogram": [
           {
            "marker": {
             "pattern": {
              "fillmode": "overlay",
              "size": 10,
              "solidity": 0.2
             }
            },
            "type": "histogram"
           }
          ],
          "histogram2d": [
           {
            "colorbar": {
             "outlinewidth": 0,
             "ticks": ""
            },
            "colorscale": [
             [
              0,
              "#0d0887"
             ],
             [
              0.1111111111111111,
              "#46039f"
             ],
             [
              0.2222222222222222,
              "#7201a8"
             ],
             [
              0.3333333333333333,
              "#9c179e"
             ],
             [
              0.4444444444444444,
              "#bd3786"
             ],
             [
              0.5555555555555556,
              "#d8576b"
             ],
             [
              0.6666666666666666,
              "#ed7953"
             ],
             [
              0.7777777777777778,
              "#fb9f3a"
             ],
             [
              0.8888888888888888,
              "#fdca26"
             ],
             [
              1,
              "#f0f921"
             ]
            ],
            "type": "histogram2d"
           }
          ],
          "histogram2dcontour": [
           {
            "colorbar": {
             "outlinewidth": 0,
             "ticks": ""
            },
            "colorscale": [
             [
              0,
              "#0d0887"
             ],
             [
              0.1111111111111111,
              "#46039f"
             ],
             [
              0.2222222222222222,
              "#7201a8"
             ],
             [
              0.3333333333333333,
              "#9c179e"
             ],
             [
              0.4444444444444444,
              "#bd3786"
             ],
             [
              0.5555555555555556,
              "#d8576b"
             ],
             [
              0.6666666666666666,
              "#ed7953"
             ],
             [
              0.7777777777777778,
              "#fb9f3a"
             ],
             [
              0.8888888888888888,
              "#fdca26"
             ],
             [
              1,
              "#f0f921"
             ]
            ],
            "type": "histogram2dcontour"
           }
          ],
          "mesh3d": [
           {
            "colorbar": {
             "outlinewidth": 0,
             "ticks": ""
            },
            "type": "mesh3d"
           }
          ],
          "parcoords": [
           {
            "line": {
             "colorbar": {
              "outlinewidth": 0,
              "ticks": ""
             }
            },
            "type": "parcoords"
           }
          ],
          "pie": [
           {
            "automargin": true,
            "type": "pie"
           }
          ],
          "scatter": [
           {
            "fillpattern": {
             "fillmode": "overlay",
             "size": 10,
             "solidity": 0.2
            },
            "type": "scatter"
           }
          ],
          "scatter3d": [
           {
            "line": {
             "colorbar": {
              "outlinewidth": 0,
              "ticks": ""
             }
            },
            "marker": {
             "colorbar": {
              "outlinewidth": 0,
              "ticks": ""
             }
            },
            "type": "scatter3d"
           }
          ],
          "scattercarpet": [
           {
            "marker": {
             "colorbar": {
              "outlinewidth": 0,
              "ticks": ""
             }
            },
            "type": "scattercarpet"
           }
          ],
          "scattergeo": [
           {
            "marker": {
             "colorbar": {
              "outlinewidth": 0,
              "ticks": ""
             }
            },
            "type": "scattergeo"
           }
          ],
          "scattergl": [
           {
            "marker": {
             "colorbar": {
              "outlinewidth": 0,
              "ticks": ""
             }
            },
            "type": "scattergl"
           }
          ],
          "scattermapbox": [
           {
            "marker": {
             "colorbar": {
              "outlinewidth": 0,
              "ticks": ""
             }
            },
            "type": "scattermapbox"
           }
          ],
          "scatterpolar": [
           {
            "marker": {
             "colorbar": {
              "outlinewidth": 0,
              "ticks": ""
             }
            },
            "type": "scatterpolar"
           }
          ],
          "scatterpolargl": [
           {
            "marker": {
             "colorbar": {
              "outlinewidth": 0,
              "ticks": ""
             }
            },
            "type": "scatterpolargl"
           }
          ],
          "scatterternary": [
           {
            "marker": {
             "colorbar": {
              "outlinewidth": 0,
              "ticks": ""
             }
            },
            "type": "scatterternary"
           }
          ],
          "surface": [
           {
            "colorbar": {
             "outlinewidth": 0,
             "ticks": ""
            },
            "colorscale": [
             [
              0,
              "#0d0887"
             ],
             [
              0.1111111111111111,
              "#46039f"
             ],
             [
              0.2222222222222222,
              "#7201a8"
             ],
             [
              0.3333333333333333,
              "#9c179e"
             ],
             [
              0.4444444444444444,
              "#bd3786"
             ],
             [
              0.5555555555555556,
              "#d8576b"
             ],
             [
              0.6666666666666666,
              "#ed7953"
             ],
             [
              0.7777777777777778,
              "#fb9f3a"
             ],
             [
              0.8888888888888888,
              "#fdca26"
             ],
             [
              1,
              "#f0f921"
             ]
            ],
            "type": "surface"
           }
          ],
          "table": [
           {
            "cells": {
             "fill": {
              "color": "#EBF0F8"
             },
             "line": {
              "color": "white"
             }
            },
            "header": {
             "fill": {
              "color": "#C8D4E3"
             },
             "line": {
              "color": "white"
             }
            },
            "type": "table"
           }
          ]
         },
         "layout": {
          "annotationdefaults": {
           "arrowcolor": "#2a3f5f",
           "arrowhead": 0,
           "arrowwidth": 1
          },
          "autotypenumbers": "strict",
          "coloraxis": {
           "colorbar": {
            "outlinewidth": 0,
            "ticks": ""
           }
          },
          "colorscale": {
           "diverging": [
            [
             0,
             "#8e0152"
            ],
            [
             0.1,
             "#c51b7d"
            ],
            [
             0.2,
             "#de77ae"
            ],
            [
             0.3,
             "#f1b6da"
            ],
            [
             0.4,
             "#fde0ef"
            ],
            [
             0.5,
             "#f7f7f7"
            ],
            [
             0.6,
             "#e6f5d0"
            ],
            [
             0.7,
             "#b8e186"
            ],
            [
             0.8,
             "#7fbc41"
            ],
            [
             0.9,
             "#4d9221"
            ],
            [
             1,
             "#276419"
            ]
           ],
           "sequential": [
            [
             0,
             "#0d0887"
            ],
            [
             0.1111111111111111,
             "#46039f"
            ],
            [
             0.2222222222222222,
             "#7201a8"
            ],
            [
             0.3333333333333333,
             "#9c179e"
            ],
            [
             0.4444444444444444,
             "#bd3786"
            ],
            [
             0.5555555555555556,
             "#d8576b"
            ],
            [
             0.6666666666666666,
             "#ed7953"
            ],
            [
             0.7777777777777778,
             "#fb9f3a"
            ],
            [
             0.8888888888888888,
             "#fdca26"
            ],
            [
             1,
             "#f0f921"
            ]
           ],
           "sequentialminus": [
            [
             0,
             "#0d0887"
            ],
            [
             0.1111111111111111,
             "#46039f"
            ],
            [
             0.2222222222222222,
             "#7201a8"
            ],
            [
             0.3333333333333333,
             "#9c179e"
            ],
            [
             0.4444444444444444,
             "#bd3786"
            ],
            [
             0.5555555555555556,
             "#d8576b"
            ],
            [
             0.6666666666666666,
             "#ed7953"
            ],
            [
             0.7777777777777778,
             "#fb9f3a"
            ],
            [
             0.8888888888888888,
             "#fdca26"
            ],
            [
             1,
             "#f0f921"
            ]
           ]
          },
          "colorway": [
           "#636efa",
           "#EF553B",
           "#00cc96",
           "#ab63fa",
           "#FFA15A",
           "#19d3f3",
           "#FF6692",
           "#B6E880",
           "#FF97FF",
           "#FECB52"
          ],
          "font": {
           "color": "#2a3f5f"
          },
          "geo": {
           "bgcolor": "white",
           "lakecolor": "white",
           "landcolor": "#E5ECF6",
           "showlakes": true,
           "showland": true,
           "subunitcolor": "white"
          },
          "hoverlabel": {
           "align": "left"
          },
          "hovermode": "closest",
          "mapbox": {
           "style": "light"
          },
          "paper_bgcolor": "white",
          "plot_bgcolor": "#E5ECF6",
          "polar": {
           "angularaxis": {
            "gridcolor": "white",
            "linecolor": "white",
            "ticks": ""
           },
           "bgcolor": "#E5ECF6",
           "radialaxis": {
            "gridcolor": "white",
            "linecolor": "white",
            "ticks": ""
           }
          },
          "scene": {
           "xaxis": {
            "backgroundcolor": "#E5ECF6",
            "gridcolor": "white",
            "gridwidth": 2,
            "linecolor": "white",
            "showbackground": true,
            "ticks": "",
            "zerolinecolor": "white"
           },
           "yaxis": {
            "backgroundcolor": "#E5ECF6",
            "gridcolor": "white",
            "gridwidth": 2,
            "linecolor": "white",
            "showbackground": true,
            "ticks": "",
            "zerolinecolor": "white"
           },
           "zaxis": {
            "backgroundcolor": "#E5ECF6",
            "gridcolor": "white",
            "gridwidth": 2,
            "linecolor": "white",
            "showbackground": true,
            "ticks": "",
            "zerolinecolor": "white"
           }
          },
          "shapedefaults": {
           "line": {
            "color": "#2a3f5f"
           }
          },
          "ternary": {
           "aaxis": {
            "gridcolor": "white",
            "linecolor": "white",
            "ticks": ""
           },
           "baxis": {
            "gridcolor": "white",
            "linecolor": "white",
            "ticks": ""
           },
           "bgcolor": "#E5ECF6",
           "caxis": {
            "gridcolor": "white",
            "linecolor": "white",
            "ticks": ""
           }
          },
          "title": {
           "x": 0.05
          },
          "xaxis": {
           "automargin": true,
           "gridcolor": "white",
           "linecolor": "white",
           "ticks": "",
           "title": {
            "standoff": 15
           },
           "zerolinecolor": "white",
           "zerolinewidth": 2
          },
          "yaxis": {
           "automargin": true,
           "gridcolor": "white",
           "linecolor": "white",
           "ticks": "",
           "title": {
            "standoff": 15
           },
           "zerolinecolor": "white",
           "zerolinewidth": 2
          }
         }
        },
        "xaxis": {
         "anchor": "y",
         "autorange": true,
         "domain": [
          0,
          1
         ],
         "range": [
          "2004-10-19 12:43:33.1126",
          "2024-03-15 16:53:21.8356"
         ],
         "title": {
          "text": "Date"
         },
         "type": "date"
        },
        "yaxis": {
         "anchor": "x",
         "autorange": true,
         "domain": [
          0,
          1
         ],
         "range": [
          14.877554113137737,
          69.33696557934451
         ],
         "title": {
          "text": "VALUE"
         },
         "type": "linear"
        }
       }
      },
      "image/png": "[encoded data removed]",
      "text/html": [
       "<div>                            <div id=\"4225e27e-4950-478b-90bd-96f09ff849a2\" class=\"plotly-graph-div\" style=\"height:525px; width:100%;\"></div>            <script type=\"text/javascript\">                require([\"plotly\"], function(Plotly) {                    window.PLOTLYENV=window.PLOTLYENV || {};                                    if (document.getElementById(\"4225e27e-4950-478b-90bd-96f09ff849a2\")) {                    Plotly.newPlot(                        \"4225e27e-4950-478b-90bd-96f09ff849a2\",                        [{\"hovertemplate\":\"Labour force characteristics=Population\\u003cbr\\u003eDate=%{x}\\u003cbr\\u003eVALUE=%{marker.size}\\u003cextra\\u003e\\u003c\\u002fextra\\u003e\",\"legendgroup\":\"Population\",\"marker\":{\"color\":\"#636efa\",\"size\":[60.9,61.1,61.3,61.4,61.7,61.8,61.5,61.2,60.9,60.6,60.5,61.0,61.3,61.3,61.3,61.5,62.0,62.7],\"sizemode\":\"area\",\"sizeref\":0.15675,\"symbol\":\"circle\"},\"mode\":\"markers\",\"name\":\"Population\",\"orientation\":\"v\",\"showlegend\":true,\"x\":[\"2006-01-01T00:00:00\",\"2007-01-01T00:00:00\",\"2008-01-01T00:00:00\",\"2009-01-01T00:00:00\",\"2010-01-01T00:00:00\",\"2011-01-01T00:00:00\",\"2012-01-01T00:00:00\",\"2013-01-01T00:00:00\",\"2014-01-01T00:00:00\",\"2015-01-01T00:00:00\",\"2016-01-01T00:00:00\",\"2017-01-01T00:00:00\",\"2018-01-01T00:00:00\",\"2019-01-01T00:00:00\",\"2020-01-01T00:00:00\",\"2021-01-01T00:00:00\",\"2022-01-01T00:00:00\",\"2023-01-01T00:00:00\"],\"xaxis\":\"x\",\"y\":[60.9,61.1,61.3,61.4,61.7,61.8,61.5,61.2,60.9,60.6,60.5,61.0,61.3,61.3,61.3,61.5,62.0,62.7],\"yaxis\":\"y\",\"type\":\"scatter\"},{\"hovertemplate\":\"\\u003cb\\u003eOLS trendline\\u003c\\u002fb\\u003e\\u003cbr\\u003eVALUE = 1.09879e-09 * Date + 59.7903\\u003cbr\\u003eR\\u003csup\\u003e2\\u003c\\u002fsup\\u003e=0.128883\\u003cbr\\u003e\\u003cbr\\u003eLabour force characteristics=Population\\u003cbr\\u003eDate=%{x}\\u003cbr\\u003eVALUE=%{y} \\u003cb\\u003e(trend)\\u003c\\u002fb\\u003e\\u003cextra\\u003e\\u003c\\u002fextra\\u003e\",\"legendgroup\":\"Population\",\"marker\":{\"color\":\"#636efa\",\"symbol\":\"circle\"},\"mode\":\"lines\",\"name\":\"Population\",\"showlegend\":false,\"x\":[\"2006-01-01T00:00:00\",\"2007-01-01T00:00:00\",\"2008-01-01T00:00:00\",\"2009-01-01T00:00:00\",\"2010-01-01T00:00:00\",\"2011-01-01T00:00:00\",\"2012-01-01T00:00:00\",\"2013-01-01T00:00:00\",\"2014-01-01T00:00:00\",\"2015-01-01T00:00:00\",\"2016-01-01T00:00:00\",\"2017-01-01T00:00:00\",\"2018-01-01T00:00:00\",\"2019-01-01T00:00:00\",\"2020-01-01T00:00:00\",\"2021-01-01T00:00:00\",\"2022-01-01T00:00:00\",\"2023-01-01T00:00:00\"],\"xaxis\":\"x\",\"y\":[61.038606475427294,61.07325788568199,61.10790929593669,61.14265564156195,61.17730705181665,61.211958462071344,61.24660987232604,61.2813562179513,61.316007628205995,61.35065903846069,61.385310448715394,61.42005679434065,61.45470820459535,61.489359614850045,61.52401102510474,61.55875737073,61.593408780984696,61.62806019123939],\"yaxis\":\"y\",\"type\":\"scatter\"},{\"hovertemplate\":\"Labour force characteristics=Employment\\u003cbr\\u003eDate=%{x}\\u003cbr\\u003eVALUE=%{marker.size}\\u003cextra\\u003e\\u003c\\u002fextra\\u003e\",\"legendgroup\":\"Employment\",\"marker\":{\"color\":\"#EF553B\",\"size\":[36.2,38.1,38.1,34.9,32.6,35.7,37.2,32.3,38.4,32.0,32.7,33.6,34.2,34.5,32.2,32.9,34.6,33.4],\"sizemode\":\"area\",\"sizeref\":0.15675,\"symbol\":\"circle\"},\"mode\":\"markers\",\"name\":\"Employment\",\"orientation\":\"v\",\"showlegend\":true,\"x\":[\"2006-01-01T00:00:00\",\"2007-01-01T00:00:00\",\"2008-01-01T00:00:00\",\"2009-01-01T00:00:00\",\"2010-01-01T00:00:00\",\"2011-01-01T00:00:00\",\"2012-01-01T00:00:00\",\"2013-01-01T00:00:00\",\"2014-01-01T00:00:00\",\"2015-01-01T00:00:00\",\"2016-01-01T00:00:00\",\"2017-01-01T00:00:00\",\"2018-01-01T00:00:00\",\"2019-01-01T00:00:00\",\"2020-01-01T00:00:00\",\"2021-01-01T00:00:00\",\"2022-01-01T00:00:00\",\"2023-01-01T00:00:00\"],\"xaxis\":\"x\",\"y\":[36.2,38.1,38.1,34.9,32.6,35.7,37.2,32.3,38.4,32.0,32.7,33.6,34.2,34.5,32.2,32.9,34.6,33.4],\"yaxis\":\"y\",\"type\":\"scatter\"},{\"hovertemplate\":\"\\u003cb\\u003eOLS trendline\\u003c\\u002fb\\u003e\\u003cbr\\u003eVALUE = -6.99851e-09 * Date + 44.4725\\u003cbr\\u003eR\\u003csup\\u003e2\\u003c\\u002fsup\\u003e=0.293779\\u003cbr\\u003e\\u003cbr\\u003eLabour force characteristics=Employment\\u003cbr\\u003eDate=%{x}\\u003cbr\\u003eVALUE=%{y} \\u003cb\\u003e(trend)\\u003c\\u002fb\\u003e\\u003cextra\\u003e\\u003c\\u002fextra\\u003e\",\"legendgroup\":\"Employment\",\"marker\":{\"color\":\"#EF553B\",\"symbol\":\"circle\"},\"mode\":\"lines\",\"name\":\"Employment\",\"showlegend\":false,\"x\":[\"2006-01-01T00:00:00\",\"2007-01-01T00:00:00\",\"2008-01-01T00:00:00\",\"2009-01-01T00:00:00\",\"2010-01-01T00:00:00\",\"2011-01-01T00:00:00\",\"2012-01-01T00:00:00\",\"2013-01-01T00:00:00\",\"2014-01-01T00:00:00\",\"2015-01-01T00:00:00\",\"2016-01-01T00:00:00\",\"2017-01-01T00:00:00\",\"2018-01-01T00:00:00\",\"2019-01-01T00:00:00\",\"2020-01-01T00:00:00\",\"2021-01-01T00:00:00\",\"2022-01-01T00:00:00\",\"2023-01-01T00:00:00\"],\"xaxis\":\"x\",\"y\":[36.52164651111551,36.30094148475541,36.08023645839531,35.858926760730114,35.63822173437001,35.41751670800991,35.19681168164981,34.975501983984614,34.754796957624514,34.53409193126441,34.31338690490431,34.092077207239115,33.871372180879014,33.65066715451891,33.42996212815881,33.208652430493615,32.987947404133514,32.767242377773414],\"yaxis\":\"y\",\"type\":\"scatter\"},{\"hovertemplate\":\"Labour force characteristics=Not in labour force\\u003cbr\\u003eDate=%{x}\\u003cbr\\u003eVALUE=%{marker.size}\\u003cextra\\u003e\\u003c\\u002fextra\\u003e\",\"legendgroup\":\"Not in labour force\",\"marker\":{\"color\":\"#00cc96\",\"size\":[22.2,20.3,21.4,23.3,25.4,22.8,21.3,25.4,19.8,26.5,25.5,25.1,24.8,24.8,26.1,25.6,25.9,27.1],\"sizemode\":\"area\",\"sizeref\":0.15675,\"symbol\":\"circle\"},\"mode\":\"markers\",\"name\":\"Not in labour force\",\"orientation\":\"v\",\"showlegend\":true,\"x\":[\"2006-01-01T00:00:00\",\"2007-01-01T00:00:00\",\"2008-01-01T00:00:00\",\"2009-01-01T00:00:00\",\"2010-01-01T00:00:00\",\"2011-01-01T00:00:00\",\"2012-01-01T00:00:00\",\"2013-01-01T00:00:00\",\"2014-01-01T00:00:00\",\"2015-01-01T00:00:00\",\"2016-01-01T00:00:00\",\"2017-01-01T00:00:00\",\"2018-01-01T00:00:00\",\"2019-01-01T00:00:00\",\"2020-01-01T00:00:00\",\"2021-01-01T00:00:00\",\"2022-01-01T00:00:00\",\"2023-01-01T00:00:00\"],\"xaxis\":\"x\",\"y\":[22.2,20.3,21.4,23.3,25.4,22.8,21.3,25.4,19.8,26.5,25.5,25.1,24.8,24.8,26.1,25.6,25.9,27.1],\"yaxis\":\"y\",\"type\":\"scatter\"},{\"hovertemplate\":\"\\u003cb\\u003eOLS trendline\\u003c\\u002fb\\u003e\\u003cbr\\u003eVALUE = 9.39541e-09 * Date + 10.8782\\u003cbr\\u003eR\\u003csup\\u003e2\\u003c\\u002fsup\\u003e=0.497837\\u003cbr\\u003e\\u003cbr\\u003eLabour force characteristics=Not in labour force\\u003cbr\\u003eDate=%{x}\\u003cbr\\u003eVALUE=%{y} \\u003cb\\u003e(trend)\\u003c\\u002fb\\u003e\\u003cextra\\u003e\\u003c\\u002fextra\\u003e\",\"legendgroup\":\"Not in labour force\",\"marker\":{\"color\":\"#00cc96\",\"symbol\":\"circle\"},\"mode\":\"lines\",\"name\":\"Not in labour force\",\"showlegend\":false,\"x\":[\"2006-01-01T00:00:00\",\"2007-01-01T00:00:00\",\"2008-01-01T00:00:00\",\"2009-01-01T00:00:00\",\"2010-01-01T00:00:00\",\"2011-01-01T00:00:00\",\"2012-01-01T00:00:00\",\"2013-01-01T00:00:00\",\"2014-01-01T00:00:00\",\"2015-01-01T00:00:00\",\"2016-01-01T00:00:00\",\"2017-01-01T00:00:00\",\"2018-01-01T00:00:00\",\"2019-01-01T00:00:00\",\"2020-01-01T00:00:00\",\"2021-01-01T00:00:00\",\"2022-01-01T00:00:00\",\"2023-01-01T00:00:00\"],\"xaxis\":\"x\",\"y\":[21.55210177831804,21.848395533198065,22.14468928807809,22.44179480667011,22.738088561550136,23.03438231643016,23.33067607131018,23.627781589902206,23.924075344782228,24.22036909966225,24.516662854542275,24.813768373134298,25.11006212801432,25.406355882894346,25.70264963777437,25.99975515636639,26.296048911246416,26.59234266612644],\"yaxis\":\"y\",\"type\":\"scatter\"}],                        {\"template\":{\"data\":{\"histogram2dcontour\":[{\"type\":\"histogram2dcontour\",\"colorbar\":{\"outlinewidth\":0,\"ticks\":\"\"},\"colorscale\":[[0.0,\"#0d0887\"],[0.1111111111111111,\"#46039f\"],[0.2222222222222222,\"#7201a8\"],[0.3333333333333333,\"#9c179e\"],[0.4444444444444444,\"#bd3786\"],[0.5555555555555556,\"#d8576b\"],[0.6666666666666666,\"#ed7953\"],[0.7777777777777778,\"#fb9f3a\"],[0.8888888888888888,\"#fdca26\"],[1.0,\"#f0f921\"]]}],\"choropleth\":[{\"type\":\"choropleth\",\"colorbar\":{\"outlinewidth\":0,\"ticks\":\"\"}}],\"histogram2d\":[{\"type\":\"histogram2d\",\"colorbar\":{\"outlinewidth\":0,\"ticks\":\"\"},\"colorscale\":[[0.0,\"#0d0887\"],[0.1111111111111111,\"#46039f\"],[0.2222222222222222,\"#7201a8\"],[0.3333333333333333,\"#9c179e\"],[0.4444444444444444,\"#bd3786\"],[0.5555555555555556,\"#d8576b\"],[0.6666666666666666,\"#ed7953\"],[0.7777777777777778,\"#fb9f3a\"],[0.8888888888888888,\"#fdca26\"],[1.0,\"#f0f921\"]]}],\"heatmap\":[{\"type\":\"heatmap\",\"colorbar\":{\"outlinewidth\":0,\"ticks\":\"\"},\"colorscale\":[[0.0,\"#0d0887\"],[0.1111111111111111,\"#46039f\"],[0.2222222222222222,\"#7201a8\"],[0.3333333333333333,\"#9c179e\"],[0.4444444444444444,\"#bd3786\"],[0.5555555555555556,\"#d8576b\"],[0.6666666666666666,\"#ed7953\"],[0.7777777777777778,\"#fb9f3a\"],[0.8888888888888888,\"#fdca26\"],[1.0,\"#f0f921\"]]}],\"heatmapgl\":[{\"type\":\"heatmapgl\",\"colorbar\":{\"outlinewidth\":0,\"ticks\":\"\"},\"colorscale\":[[0.0,\"#0d0887\"],[0.1111111111111111,\"#46039f\"],[0.2222222222222222,\"#7201a8\"],[0.3333333333333333,\"#9c179e\"],[0.4444444444444444,\"#bd3786\"],[0.5555555555555556,\"#d8576b\"],[0.6666666666666666,\"#ed7953\"],[0.7777777777777778,\"#fb9f3a\"],[0.8888888888888888,\"#fdca26\"],[1.0,\"#f0f921\"]]}],\"contourcarpet\":[{\"type\":\"contourcarpet\",\"colorbar\":{\"outlinewidth\":0,\"ticks\":\"\"}}],\"contour\":[{\"type\":\"contour\",\"colorbar\":{\"outlinewidth\":0,\"ticks\":\"\"},\"colorscale\":[[0.0,\"#0d0887\"],[0.1111111111111111,\"#46039f\"],[0.2222222222222222,\"#7201a8\"],[0.3333333333333333,\"#9c179e\"],[0.4444444444444444,\"#bd3786\"],[0.5555555555555556,\"#d8576b\"],[0.6666666666666666,\"#ed7953\"],[0.7777777777777778,\"#fb9f3a\"],[0.8888888888888888,\"#fdca26\"],[1.0,\"#f0f921\"]]}],\"surface\":[{\"type\":\"surface\",\"colorbar\":{\"outlinewidth\":0,\"ticks\":\"\"},\"colorscale\":[[0.0,\"#0d0887\"],[0.1111111111111111,\"#46039f\"],[0.2222222222222222,\"#7201a8\"],[0.3333333333333333,\"#9c179e\"],[0.4444444444444444,\"#bd3786\"],[0.5555555555555556,\"#d8576b\"],[0.6666666666666666,\"#ed7953\"],[0.7777777777777778,\"#fb9f3a\"],[0.8888888888888888,\"#fdca26\"],[1.0,\"#f0f921\"]]}],\"mesh3d\":[{\"type\":\"mesh3d\",\"colorbar\":{\"outlinewidth\":0,\"ticks\":\"\"}}],\"scatter\":[{\"fillpattern\":{\"fillmode\":\"overlay\",\"size\":10,\"solidity\":0.2},\"type\":\"scatter\"}],\"parcoords\":[{\"type\":\"parcoords\",\"line\":{\"colorbar\":{\"outlinewidth\":0,\"ticks\":\"\"}}}],\"scatterpolargl\":[{\"type\":\"scatterpolargl\",\"marker\":{\"colorbar\":{\"outlinewidth\":0,\"ticks\":\"\"}}}],\"bar\":[{\"error_x\":{\"color\":\"#2a3f5f\"},\"error_y\":{\"color\":\"#2a3f5f\"},\"marker\":{\"line\":{\"color\":\"#E5ECF6\",\"width\":0.5},\"pattern\":{\"fillmode\":\"overlay\",\"size\":10,\"solidity\":0.2}},\"type\":\"bar\"}],\"scattergeo\":[{\"type\":\"scattergeo\",\"marker\":{\"colorbar\":{\"outlinewidth\":0,\"ticks\":\"\"}}}],\"scatterpolar\":[{\"type\":\"scatterpolar\",\"marker\":{\"colorbar\":{\"outlinewidth\":0,\"ticks\":\"\"}}}],\"histogram\":[{\"marker\":{\"pattern\":{\"fillmode\":\"overlay\",\"size\":10,\"solidity\":0.2}},\"type\":\"histogram\"}],\"scattergl\":[{\"type\":\"scattergl\",\"marker\":{\"colorbar\":{\"outlinewidth\":0,\"ticks\":\"\"}}}],\"scatter3d\":[{\"type\":\"scatter3d\",\"line\":{\"colorbar\":{\"outlinewidth\":0,\"ticks\":\"\"}},\"marker\":{\"colorbar\":{\"outlinewidth\":0,\"ticks\":\"\"}}}],\"scattermapbox\":[{\"type\":\"scattermapbox\",\"marker\":{\"colorbar\":{\"outlinewidth\":0,\"ticks\":\"\"}}}],\"scatterternary\":[{\"type\":\"scatterternary\",\"marker\":{\"colorbar\":{\"outlinewidth\":0,\"ticks\":\"\"}}}],\"scattercarpet\":[{\"type\":\"scattercarpet\",\"marker\":{\"colorbar\":{\"outlinewidth\":0,\"ticks\":\"\"}}}],\"carpet\":[{\"aaxis\":{\"endlinecolor\":\"#2a3f5f\",\"gridcolor\":\"white\",\"linecolor\":\"white\",\"minorgridcolor\":\"white\",\"startlinecolor\":\"#2a3f5f\"},\"baxis\":{\"endlinecolor\":\"#2a3f5f\",\"gridcolor\":\"white\",\"linecolor\":\"white\",\"minorgridcolor\":\"white\",\"startlinecolor\":\"#2a3f5f\"},\"type\":\"carpet\"}],\"table\":[{\"cells\":{\"fill\":{\"color\":\"#EBF0F8\"},\"line\":{\"color\":\"white\"}},\"header\":{\"fill\":{\"color\":\"#C8D4E3\"},\"line\":{\"color\":\"white\"}},\"type\":\"table\"}],\"barpolar\":[{\"marker\":{\"line\":{\"color\":\"#E5ECF6\",\"width\":0.5},\"pattern\":{\"fillmode\":\"overlay\",\"size\":10,\"solidity\":0.2}},\"type\":\"barpolar\"}],\"pie\":[{\"automargin\":true,\"type\":\"pie\"}]},\"layout\":{\"autotypenumbers\":\"strict\",\"colorway\":[\"#636efa\",\"#EF553B\",\"#00cc96\",\"#ab63fa\",\"#FFA15A\",\"#19d3f3\",\"#FF6692\",\"#B6E880\",\"#FF97FF\",\"#FECB52\"],\"font\":{\"color\":\"#2a3f5f\"},\"hovermode\":\"closest\",\"hoverlabel\":{\"align\":\"left\"},\"paper_bgcolor\":\"white\",\"plot_bgcolor\":\"#E5ECF6\",\"polar\":{\"bgcolor\":\"#E5ECF6\",\"angularaxis\":{\"gridcolor\":\"white\",\"linecolor\":\"white\",\"ticks\":\"\"},\"radialaxis\":{\"gridcolor\":\"white\",\"linecolor\":\"white\",\"ticks\":\"\"}},\"ternary\":{\"bgcolor\":\"#E5ECF6\",\"aaxis\":{\"gridcolor\":\"white\",\"linecolor\":\"white\",\"ticks\":\"\"},\"baxis\":{\"gridcolor\":\"white\",\"linecolor\":\"white\",\"ticks\":\"\"},\"caxis\":{\"gridcolor\":\"white\",\"linecolor\":\"white\",\"ticks\":\"\"}},\"coloraxis\":{\"colorbar\":{\"outlinewidth\":0,\"ticks\":\"\"}},\"colorscale\":{\"sequential\":[[0.0,\"#0d0887\"],[0.1111111111111111,\"#46039f\"],[0.2222222222222222,\"#7201a8\"],[0.3333333333333333,\"#9c179e\"],[0.4444444444444444,\"#bd3786\"],[0.5555555555555556,\"#d8576b\"],[0.6666666666666666,\"#ed7953\"],[0.7777777777777778,\"#fb9f3a\"],[0.8888888888888888,\"#fdca26\"],[1.0,\"#f0f921\"]],\"sequentialminus\":[[0.0,\"#0d0887\"],[0.1111111111111111,\"#46039f\"],[0.2222222222222222,\"#7201a8\"],[0.3333333333333333,\"#9c179e\"],[0.4444444444444444,\"#bd3786\"],[0.5555555555555556,\"#d8576b\"],[0.6666666666666666,\"#ed7953\"],[0.7777777777777778,\"#fb9f3a\"],[0.8888888888888888,\"#fdca26\"],[1.0,\"#f0f921\"]],\"diverging\":[[0,\"#8e0152\"],[0.1,\"#c51b7d\"],[0.2,\"#de77ae\"],[0.3,\"#f1b6da\"],[0.4,\"#fde0ef\"],[0.5,\"#f7f7f7\"],[0.6,\"#e6f5d0\"],[0.7,\"#b8e186\"],[0.8,\"#7fbc41\"],[0.9,\"#4d9221\"],[1,\"#276419\"]]},\"xaxis\":{\"gridcolor\":\"white\",\"linecolor\":\"white\",\"ticks\":\"\",\"title\":{\"standoff\":15},\"zerolinecolor\":\"white\",\"automargin\":true,\"zerolinewidth\":2},\"yaxis\":{\"gridcolor\":\"white\",\"linecolor\":\"white\",\"ticks\":\"\",\"title\":{\"standoff\":15},\"zerolinecolor\":\"white\",\"automargin\":true,\"zerolinewidth\":2},\"scene\":{\"xaxis\":{\"backgroundcolor\":\"#E5ECF6\",\"gridcolor\":\"white\",\"linecolor\":\"white\",\"showbackground\":true,\"ticks\":\"\",\"zerolinecolor\":\"white\",\"gridwidth\":2},\"yaxis\":{\"backgroundcolor\":\"#E5ECF6\",\"gridcolor\":\"white\",\"linecolor\":\"white\",\"showbackground\":true,\"ticks\":\"\",\"zerolinecolor\":\"white\",\"gridwidth\":2},\"zaxis\":{\"backgroundcolor\":\"#E5ECF6\",\"gridcolor\":\"white\",\"linecolor\":\"white\",\"showbackground\":true,\"ticks\":\"\",\"zerolinecolor\":\"white\",\"gridwidth\":2}},\"shapedefaults\":{\"line\":{\"color\":\"#2a3f5f\"}},\"annotationdefaults\":{\"arrowcolor\":\"#2a3f5f\",\"arrowhead\":0,\"arrowwidth\":1},\"geo\":{\"bgcolor\":\"white\",\"landcolor\":\"#E5ECF6\",\"subunitcolor\":\"white\",\"showland\":true,\"showlakes\":true,\"lakecolor\":\"white\"},\"title\":{\"x\":0.05},\"mapbox\":{\"style\":\"light\"}}},\"xaxis\":{\"anchor\":\"y\",\"domain\":[0.0,1.0],\"title\":{\"text\":\"Date\"}},\"yaxis\":{\"anchor\":\"x\",\"domain\":[0.0,1.0],\"title\":{\"text\":\"VALUE\"}},\"legend\":{\"title\":{\"text\":\"Labour force characteristics\"},\"tracegroupgap\":0,\"itemsizing\":\"constant\"},\"margin\":{\"t\":60}},                        {\"responsive\": true}                    ).then(function(){\n",
       "                            \n",
       "var gd = document.getElementById('4225e27e-4950-478b-90bd-96f09ff849a2');\n",
       "var x = new MutationObserver(function (mutations, observer) {{\n",
       "        var display = window.getComputedStyle(gd).display;\n",
       "        if (!display || display === 'none') {{\n",
       "            console.log([gd, 'removed!']);\n",
       "            Plotly.purge(gd);\n",
       "            observer.disconnect();\n",
       "        }}\n",
       "}});\n",
       "\n",
       "// Listen for the removal of the full notebook cells\n",
       "var notebookContainer = gd.closest('#notebook-container');\n",
       "if (notebookContainer) {{\n",
       "    x.observe(notebookContainer, {childList: true});\n",
       "}}\n",
       "\n",
       "// Listen for the clearing of the current output cell\n",
       "var outputEl = gd.closest('.output');\n",
       "if (outputEl) {{\n",
       "    x.observe(outputEl, {childList: true});\n",
       "}}\n",
       "\n",
       "                        })                };                });            </script>        </div>"
      ]
     },
     "metadata": {},
     "output_type": "display_data"
    }
   ],
   "source": [
    "\n",
    "fig1 = px.scatter(df_lf.loc[(df_lf['Labour force characteristics'].isin(['Employment', 'Population', 'Not in labour force']))] , x='Date', y='VALUE', size='VALUE', color='Labour force characteristics', trendline='ols')\n",
    "fig1.show()"
   ]
  },
  {
   "cell_type": "code",
   "execution_count": 131,
   "id": "c3fb347a-a7a3-4d15-b9bd-d4ef21977c8e",
   "metadata": {},
   "outputs": [
    {
     "data": {
      "application/vnd.plotly.v1+json": {
       "config": {
        "plotlyServerURL": "https://plot.ly"
       },
       "data": [
        {
         "hovertemplate": "Sex=Both sexes<br>Date=%{x}<br>Claimants=%{marker.size}<extra></extra>",
         "legendgroup": "Both sexes",
         "marker": {
          "color": "#636efa",
          "size": [
           1660,
           1680,
           1670,
           1410,
           1110,
           980,
           990,
           1180,
           850,
           860,
           970,
           1230,
           1650,
           1690,
           1720,
           1630,
           1360,
           1260,
           1530,
           1550,
           1210,
           1300,
           1470,
           1660,
           2040,
           2110,
           2190,
           2010,
           1730,
           1580,
           1780,
           1710,
           1340,
           1380,
           1460,
           1680,
           2010,
           2090,
           2110,
           1950,
           1640,
           1490,
           1780,
           1800,
           1370,
           1420,
           1550,
           1760,
           2060,
           2040,
           2150,
           1870,
           1560,
           1410,
           1690,
           1700,
           1240,
           1240,
           1340,
           1590,
           1840,
           1970,
           2050,
           1790,
           1510,
           1390,
           1630,
           1840,
           1350,
           1360,
           1460,
           1620,
           1910,
           1940,
           2030,
           1780,
           1500,
           1420,
           1640,
           1760,
           1280,
           1310,
           1350,
           1520,
           1830,
           1950,
           2020,
           1790,
           1480,
           1360,
           1780,
           1790,
           1310,
           1310,
           1360,
           1560,
           1940,
           1980,
           2040,
           1800,
           1550,
           1470,
           1840,
           1830,
           1350,
           1390,
           1490,
           1880,
           2460,
           2640,
           2890,
           2770,
           2460,
           2320,
           2690,
           2690,
           2240,
           2200,
           2250,
           2460,
           2890,
           2930,
           2960,
           2540,
           2220,
           2090,
           2440,
           2380,
           1810,
           1760,
           1830,
           2010,
           2420,
           2390,
           2470,
           2180,
           1810,
           1710,
           1790,
           1990,
           1530,
           1550,
           1630,
           1790,
           2140,
           2190,
           2390,
           2090,
           1860,
           1670,
           2030,
           2030,
           1540,
           1570,
           1660,
           1810,
           2280,
           2380,
           2470,
           2220,
           1980,
           1820,
           2180,
           2150,
           1620,
           1690,
           1770,
           1890,
           2220,
           2210,
           2310,
           2080,
           1810,
           1570,
           2010,
           2030,
           1510,
           1550,
           1640,
           1880,
           2250,
           2230,
           2320,
           2060,
           1760,
           1580,
           2010,
           2050,
           1510,
           1550,
           1690,
           1940,
           2360,
           2370,
           2480,
           2210,
           1840,
           1690,
           2270,
           2190,
           1790,
           1820,
           1930,
           2220,
           2470,
           2450,
           2580,
           2310,
           1930,
           1790,
           2200,
           2140,
           1530,
           1560,
           1700,
           1980,
           2250,
           2220,
           2320,
           1970,
           1680,
           1480,
           1950,
           1900,
           1330,
           1380,
           1490,
           1710,
           2060,
           2070,
           2240,
           1950,
           1610,
           1470,
           1960,
           1940,
           1400,
           1450,
           1620,
           1900,
           2170,
           2220,
           2470,
           2310,
           1870,
           1290,
           1150,
           990,
           750,
           2800,
           2910,
           3240,
           4160,
           4560,
           4230,
           4390,
           4040,
           3750,
           4000,
           3850,
           2960,
           1970,
           2010,
           2190,
           2470,
           2270,
           2280,
           1930,
           1520,
           1360,
           1830,
           1800,
           1210,
           1200,
           1370,
           1630,
           1930,
           1890,
           1900,
           1640,
           1350,
           1330,
           1890,
           1860,
           1340,
           1360,
           1530,
           1850,
           2110,
           2060,
           2160
          ],
          "sizemode": "area",
          "sizeref": 11.4,
          "symbol": "circle"
         },
         "mode": "markers",
         "name": "Both sexes",
         "orientation": "v",
         "showlegend": true,
         "type": "scatter",
         "x": [
          "2000-01-01T00:00:00",
          "2000-02-01T00:00:00",
          "2000-03-01T00:00:00",
          "2000-04-01T00:00:00",
          "2000-05-01T00:00:00",
          "2000-06-01T00:00:00",
          "2000-07-01T00:00:00",
          "2000-08-01T00:00:00",
          "2000-09-01T00:00:00",
          "2000-10-01T00:00:00",
          "2000-11-01T00:00:00",
          "2000-12-01T00:00:00",
          "2001-01-01T00:00:00",
          "2001-02-01T00:00:00",
          "2001-03-01T00:00:00",
          "2001-04-01T00:00:00",
          "2001-05-01T00:00:00",
          "2001-06-01T00:00:00",
          "2001-07-01T00:00:00",
          "2001-08-01T00:00:00",
          "2001-09-01T00:00:00",
          "2001-10-01T00:00:00",
          "2001-11-01T00:00:00",
          "2001-12-01T00:00:00",
          "2002-01-01T00:00:00",
          "2002-02-01T00:00:00",
          "2002-03-01T00:00:00",
          "2002-04-01T00:00:00",
          "2002-05-01T00:00:00",
          "2002-06-01T00:00:00",
          "2002-07-01T00:00:00",
          "2002-08-01T00:00:00",
          "2002-09-01T00:00:00",
          "2002-10-01T00:00:00",
          "2002-11-01T00:00:00",
          "2002-12-01T00:00:00",
          "2003-01-01T00:00:00",
          "2003-02-01T00:00:00",
          "2003-03-01T00:00:00",
          "2003-04-01T00:00:00",
          "2003-05-01T00:00:00",
          "2003-06-01T00:00:00",
          "2003-07-01T00:00:00",
          "2003-08-01T00:00:00",
          "2003-09-01T00:00:00",
          "2003-10-01T00:00:00",
          "2003-11-01T00:00:00",
          "2003-12-01T00:00:00",
          "2004-01-01T00:00:00",
          "2004-02-01T00:00:00",
          "2004-03-01T00:00:00",
          "2004-04-01T00:00:00",
          "2004-05-01T00:00:00",
          "2004-06-01T00:00:00",
          "2004-07-01T00:00:00",
          "2004-08-01T00:00:00",
          "2004-09-01T00:00:00",
          "2004-10-01T00:00:00",
          "2004-11-01T00:00:00",
          "2004-12-01T00:00:00",
          "2005-01-01T00:00:00",
          "2005-02-01T00:00:00",
          "2005-03-01T00:00:00",
          "2005-04-01T00:00:00",
          "2005-05-01T00:00:00",
          "2005-06-01T00:00:00",
          "2005-07-01T00:00:00",
          "2005-08-01T00:00:00",
          "2005-09-01T00:00:00",
          "2005-10-01T00:00:00",
          "2005-11-01T00:00:00",
          "2005-12-01T00:00:00",
          "2006-01-01T00:00:00",
          "2006-02-01T00:00:00",
          "2006-03-01T00:00:00",
          "2006-04-01T00:00:00",
          "2006-05-01T00:00:00",
          "2006-06-01T00:00:00",
          "2006-07-01T00:00:00",
          "2006-08-01T00:00:00",
          "2006-09-01T00:00:00",
          "2006-10-01T00:00:00",
          "2006-11-01T00:00:00",
          "2006-12-01T00:00:00",
          "2007-01-01T00:00:00",
          "2007-02-01T00:00:00",
          "2007-03-01T00:00:00",
          "2007-04-01T00:00:00",
          "2007-05-01T00:00:00",
          "2007-06-01T00:00:00",
          "2007-07-01T00:00:00",
          "2007-08-01T00:00:00",
          "2007-09-01T00:00:00",
          "2007-10-01T00:00:00",
          "2007-11-01T00:00:00",
          "2007-12-01T00:00:00",
          "2008-01-01T00:00:00",
          "2008-02-01T00:00:00",
          "2008-03-01T00:00:00",
          "2008-04-01T00:00:00",
          "2008-05-01T00:00:00",
          "2008-06-01T00:00:00",
          "2008-07-01T00:00:00",
          "2008-08-01T00:00:00",
          "2008-09-01T00:00:00",
          "2008-10-01T00:00:00",
          "2008-11-01T00:00:00",
          "2008-12-01T00:00:00",
          "2009-01-01T00:00:00",
          "2009-02-01T00:00:00",
          "2009-03-01T00:00:00",
          "2009-04-01T00:00:00",
          "2009-05-01T00:00:00",
          "2009-06-01T00:00:00",
          "2009-07-01T00:00:00",
          "2009-08-01T00:00:00",
          "2009-09-01T00:00:00",
          "2009-10-01T00:00:00",
          "2009-11-01T00:00:00",
          "2009-12-01T00:00:00",
          "2010-01-01T00:00:00",
          "2010-02-01T00:00:00",
          "2010-03-01T00:00:00",
          "2010-04-01T00:00:00",
          "2010-05-01T00:00:00",
          "2010-06-01T00:00:00",
          "2010-07-01T00:00:00",
          "2010-08-01T00:00:00",
          "2010-09-01T00:00:00",
          "2010-10-01T00:00:00",
          "2010-11-01T00:00:00",
          "2010-12-01T00:00:00",
          "2011-01-01T00:00:00",
          "2011-02-01T00:00:00",
          "2011-03-01T00:00:00",
          "2011-04-01T00:00:00",
          "2011-05-01T00:00:00",
          "2011-06-01T00:00:00",
          "2011-07-01T00:00:00",
          "2011-08-01T00:00:00",
          "2011-09-01T00:00:00",
          "2011-10-01T00:00:00",
          "2011-11-01T00:00:00",
          "2011-12-01T00:00:00",
          "2012-01-01T00:00:00",
          "2012-02-01T00:00:00",
          "2012-03-01T00:00:00",
          "2012-04-01T00:00:00",
          "2012-05-01T00:00:00",
          "2012-06-01T00:00:00",
          "2012-07-01T00:00:00",
          "2012-08-01T00:00:00",
          "2012-09-01T00:00:00",
          "2012-10-01T00:00:00",
          "2012-11-01T00:00:00",
          "2012-12-01T00:00:00",
          "2013-01-01T00:00:00",
          "2013-02-01T00:00:00",
          "2013-03-01T00:00:00",
          "2013-04-01T00:00:00",
          "2013-05-01T00:00:00",
          "2013-06-01T00:00:00",
          "2013-07-01T00:00:00",
          "2013-08-01T00:00:00",
          "2013-09-01T00:00:00",
          "2013-10-01T00:00:00",
          "2013-11-01T00:00:00",
          "2013-12-01T00:00:00",
          "2014-01-01T00:00:00",
          "2014-02-01T00:00:00",
          "2014-03-01T00:00:00",
          "2014-04-01T00:00:00",
          "2014-05-01T00:00:00",
          "2014-06-01T00:00:00",
          "2014-07-01T00:00:00",
          "2014-08-01T00:00:00",
          "2014-09-01T00:00:00",
          "2014-10-01T00:00:00",
          "2014-11-01T00:00:00",
          "2014-12-01T00:00:00",
          "2015-01-01T00:00:00",
          "2015-02-01T00:00:00",
          "2015-03-01T00:00:00",
          "2015-04-01T00:00:00",
          "2015-05-01T00:00:00",
          "2015-06-01T00:00:00",
          "2015-07-01T00:00:00",
          "2015-08-01T00:00:00",
          "2015-09-01T00:00:00",
          "2015-10-01T00:00:00",
          "2015-11-01T00:00:00",
          "2015-12-01T00:00:00",
          "2016-01-01T00:00:00",
          "2016-02-01T00:00:00",
          "2016-03-01T00:00:00",
          "2016-04-01T00:00:00",
          "2016-05-01T00:00:00",
          "2016-06-01T00:00:00",
          "2016-07-01T00:00:00",
          "2016-08-01T00:00:00",
          "2016-09-01T00:00:00",
          "2016-10-01T00:00:00",
          "2016-11-01T00:00:00",
          "2016-12-01T00:00:00",
          "2017-01-01T00:00:00",
          "2017-02-01T00:00:00",
          "2017-03-01T00:00:00",
          "2017-04-01T00:00:00",
          "2017-05-01T00:00:00",
          "2017-06-01T00:00:00",
          "2017-07-01T00:00:00",
          "2017-08-01T00:00:00",
          "2017-09-01T00:00:00",
          "2017-10-01T00:00:00",
          "2017-11-01T00:00:00",
          "2017-12-01T00:00:00",
          "2018-01-01T00:00:00",
          "2018-02-01T00:00:00",
          "2018-03-01T00:00:00",
          "2018-04-01T00:00:00",
          "2018-05-01T00:00:00",
          "2018-06-01T00:00:00",
          "2018-07-01T00:00:00",
          "2018-08-01T00:00:00",
          "2018-09-01T00:00:00",
          "2018-10-01T00:00:00",
          "2018-11-01T00:00:00",
          "2018-12-01T00:00:00",
          "2019-01-01T00:00:00",
          "2019-02-01T00:00:00",
          "2019-03-01T00:00:00",
          "2019-04-01T00:00:00",
          "2019-05-01T00:00:00",
          "2019-06-01T00:00:00",
          "2019-07-01T00:00:00",
          "2019-08-01T00:00:00",
          "2019-09-01T00:00:00",
          "2019-10-01T00:00:00",
          "2019-11-01T00:00:00",
          "2019-12-01T00:00:00",
          "2020-01-01T00:00:00",
          "2020-02-01T00:00:00",
          "2020-03-01T00:00:00",
          "2020-04-01T00:00:00",
          "2020-05-01T00:00:00",
          "2020-06-01T00:00:00",
          "2020-07-01T00:00:00",
          "2020-08-01T00:00:00",
          "2020-09-01T00:00:00",
          "2020-10-01T00:00:00",
          "2020-11-01T00:00:00",
          "2020-12-01T00:00:00",
          "2021-01-01T00:00:00",
          "2021-02-01T00:00:00",
          "2021-03-01T00:00:00",
          "2021-04-01T00:00:00",
          "2021-05-01T00:00:00",
          "2021-06-01T00:00:00",
          "2021-07-01T00:00:00",
          "2021-08-01T00:00:00",
          "2021-09-01T00:00:00",
          "2021-10-01T00:00:00",
          "2021-11-01T00:00:00",
          "2021-12-01T00:00:00",
          "2022-01-01T00:00:00",
          "2022-02-01T00:00:00",
          "2022-03-01T00:00:00",
          "2022-04-01T00:00:00",
          "2022-05-01T00:00:00",
          "2022-06-01T00:00:00",
          "2022-07-01T00:00:00",
          "2022-08-01T00:00:00",
          "2022-09-01T00:00:00",
          "2022-10-01T00:00:00",
          "2022-11-01T00:00:00",
          "2022-12-01T00:00:00",
          "2023-01-01T00:00:00",
          "2023-02-01T00:00:00",
          "2023-03-01T00:00:00",
          "2023-04-01T00:00:00",
          "2023-05-01T00:00:00",
          "2023-06-01T00:00:00",
          "2023-07-01T00:00:00",
          "2023-08-01T00:00:00",
          "2023-09-01T00:00:00",
          "2023-10-01T00:00:00",
          "2023-11-01T00:00:00",
          "2023-12-01T00:00:00",
          "2024-01-01T00:00:00",
          "2024-02-01T00:00:00",
          "2024-03-01T00:00:00"
         ],
         "xaxis": "x",
         "y": [
          1660,
          1680,
          1670,
          1410,
          1110,
          980,
          990,
          1180,
          850,
          860,
          970,
          1230,
          1650,
          1690,
          1720,
          1630,
          1360,
          1260,
          1530,
          1550,
          1210,
          1300,
          1470,
          1660,
          2040,
          2110,
          2190,
          2010,
          1730,
          1580,
          1780,
          1710,
          1340,
          1380,
          1460,
          1680,
          2010,
          2090,
          2110,
          1950,
          1640,
          1490,
          1780,
          1800,
          1370,
          1420,
          1550,
          1760,
          2060,
          2040,
          2150,
          1870,
          1560,
          1410,
          1690,
          1700,
          1240,
          1240,
          1340,
          1590,
          1840,
          1970,
          2050,
          1790,
          1510,
          1390,
          1630,
          1840,
          1350,
          1360,
          1460,
          1620,
          1910,
          1940,
          2030,
          1780,
          1500,
          1420,
          1640,
          1760,
          1280,
          1310,
          1350,
          1520,
          1830,
          1950,
          2020,
          1790,
          1480,
          1360,
          1780,
          1790,
          1310,
          1310,
          1360,
          1560,
          1940,
          1980,
          2040,
          1800,
          1550,
          1470,
          1840,
          1830,
          1350,
          1390,
          1490,
          1880,
          2460,
          2640,
          2890,
          2770,
          2460,
          2320,
          2690,
          2690,
          2240,
          2200,
          2250,
          2460,
          2890,
          2930,
          2960,
          2540,
          2220,
          2090,
          2440,
          2380,
          1810,
          1760,
          1830,
          2010,
          2420,
          2390,
          2470,
          2180,
          1810,
          1710,
          1790,
          1990,
          1530,
          1550,
          1630,
          1790,
          2140,
          2190,
          2390,
          2090,
          1860,
          1670,
          2030,
          2030,
          1540,
          1570,
          1660,
          1810,
          2280,
          2380,
          2470,
          2220,
          1980,
          1820,
          2180,
          2150,
          1620,
          1690,
          1770,
          1890,
          2220,
          2210,
          2310,
          2080,
          1810,
          1570,
          2010,
          2030,
          1510,
          1550,
          1640,
          1880,
          2250,
          2230,
          2320,
          2060,
          1760,
          1580,
          2010,
          2050,
          1510,
          1550,
          1690,
          1940,
          2360,
          2370,
          2480,
          2210,
          1840,
          1690,
          2270,
          2190,
          1790,
          1820,
          1930,
          2220,
          2470,
          2450,
          2580,
          2310,
          1930,
          1790,
          2200,
          2140,
          1530,
          1560,
          1700,
          1980,
          2250,
          2220,
          2320,
          1970,
          1680,
          1480,
          1950,
          1900,
          1330,
          1380,
          1490,
          1710,
          2060,
          2070,
          2240,
          1950,
          1610,
          1470,
          1960,
          1940,
          1400,
          1450,
          1620,
          1900,
          2170,
          2220,
          2470,
          2310,
          1870,
          1290,
          1150,
          990,
          750,
          2800,
          2910,
          3240,
          4160,
          4560,
          4230,
          4390,
          4040,
          3750,
          4000,
          3850,
          2960,
          1970,
          2010,
          2190,
          2470,
          2270,
          2280,
          1930,
          1520,
          1360,
          1830,
          1800,
          1210,
          1200,
          1370,
          1630,
          1930,
          1890,
          1900,
          1640,
          1350,
          1330,
          1890,
          1860,
          1340,
          1360,
          1530,
          1850,
          2110,
          2060,
          2160
         ],
         "yaxis": "y"
        },
        {
         "hovertemplate": "Sex=Males<br>Date=%{x}<br>Claimants=%{marker.size}<extra></extra>",
         "legendgroup": "Males",
         "marker": {
          "color": "#EF553B",
          "size": [
           1100,
           1130,
           1100,
           890,
           600,
           470,
           420,
           410,
           360,
           380,
           460,
           670,
           1060,
           1090,
           1080,
           1010,
           760,
           660,
           680,
           630,
           570,
           620,
           740,
           910,
           1270,
           1310,
           1340,
           1190,
           930,
           780,
           710,
           670,
           580,
           610,
           700,
           900,
           1230,
           1300,
           1290,
           1170,
           870,
           710,
           730,
           710,
           600,
           630,
           740,
           940,
           1220,
           1230,
           1270,
           1070,
           800,
           620,
           630,
           600,
           480,
           500,
           590,
           790,
           1060,
           1150,
           1140,
           1000,
           720,
           590,
           650,
           670,
           550,
           570,
           660,
           800,
           1070,
           1090,
           1100,
           960,
           710,
           620,
           600,
           580,
           510,
           530,
           590,
           740,
           1050,
           1140,
           1140,
           980,
           720,
           600,
           620,
           580,
           480,
           490,
           530,
           700,
           1080,
           1120,
           1090,
           940,
           690,
           590,
           630,
           640,
           520,
           540,
           640,
           1000,
           1530,
           1670,
           1820,
           1760,
           1460,
           1280,
           1300,
           1280,
           1170,
           1150,
           1180,
           1330,
           1720,
           1740,
           1660,
           1410,
           1140,
           990,
           990,
           960,
           830,
           800,
           890,
           1060,
           1430,
           1460,
           1430,
           1250,
           920,
           770,
           740,
           700,
           630,
           640,
           740,
           900,
           1220,
           1270,
           1350,
           1140,
           920,
           790,
           770,
           740,
           630,
           660,
           770,
           930,
           1370,
           1480,
           1490,
           1350,
           1090,
           940,
           960,
           890,
           730,
           820,
           900,
           1050,
           1350,
           1360,
           1350,
           1220,
           970,
           730,
           780,
           740,
           660,
           700,
           790,
           1020,
           1350,
           1350,
           1360,
           1210,
           930,
           700,
           740,
           740,
           610,
           660,
           770,
           1010,
           1400,
           1440,
           1450,
           1320,
           1000,
           830,
           1030,
           910,
           800,
           840,
           940,
           1200,
           1460,
           1470,
           1470,
           1350,
           1010,
           850,
           870,
           800,
           620,
           660,
           780,
           1040,
           1320,
           1320,
           1300,
           1120,
           850,
           650,
           690,
           630,
           520,
           560,
           680,
           900,
           1240,
           1240,
           1260,
           1120,
           820,
           680,
           710,
           680,
           560,
           630,
           800,
           1060,
           1320,
           1350,
           1450,
           1390,
           1050,
           620,
           490,
           390,
           260,
           1250,
           1350,
           1630,
           2150,
           2390,
           2260,
           2100,
           1880,
           1690,
           1700,
           1600,
           1380,
           920,
           950,
           1140,
           1410,
           1330,
           1250,
           1060,
           720,
           600,
           630,
           620,
           480,
           480,
           630,
           890,
           1170,
           1170,
           1090,
           940,
           610,
           550,
           650,
           620,
           520,
           540,
           690,
           990,
           1250,
           1240,
           1260
          ],
          "sizemode": "area",
          "sizeref": 11.4,
          "symbol": "circle"
         },
         "mode": "markers",
         "name": "Males",
         "orientation": "v",
         "showlegend": true,
         "type": "scatter",
         "x": [
          "2000-01-01T00:00:00",
          "2000-02-01T00:00:00",
          "2000-03-01T00:00:00",
          "2000-04-01T00:00:00",
          "2000-05-01T00:00:00",
          "2000-06-01T00:00:00",
          "2000-07-01T00:00:00",
          "2000-08-01T00:00:00",
          "2000-09-01T00:00:00",
          "2000-10-01T00:00:00",
          "2000-11-01T00:00:00",
          "2000-12-01T00:00:00",
          "2001-01-01T00:00:00",
          "2001-02-01T00:00:00",
          "2001-03-01T00:00:00",
          "2001-04-01T00:00:00",
          "2001-05-01T00:00:00",
          "2001-06-01T00:00:00",
          "2001-07-01T00:00:00",
          "2001-08-01T00:00:00",
          "2001-09-01T00:00:00",
          "2001-10-01T00:00:00",
          "2001-11-01T00:00:00",
          "2001-12-01T00:00:00",
          "2002-01-01T00:00:00",
          "2002-02-01T00:00:00",
          "2002-03-01T00:00:00",
          "2002-04-01T00:00:00",
          "2002-05-01T00:00:00",
          "2002-06-01T00:00:00",
          "2002-07-01T00:00:00",
          "2002-08-01T00:00:00",
          "2002-09-01T00:00:00",
          "2002-10-01T00:00:00",
          "2002-11-01T00:00:00",
          "2002-12-01T00:00:00",
          "2003-01-01T00:00:00",
          "2003-02-01T00:00:00",
          "2003-03-01T00:00:00",
          "2003-04-01T00:00:00",
          "2003-05-01T00:00:00",
          "2003-06-01T00:00:00",
          "2003-07-01T00:00:00",
          "2003-08-01T00:00:00",
          "2003-09-01T00:00:00",
          "2003-10-01T00:00:00",
          "2003-11-01T00:00:00",
          "2003-12-01T00:00:00",
          "2004-01-01T00:00:00",
          "2004-02-01T00:00:00",
          "2004-03-01T00:00:00",
          "2004-04-01T00:00:00",
          "2004-05-01T00:00:00",
          "2004-06-01T00:00:00",
          "2004-07-01T00:00:00",
          "2004-08-01T00:00:00",
          "2004-09-01T00:00:00",
          "2004-10-01T00:00:00",
          "2004-11-01T00:00:00",
          "2004-12-01T00:00:00",
          "2005-01-01T00:00:00",
          "2005-02-01T00:00:00",
          "2005-03-01T00:00:00",
          "2005-04-01T00:00:00",
          "2005-05-01T00:00:00",
          "2005-06-01T00:00:00",
          "2005-07-01T00:00:00",
          "2005-08-01T00:00:00",
          "2005-09-01T00:00:00",
          "2005-10-01T00:00:00",
          "2005-11-01T00:00:00",
          "2005-12-01T00:00:00",
          "2006-01-01T00:00:00",
          "2006-02-01T00:00:00",
          "2006-03-01T00:00:00",
          "2006-04-01T00:00:00",
          "2006-05-01T00:00:00",
          "2006-06-01T00:00:00",
          "2006-07-01T00:00:00",
          "2006-08-01T00:00:00",
          "2006-09-01T00:00:00",
          "2006-10-01T00:00:00",
          "2006-11-01T00:00:00",
          "2006-12-01T00:00:00",
          "2007-01-01T00:00:00",
          "2007-02-01T00:00:00",
          "2007-03-01T00:00:00",
          "2007-04-01T00:00:00",
          "2007-05-01T00:00:00",
          "2007-06-01T00:00:00",
          "2007-07-01T00:00:00",
          "2007-08-01T00:00:00",
          "2007-09-01T00:00:00",
          "2007-10-01T00:00:00",
          "2007-11-01T00:00:00",
          "2007-12-01T00:00:00",
          "2008-01-01T00:00:00",
          "2008-02-01T00:00:00",
          "2008-03-01T00:00:00",
          "2008-04-01T00:00:00",
          "2008-05-01T00:00:00",
          "2008-06-01T00:00:00",
          "2008-07-01T00:00:00",
          "2008-08-01T00:00:00",
          "2008-09-01T00:00:00",
          "2008-10-01T00:00:00",
          "2008-11-01T00:00:00",
          "2008-12-01T00:00:00",
          "2009-01-01T00:00:00",
          "2009-02-01T00:00:00",
          "2009-03-01T00:00:00",
          "2009-04-01T00:00:00",
          "2009-05-01T00:00:00",
          "2009-06-01T00:00:00",
          "2009-07-01T00:00:00",
          "2009-08-01T00:00:00",
          "2009-09-01T00:00:00",
          "2009-10-01T00:00:00",
          "2009-11-01T00:00:00",
          "2009-12-01T00:00:00",
          "2010-01-01T00:00:00",
          "2010-02-01T00:00:00",
          "2010-03-01T00:00:00",
          "2010-04-01T00:00:00",
          "2010-05-01T00:00:00",
          "2010-06-01T00:00:00",
          "2010-07-01T00:00:00",
          "2010-08-01T00:00:00",
          "2010-09-01T00:00:00",
          "2010-10-01T00:00:00",
          "2010-11-01T00:00:00",
          "2010-12-01T00:00:00",
          "2011-01-01T00:00:00",
          "2011-02-01T00:00:00",
          "2011-03-01T00:00:00",
          "2011-04-01T00:00:00",
          "2011-05-01T00:00:00",
          "2011-06-01T00:00:00",
          "2011-07-01T00:00:00",
          "2011-08-01T00:00:00",
          "2011-09-01T00:00:00",
          "2011-10-01T00:00:00",
          "2011-11-01T00:00:00",
          "2011-12-01T00:00:00",
          "2012-01-01T00:00:00",
          "2012-02-01T00:00:00",
          "2012-03-01T00:00:00",
          "2012-04-01T00:00:00",
          "2012-05-01T00:00:00",
          "2012-06-01T00:00:00",
          "2012-07-01T00:00:00",
          "2012-08-01T00:00:00",
          "2012-09-01T00:00:00",
          "2012-10-01T00:00:00",
          "2012-11-01T00:00:00",
          "2012-12-01T00:00:00",
          "2013-01-01T00:00:00",
          "2013-02-01T00:00:00",
          "2013-03-01T00:00:00",
          "2013-04-01T00:00:00",
          "2013-05-01T00:00:00",
          "2013-06-01T00:00:00",
          "2013-07-01T00:00:00",
          "2013-08-01T00:00:00",
          "2013-09-01T00:00:00",
          "2013-10-01T00:00:00",
          "2013-11-01T00:00:00",
          "2013-12-01T00:00:00",
          "2014-01-01T00:00:00",
          "2014-02-01T00:00:00",
          "2014-03-01T00:00:00",
          "2014-04-01T00:00:00",
          "2014-05-01T00:00:00",
          "2014-06-01T00:00:00",
          "2014-07-01T00:00:00",
          "2014-08-01T00:00:00",
          "2014-09-01T00:00:00",
          "2014-10-01T00:00:00",
          "2014-11-01T00:00:00",
          "2014-12-01T00:00:00",
          "2015-01-01T00:00:00",
          "2015-02-01T00:00:00",
          "2015-03-01T00:00:00",
          "2015-04-01T00:00:00",
          "2015-05-01T00:00:00",
          "2015-06-01T00:00:00",
          "2015-07-01T00:00:00",
          "2015-08-01T00:00:00",
          "2015-09-01T00:00:00",
          "2015-10-01T00:00:00",
          "2015-11-01T00:00:00",
          "2015-12-01T00:00:00",
          "2016-01-01T00:00:00",
          "2016-02-01T00:00:00",
          "2016-03-01T00:00:00",
          "2016-04-01T00:00:00",
          "2016-05-01T00:00:00",
          "2016-06-01T00:00:00",
          "2016-07-01T00:00:00",
          "2016-08-01T00:00:00",
          "2016-09-01T00:00:00",
          "2016-10-01T00:00:00",
          "2016-11-01T00:00:00",
          "2016-12-01T00:00:00",
          "2017-01-01T00:00:00",
          "2017-02-01T00:00:00",
          "2017-03-01T00:00:00",
          "2017-04-01T00:00:00",
          "2017-05-01T00:00:00",
          "2017-06-01T00:00:00",
          "2017-07-01T00:00:00",
          "2017-08-01T00:00:00",
          "2017-09-01T00:00:00",
          "2017-10-01T00:00:00",
          "2017-11-01T00:00:00",
          "2017-12-01T00:00:00",
          "2018-01-01T00:00:00",
          "2018-02-01T00:00:00",
          "2018-03-01T00:00:00",
          "2018-04-01T00:00:00",
          "2018-05-01T00:00:00",
          "2018-06-01T00:00:00",
          "2018-07-01T00:00:00",
          "2018-08-01T00:00:00",
          "2018-09-01T00:00:00",
          "2018-10-01T00:00:00",
          "2018-11-01T00:00:00",
          "2018-12-01T00:00:00",
          "2019-01-01T00:00:00",
          "2019-02-01T00:00:00",
          "2019-03-01T00:00:00",
          "2019-04-01T00:00:00",
          "2019-05-01T00:00:00",
          "2019-06-01T00:00:00",
          "2019-07-01T00:00:00",
          "2019-08-01T00:00:00",
          "2019-09-01T00:00:00",
          "2019-10-01T00:00:00",
          "2019-11-01T00:00:00",
          "2019-12-01T00:00:00",
          "2020-01-01T00:00:00",
          "2020-02-01T00:00:00",
          "2020-03-01T00:00:00",
          "2020-04-01T00:00:00",
          "2020-05-01T00:00:00",
          "2020-06-01T00:00:00",
          "2020-07-01T00:00:00",
          "2020-08-01T00:00:00",
          "2020-09-01T00:00:00",
          "2020-10-01T00:00:00",
          "2020-11-01T00:00:00",
          "2020-12-01T00:00:00",
          "2021-01-01T00:00:00",
          "2021-02-01T00:00:00",
          "2021-03-01T00:00:00",
          "2021-04-01T00:00:00",
          "2021-05-01T00:00:00",
          "2021-06-01T00:00:00",
          "2021-07-01T00:00:00",
          "2021-08-01T00:00:00",
          "2021-09-01T00:00:00",
          "2021-10-01T00:00:00",
          "2021-11-01T00:00:00",
          "2021-12-01T00:00:00",
          "2022-01-01T00:00:00",
          "2022-02-01T00:00:00",
          "2022-03-01T00:00:00",
          "2022-04-01T00:00:00",
          "2022-05-01T00:00:00",
          "2022-06-01T00:00:00",
          "2022-07-01T00:00:00",
          "2022-08-01T00:00:00",
          "2022-09-01T00:00:00",
          "2022-10-01T00:00:00",
          "2022-11-01T00:00:00",
          "2022-12-01T00:00:00",
          "2023-01-01T00:00:00",
          "2023-02-01T00:00:00",
          "2023-03-01T00:00:00",
          "2023-04-01T00:00:00",
          "2023-05-01T00:00:00",
          "2023-06-01T00:00:00",
          "2023-07-01T00:00:00",
          "2023-08-01T00:00:00",
          "2023-09-01T00:00:00",
          "2023-10-01T00:00:00",
          "2023-11-01T00:00:00",
          "2023-12-01T00:00:00",
          "2024-01-01T00:00:00",
          "2024-02-01T00:00:00",
          "2024-03-01T00:00:00"
         ],
         "xaxis": "x",
         "y": [
          1100,
          1130,
          1100,
          890,
          600,
          470,
          420,
          410,
          360,
          380,
          460,
          670,
          1060,
          1090,
          1080,
          1010,
          760,
          660,
          680,
          630,
          570,
          620,
          740,
          910,
          1270,
          1310,
          1340,
          1190,
          930,
          780,
          710,
          670,
          580,
          610,
          700,
          900,
          1230,
          1300,
          1290,
          1170,
          870,
          710,
          730,
          710,
          600,
          630,
          740,
          940,
          1220,
          1230,
          1270,
          1070,
          800,
          620,
          630,
          600,
          480,
          500,
          590,
          790,
          1060,
          1150,
          1140,
          1000,
          720,
          590,
          650,
          670,
          550,
          570,
          660,
          800,
          1070,
          1090,
          1100,
          960,
          710,
          620,
          600,
          580,
          510,
          530,
          590,
          740,
          1050,
          1140,
          1140,
          980,
          720,
          600,
          620,
          580,
          480,
          490,
          530,
          700,
          1080,
          1120,
          1090,
          940,
          690,
          590,
          630,
          640,
          520,
          540,
          640,
          1000,
          1530,
          1670,
          1820,
          1760,
          1460,
          1280,
          1300,
          1280,
          1170,
          1150,
          1180,
          1330,
          1720,
          1740,
          1660,
          1410,
          1140,
          990,
          990,
          960,
          830,
          800,
          890,
          1060,
          1430,
          1460,
          1430,
          1250,
          920,
          770,
          740,
          700,
          630,
          640,
          740,
          900,
          1220,
          1270,
          1350,
          1140,
          920,
          790,
          770,
          740,
          630,
          660,
          770,
          930,
          1370,
          1480,
          1490,
          1350,
          1090,
          940,
          960,
          890,
          730,
          820,
          900,
          1050,
          1350,
          1360,
          1350,
          1220,
          970,
          730,
          780,
          740,
          660,
          700,
          790,
          1020,
          1350,
          1350,
          1360,
          1210,
          930,
          700,
          740,
          740,
          610,
          660,
          770,
          1010,
          1400,
          1440,
          1450,
          1320,
          1000,
          830,
          1030,
          910,
          800,
          840,
          940,
          1200,
          1460,
          1470,
          1470,
          1350,
          1010,
          850,
          870,
          800,
          620,
          660,
          780,
          1040,
          1320,
          1320,
          1300,
          1120,
          850,
          650,
          690,
          630,
          520,
          560,
          680,
          900,
          1240,
          1240,
          1260,
          1120,
          820,
          680,
          710,
          680,
          560,
          630,
          800,
          1060,
          1320,
          1350,
          1450,
          1390,
          1050,
          620,
          490,
          390,
          260,
          1250,
          1350,
          1630,
          2150,
          2390,
          2260,
          2100,
          1880,
          1690,
          1700,
          1600,
          1380,
          920,
          950,
          1140,
          1410,
          1330,
          1250,
          1060,
          720,
          600,
          630,
          620,
          480,
          480,
          630,
          890,
          1170,
          1170,
          1090,
          940,
          610,
          550,
          650,
          620,
          520,
          540,
          690,
          990,
          1250,
          1240,
          1260
         ],
         "yaxis": "y"
        },
        {
         "hovertemplate": "Sex=Females<br>Date=%{x}<br>Claimants=%{marker.size}<extra></extra>",
         "legendgroup": "Females",
         "marker": {
          "color": "#00cc96",
          "size": [
           560,
           550,
           570,
           520,
           510,
           500,
           560,
           770,
           490,
           480,
           510,
           560,
           590,
           600,
           640,
           610,
           600,
           600,
           850,
           920,
           650,
           680,
           720,
           760,
           770,
           800,
           860,
           820,
           790,
           800,
           1080,
           1040,
           770,
           770,
           760,
           780,
           780,
           790,
           820,
           780,
           770,
           780,
           1060,
           1090,
           770,
           780,
           810,
           810,
           840,
           810,
           880,
           800,
           760,
           800,
           1050,
           1100,
           750,
           740,
           750,
           800,
           780,
           820,
           910,
           790,
           780,
           800,
           990,
           1170,
           800,
           790,
           800,
           810,
           840,
           850,
           920,
           820,
           800,
           810,
           1040,
           1180,
           770,
           780,
           770,
           790,
           780,
           800,
           890,
           810,
           760,
           750,
           1170,
           1210,
           840,
           820,
           820,
           860,
           870,
           850,
           950,
           860,
           860,
           880,
           1200,
           1200,
           830,
           850,
           860,
           880,
           930,
           970,
           1080,
           1000,
           990,
           1040,
           1390,
           1420,
           1070,
           1050,
           1080,
           1140,
           1180,
           1190,
           1300,
           1120,
           1070,
           1100,
           1440,
           1420,
           970,
           960,
           940,
           950,
           980,
           930,
           1050,
           930,
           890,
           940,
           1050,
           1290,
           900,
           900,
           890,
           890,
           920,
           920,
           1040,
           950,
           930,
           880,
           1260,
           1290,
           910,
           910,
           890,
           880,
           920,
           900,
           980,
           880,
           890,
           890,
           1220,
           1260,
           890,
           870,
           870,
           850,
           870,
           850,
           960,
           860,
           840,
           840,
           1230,
           1290,
           850,
           850,
           850,
           870,
           900,
           880,
           960,
           860,
           830,
           880,
           1270,
           1310,
           890,
           890,
           920,
           930,
           960,
           940,
           1040,
           890,
           840,
           860,
           1240,
           1280,
           990,
           980,
           990,
           1030,
           1010,
           980,
           1110,
           960,
           930,
           940,
           1330,
           1350,
           910,
           900,
           920,
           940,
           930,
           900,
           1020,
           850,
           830,
           820,
           1270,
           1270,
           820,
           820,
           810,
           810,
           830,
           830,
           980,
           830,
           800,
           790,
           1250,
           1260,
           830,
           830,
           820,
           840,
           860,
           870,
           1030,
           920,
           830,
           670,
           660,
           600,
           490,
           1550,
           1560,
           1620,
           2020,
           2170,
           1970,
           2290,
           2170,
           2060,
           2300,
           2250,
           1580,
           1040,
           1060,
           1060,
           1060,
           940,
           1030,
           870,
           810,
           760,
           1210,
           1190,
           730,
           720,
           740,
           750,
           760,
           720,
           810,
           700,
           740,
           780,
           1230,
           1240,
           810,
           820,
           840,
           870,
           860,
           830,
           900
          ],
          "sizemode": "area",
          "sizeref": 11.4,
          "symbol": "circle"
         },
         "mode": "markers",
         "name": "Females",
         "orientation": "v",
         "showlegend": true,
         "type": "scatter",
         "x": [
          "2000-01-01T00:00:00",
          "2000-02-01T00:00:00",
          "2000-03-01T00:00:00",
          "2000-04-01T00:00:00",
          "2000-05-01T00:00:00",
          "2000-06-01T00:00:00",
          "2000-07-01T00:00:00",
          "2000-08-01T00:00:00",
          "2000-09-01T00:00:00",
          "2000-10-01T00:00:00",
          "2000-11-01T00:00:00",
          "2000-12-01T00:00:00",
          "2001-01-01T00:00:00",
          "2001-02-01T00:00:00",
          "2001-03-01T00:00:00",
          "2001-04-01T00:00:00",
          "2001-05-01T00:00:00",
          "2001-06-01T00:00:00",
          "2001-07-01T00:00:00",
          "2001-08-01T00:00:00",
          "2001-09-01T00:00:00",
          "2001-10-01T00:00:00",
          "2001-11-01T00:00:00",
          "2001-12-01T00:00:00",
          "2002-01-01T00:00:00",
          "2002-02-01T00:00:00",
          "2002-03-01T00:00:00",
          "2002-04-01T00:00:00",
          "2002-05-01T00:00:00",
          "2002-06-01T00:00:00",
          "2002-07-01T00:00:00",
          "2002-08-01T00:00:00",
          "2002-09-01T00:00:00",
          "2002-10-01T00:00:00",
          "2002-11-01T00:00:00",
          "2002-12-01T00:00:00",
          "2003-01-01T00:00:00",
          "2003-02-01T00:00:00",
          "2003-03-01T00:00:00",
          "2003-04-01T00:00:00",
          "2003-05-01T00:00:00",
          "2003-06-01T00:00:00",
          "2003-07-01T00:00:00",
          "2003-08-01T00:00:00",
          "2003-09-01T00:00:00",
          "2003-10-01T00:00:00",
          "2003-11-01T00:00:00",
          "2003-12-01T00:00:00",
          "2004-01-01T00:00:00",
          "2004-02-01T00:00:00",
          "2004-03-01T00:00:00",
          "2004-04-01T00:00:00",
          "2004-05-01T00:00:00",
          "2004-06-01T00:00:00",
          "2004-07-01T00:00:00",
          "2004-08-01T00:00:00",
          "2004-09-01T00:00:00",
          "2004-10-01T00:00:00",
          "2004-11-01T00:00:00",
          "2004-12-01T00:00:00",
          "2005-01-01T00:00:00",
          "2005-02-01T00:00:00",
          "2005-03-01T00:00:00",
          "2005-04-01T00:00:00",
          "2005-05-01T00:00:00",
          "2005-06-01T00:00:00",
          "2005-07-01T00:00:00",
          "2005-08-01T00:00:00",
          "2005-09-01T00:00:00",
          "2005-10-01T00:00:00",
          "2005-11-01T00:00:00",
          "2005-12-01T00:00:00",
          "2006-01-01T00:00:00",
          "2006-02-01T00:00:00",
          "2006-03-01T00:00:00",
          "2006-04-01T00:00:00",
          "2006-05-01T00:00:00",
          "2006-06-01T00:00:00",
          "2006-07-01T00:00:00",
          "2006-08-01T00:00:00",
          "2006-09-01T00:00:00",
          "2006-10-01T00:00:00",
          "2006-11-01T00:00:00",
          "2006-12-01T00:00:00",
          "2007-01-01T00:00:00",
          "2007-02-01T00:00:00",
          "2007-03-01T00:00:00",
          "2007-04-01T00:00:00",
          "2007-05-01T00:00:00",
          "2007-06-01T00:00:00",
          "2007-07-01T00:00:00",
          "2007-08-01T00:00:00",
          "2007-09-01T00:00:00",
          "2007-10-01T00:00:00",
          "2007-11-01T00:00:00",
          "2007-12-01T00:00:00",
          "2008-01-01T00:00:00",
          "2008-02-01T00:00:00",
          "2008-03-01T00:00:00",
          "2008-04-01T00:00:00",
          "2008-05-01T00:00:00",
          "2008-06-01T00:00:00",
          "2008-07-01T00:00:00",
          "2008-08-01T00:00:00",
          "2008-09-01T00:00:00",
          "2008-10-01T00:00:00",
          "2008-11-01T00:00:00",
          "2008-12-01T00:00:00",
          "2009-01-01T00:00:00",
          "2009-02-01T00:00:00",
          "2009-03-01T00:00:00",
          "2009-04-01T00:00:00",
          "2009-05-01T00:00:00",
          "2009-06-01T00:00:00",
          "2009-07-01T00:00:00",
          "2009-08-01T00:00:00",
          "2009-09-01T00:00:00",
          "2009-10-01T00:00:00",
          "2009-11-01T00:00:00",
          "2009-12-01T00:00:00",
          "2010-01-01T00:00:00",
          "2010-02-01T00:00:00",
          "2010-03-01T00:00:00",
          "2010-04-01T00:00:00",
          "2010-05-01T00:00:00",
          "2010-06-01T00:00:00",
          "2010-07-01T00:00:00",
          "2010-08-01T00:00:00",
          "2010-09-01T00:00:00",
          "2010-10-01T00:00:00",
          "2010-11-01T00:00:00",
          "2010-12-01T00:00:00",
          "2011-01-01T00:00:00",
          "2011-02-01T00:00:00",
          "2011-03-01T00:00:00",
          "2011-04-01T00:00:00",
          "2011-05-01T00:00:00",
          "2011-06-01T00:00:00",
          "2011-07-01T00:00:00",
          "2011-08-01T00:00:00",
          "2011-09-01T00:00:00",
          "2011-10-01T00:00:00",
          "2011-11-01T00:00:00",
          "2011-12-01T00:00:00",
          "2012-01-01T00:00:00",
          "2012-02-01T00:00:00",
          "2012-03-01T00:00:00",
          "2012-04-01T00:00:00",
          "2012-05-01T00:00:00",
          "2012-06-01T00:00:00",
          "2012-07-01T00:00:00",
          "2012-08-01T00:00:00",
          "2012-09-01T00:00:00",
          "2012-10-01T00:00:00",
          "2012-11-01T00:00:00",
          "2012-12-01T00:00:00",
          "2013-01-01T00:00:00",
          "2013-02-01T00:00:00",
          "2013-03-01T00:00:00",
          "2013-04-01T00:00:00",
          "2013-05-01T00:00:00",
          "2013-06-01T00:00:00",
          "2013-07-01T00:00:00",
          "2013-08-01T00:00:00",
          "2013-09-01T00:00:00",
          "2013-10-01T00:00:00",
          "2013-11-01T00:00:00",
          "2013-12-01T00:00:00",
          "2014-01-01T00:00:00",
          "2014-02-01T00:00:00",
          "2014-03-01T00:00:00",
          "2014-04-01T00:00:00",
          "2014-05-01T00:00:00",
          "2014-06-01T00:00:00",
          "2014-07-01T00:00:00",
          "2014-08-01T00:00:00",
          "2014-09-01T00:00:00",
          "2014-10-01T00:00:00",
          "2014-11-01T00:00:00",
          "2014-12-01T00:00:00",
          "2015-01-01T00:00:00",
          "2015-02-01T00:00:00",
          "2015-03-01T00:00:00",
          "2015-04-01T00:00:00",
          "2015-05-01T00:00:00",
          "2015-06-01T00:00:00",
          "2015-07-01T00:00:00",
          "2015-08-01T00:00:00",
          "2015-09-01T00:00:00",
          "2015-10-01T00:00:00",
          "2015-11-01T00:00:00",
          "2015-12-01T00:00:00",
          "2016-01-01T00:00:00",
          "2016-02-01T00:00:00",
          "2016-03-01T00:00:00",
          "2016-04-01T00:00:00",
          "2016-05-01T00:00:00",
          "2016-06-01T00:00:00",
          "2016-07-01T00:00:00",
          "2016-08-01T00:00:00",
          "2016-09-01T00:00:00",
          "2016-10-01T00:00:00",
          "2016-11-01T00:00:00",
          "2016-12-01T00:00:00",
          "2017-01-01T00:00:00",
          "2017-02-01T00:00:00",
          "2017-03-01T00:00:00",
          "2017-04-01T00:00:00",
          "2017-05-01T00:00:00",
          "2017-06-01T00:00:00",
          "2017-07-01T00:00:00",
          "2017-08-01T00:00:00",
          "2017-09-01T00:00:00",
          "2017-10-01T00:00:00",
          "2017-11-01T00:00:00",
          "2017-12-01T00:00:00",
          "2018-01-01T00:00:00",
          "2018-02-01T00:00:00",
          "2018-03-01T00:00:00",
          "2018-04-01T00:00:00",
          "2018-05-01T00:00:00",
          "2018-06-01T00:00:00",
          "2018-07-01T00:00:00",
          "2018-08-01T00:00:00",
          "2018-09-01T00:00:00",
          "2018-10-01T00:00:00",
          "2018-11-01T00:00:00",
          "2018-12-01T00:00:00",
          "2019-01-01T00:00:00",
          "2019-02-01T00:00:00",
          "2019-03-01T00:00:00",
          "2019-04-01T00:00:00",
          "2019-05-01T00:00:00",
          "2019-06-01T00:00:00",
          "2019-07-01T00:00:00",
          "2019-08-01T00:00:00",
          "2019-09-01T00:00:00",
          "2019-10-01T00:00:00",
          "2019-11-01T00:00:00",
          "2019-12-01T00:00:00",
          "2020-01-01T00:00:00",
          "2020-02-01T00:00:00",
          "2020-03-01T00:00:00",
          "2020-04-01T00:00:00",
          "2020-05-01T00:00:00",
          "2020-06-01T00:00:00",
          "2020-07-01T00:00:00",
          "2020-08-01T00:00:00",
          "2020-09-01T00:00:00",
          "2020-10-01T00:00:00",
          "2020-11-01T00:00:00",
          "2020-12-01T00:00:00",
          "2021-01-01T00:00:00",
          "2021-02-01T00:00:00",
          "2021-03-01T00:00:00",
          "2021-04-01T00:00:00",
          "2021-05-01T00:00:00",
          "2021-06-01T00:00:00",
          "2021-07-01T00:00:00",
          "2021-08-01T00:00:00",
          "2021-09-01T00:00:00",
          "2021-10-01T00:00:00",
          "2021-11-01T00:00:00",
          "2021-12-01T00:00:00",
          "2022-01-01T00:00:00",
          "2022-02-01T00:00:00",
          "2022-03-01T00:00:00",
          "2022-04-01T00:00:00",
          "2022-05-01T00:00:00",
          "2022-06-01T00:00:00",
          "2022-07-01T00:00:00",
          "2022-08-01T00:00:00",
          "2022-09-01T00:00:00",
          "2022-10-01T00:00:00",
          "2022-11-01T00:00:00",
          "2022-12-01T00:00:00",
          "2023-01-01T00:00:00",
          "2023-02-01T00:00:00",
          "2023-03-01T00:00:00",
          "2023-04-01T00:00:00",
          "2023-05-01T00:00:00",
          "2023-06-01T00:00:00",
          "2023-07-01T00:00:00",
          "2023-08-01T00:00:00",
          "2023-09-01T00:00:00",
          "2023-10-01T00:00:00",
          "2023-11-01T00:00:00",
          "2023-12-01T00:00:00",
          "2024-01-01T00:00:00",
          "2024-02-01T00:00:00",
          "2024-03-01T00:00:00"
         ],
         "xaxis": "x",
         "y": [
          560,
          550,
          570,
          520,
          510,
          500,
          560,
          770,
          490,
          480,
          510,
          560,
          590,
          600,
          640,
          610,
          600,
          600,
          850,
          920,
          650,
          680,
          720,
          760,
          770,
          800,
          860,
          820,
          790,
          800,
          1080,
          1040,
          770,
          770,
          760,
          780,
          780,
          790,
          820,
          780,
          770,
          780,
          1060,
          1090,
          770,
          780,
          810,
          810,
          840,
          810,
          880,
          800,
          760,
          800,
          1050,
          1100,
          750,
          740,
          750,
          800,
          780,
          820,
          910,
          790,
          780,
          800,
          990,
          1170,
          800,
          790,
          800,
          810,
          840,
          850,
          920,
          820,
          800,
          810,
          1040,
          1180,
          770,
          780,
          770,
          790,
          780,
          800,
          890,
          810,
          760,
          750,
          1170,
          1210,
          840,
          820,
          820,
          860,
          870,
          850,
          950,
          860,
          860,
          880,
          1200,
          1200,
          830,
          850,
          860,
          880,
          930,
          970,
          1080,
          1000,
          990,
          1040,
          1390,
          1420,
          1070,
          1050,
          1080,
          1140,
          1180,
          1190,
          1300,
          1120,
          1070,
          1100,
          1440,
          1420,
          970,
          960,
          940,
          950,
          980,
          930,
          1050,
          930,
          890,
          940,
          1050,
          1290,
          900,
          900,
          890,
          890,
          920,
          920,
          1040,
          950,
          930,
          880,
          1260,
          1290,
          910,
          910,
          890,
          880,
          920,
          900,
          980,
          880,
          890,
          890,
          1220,
          1260,
          890,
          870,
          870,
          850,
          870,
          850,
          960,
          860,
          840,
          840,
          1230,
          1290,
          850,
          850,
          850,
          870,
          900,
          880,
          960,
          860,
          830,
          880,
          1270,
          1310,
          890,
          890,
          920,
          930,
          960,
          940,
          1040,
          890,
          840,
          860,
          1240,
          1280,
          990,
          980,
          990,
          1030,
          1010,
          980,
          1110,
          960,
          930,
          940,
          1330,
          1350,
          910,
          900,
          920,
          940,
          930,
          900,
          1020,
          850,
          830,
          820,
          1270,
          1270,
          820,
          820,
          810,
          810,
          830,
          830,
          980,
          830,
          800,
          790,
          1250,
          1260,
          830,
          830,
          820,
          840,
          860,
          870,
          1030,
          920,
          830,
          670,
          660,
          600,
          490,
          1550,
          1560,
          1620,
          2020,
          2170,
          1970,
          2290,
          2170,
          2060,
          2300,
          2250,
          1580,
          1040,
          1060,
          1060,
          1060,
          940,
          1030,
          870,
          810,
          760,
          1210,
          1190,
          730,
          720,
          740,
          750,
          760,
          720,
          810,
          700,
          740,
          780,
          1230,
          1240,
          810,
          820,
          840,
          870,
          860,
          830,
          900
         ],
         "yaxis": "y"
        }
       ],
       "layout": {
        "autosize": true,
        "legend": {
         "itemsizing": "constant",
         "title": {
          "text": "Sex"
         },
         "tracegroupgap": 0
        },
        "margin": {
         "t": 60
        },
        "template": {
         "data": {
          "bar": [
           {
            "error_x": {
             "color": "#2a3f5f"
            },
            "error_y": {
             "color": "#2a3f5f"
            },
            "marker": {
             "line": {
              "color": "#E5ECF6",
              "width": 0.5
             },
             "pattern": {
              "fillmode": "overlay",
              "size": 10,
              "solidity": 0.2
             }
            },
            "type": "bar"
           }
          ],
          "barpolar": [
           {
            "marker": {
             "line": {
              "color": "#E5ECF6",
              "width": 0.5
             },
             "pattern": {
              "fillmode": "overlay",
              "size": 10,
              "solidity": 0.2
             }
            },
            "type": "barpolar"
           }
          ],
          "carpet": [
           {
            "aaxis": {
             "endlinecolor": "#2a3f5f",
             "gridcolor": "white",
             "linecolor": "white",
             "minorgridcolor": "white",
             "startlinecolor": "#2a3f5f"
            },
            "baxis": {
             "endlinecolor": "#2a3f5f",
             "gridcolor": "white",
             "linecolor": "white",
             "minorgridcolor": "white",
             "startlinecolor": "#2a3f5f"
            },
            "type": "carpet"
           }
          ],
          "choropleth": [
           {
            "colorbar": {
             "outlinewidth": 0,
             "ticks": ""
            },
            "type": "choropleth"
           }
          ],
          "contour": [
           {
            "colorbar": {
             "outlinewidth": 0,
             "ticks": ""
            },
            "colorscale": [
             [
              0,
              "#0d0887"
             ],
             [
              0.1111111111111111,
              "#46039f"
             ],
             [
              0.2222222222222222,
              "#7201a8"
             ],
             [
              0.3333333333333333,
              "#9c179e"
             ],
             [
              0.4444444444444444,
              "#bd3786"
             ],
             [
              0.5555555555555556,
              "#d8576b"
             ],
             [
              0.6666666666666666,
              "#ed7953"
             ],
             [
              0.7777777777777778,
              "#fb9f3a"
             ],
             [
              0.8888888888888888,
              "#fdca26"
             ],
             [
              1,
              "#f0f921"
             ]
            ],
            "type": "contour"
           }
          ],
          "contourcarpet": [
           {
            "colorbar": {
             "outlinewidth": 0,
             "ticks": ""
            },
            "type": "contourcarpet"
           }
          ],
          "heatmap": [
           {
            "colorbar": {
             "outlinewidth": 0,
             "ticks": ""
            },
            "colorscale": [
             [
              0,
              "#0d0887"
             ],
             [
              0.1111111111111111,
              "#46039f"
             ],
             [
              0.2222222222222222,
              "#7201a8"
             ],
             [
              0.3333333333333333,
              "#9c179e"
             ],
             [
              0.4444444444444444,
              "#bd3786"
             ],
             [
              0.5555555555555556,
              "#d8576b"
             ],
             [
              0.6666666666666666,
              "#ed7953"
             ],
             [
              0.7777777777777778,
              "#fb9f3a"
             ],
             [
              0.8888888888888888,
              "#fdca26"
             ],
             [
              1,
              "#f0f921"
             ]
            ],
            "type": "heatmap"
           }
          ],
          "heatmapgl": [
           {
            "colorbar": {
             "outlinewidth": 0,
             "ticks": ""
            },
            "colorscale": [
             [
              0,
              "#0d0887"
             ],
             [
              0.1111111111111111,
              "#46039f"
             ],
             [
              0.2222222222222222,
              "#7201a8"
             ],
             [
              0.3333333333333333,
              "#9c179e"
             ],
             [
              0.4444444444444444,
              "#bd3786"
             ],
             [
              0.5555555555555556,
              "#d8576b"
             ],
             [
              0.6666666666666666,
              "#ed7953"
             ],
             [
              0.7777777777777778,
              "#fb9f3a"
             ],
             [
              0.8888888888888888,
              "#fdca26"
             ],
             [
              1,
              "#f0f921"
             ]
            ],
            "type": "heatmapgl"
           }
          ],
          "histogram": [
           {
            "marker": {
             "pattern": {
              "fillmode": "overlay",
              "size": 10,
              "solidity": 0.2
             }
            },
            "type": "histogram"
           }
          ],
          "histogram2d": [
           {
            "colorbar": {
             "outlinewidth": 0,
             "ticks": ""
            },
            "colorscale": [
             [
              0,
              "#0d0887"
             ],
             [
              0.1111111111111111,
              "#46039f"
             ],
             [
              0.2222222222222222,
              "#7201a8"
             ],
             [
              0.3333333333333333,
              "#9c179e"
             ],
             [
              0.4444444444444444,
              "#bd3786"
             ],
             [
              0.5555555555555556,
              "#d8576b"
             ],
             [
              0.6666666666666666,
              "#ed7953"
             ],
             [
              0.7777777777777778,
              "#fb9f3a"
             ],
             [
              0.8888888888888888,
              "#fdca26"
             ],
             [
              1,
              "#f0f921"
             ]
            ],
            "type": "histogram2d"
           }
          ],
          "histogram2dcontour": [
           {
            "colorbar": {
             "outlinewidth": 0,
             "ticks": ""
            },
            "colorscale": [
             [
              0,
              "#0d0887"
             ],
             [
              0.1111111111111111,
              "#46039f"
             ],
             [
              0.2222222222222222,
              "#7201a8"
             ],
             [
              0.3333333333333333,
              "#9c179e"
             ],
             [
              0.4444444444444444,
              "#bd3786"
             ],
             [
              0.5555555555555556,
              "#d8576b"
             ],
             [
              0.6666666666666666,
              "#ed7953"
             ],
             [
              0.7777777777777778,
              "#fb9f3a"
             ],
             [
              0.8888888888888888,
              "#fdca26"
             ],
             [
              1,
              "#f0f921"
             ]
            ],
            "type": "histogram2dcontour"
           }
          ],
          "mesh3d": [
           {
            "colorbar": {
             "outlinewidth": 0,
             "ticks": ""
            },
            "type": "mesh3d"
           }
          ],
          "parcoords": [
           {
            "line": {
             "colorbar": {
              "outlinewidth": 0,
              "ticks": ""
             }
            },
            "type": "parcoords"
           }
          ],
          "pie": [
           {
            "automargin": true,
            "type": "pie"
           }
          ],
          "scatter": [
           {
            "fillpattern": {
             "fillmode": "overlay",
             "size": 10,
             "solidity": 0.2
            },
            "type": "scatter"
           }
          ],
          "scatter3d": [
           {
            "line": {
             "colorbar": {
              "outlinewidth": 0,
              "ticks": ""
             }
            },
            "marker": {
             "colorbar": {
              "outlinewidth": 0,
              "ticks": ""
             }
            },
            "type": "scatter3d"
           }
          ],
          "scattercarpet": [
           {
            "marker": {
             "colorbar": {
              "outlinewidth": 0,
              "ticks": ""
             }
            },
            "type": "scattercarpet"
           }
          ],
          "scattergeo": [
           {
            "marker": {
             "colorbar": {
              "outlinewidth": 0,
              "ticks": ""
             }
            },
            "type": "scattergeo"
           }
          ],
          "scattergl": [
           {
            "marker": {
             "colorbar": {
              "outlinewidth": 0,
              "ticks": ""
             }
            },
            "type": "scattergl"
           }
          ],
          "scattermapbox": [
           {
            "marker": {
             "colorbar": {
              "outlinewidth": 0,
              "ticks": ""
             }
            },
            "type": "scattermapbox"
           }
          ],
          "scatterpolar": [
           {
            "marker": {
             "colorbar": {
              "outlinewidth": 0,
              "ticks": ""
             }
            },
            "type": "scatterpolar"
           }
          ],
          "scatterpolargl": [
           {
            "marker": {
             "colorbar": {
              "outlinewidth": 0,
              "ticks": ""
             }
            },
            "type": "scatterpolargl"
           }
          ],
          "scatterternary": [
           {
            "marker": {
             "colorbar": {
              "outlinewidth": 0,
              "ticks": ""
             }
            },
            "type": "scatterternary"
           }
          ],
          "surface": [
           {
            "colorbar": {
             "outlinewidth": 0,
             "ticks": ""
            },
            "colorscale": [
             [
              0,
              "#0d0887"
             ],
             [
              0.1111111111111111,
              "#46039f"
             ],
             [
              0.2222222222222222,
              "#7201a8"
             ],
             [
              0.3333333333333333,
              "#9c179e"
             ],
             [
              0.4444444444444444,
              "#bd3786"
             ],
             [
              0.5555555555555556,
              "#d8576b"
             ],
             [
              0.6666666666666666,
              "#ed7953"
             ],
             [
              0.7777777777777778,
              "#fb9f3a"
             ],
             [
              0.8888888888888888,
              "#fdca26"
             ],
             [
              1,
              "#f0f921"
             ]
            ],
            "type": "surface"
           }
          ],
          "table": [
           {
            "cells": {
             "fill": {
              "color": "#EBF0F8"
             },
             "line": {
              "color": "white"
             }
            },
            "header": {
             "fill": {
              "color": "#C8D4E3"
             },
             "line": {
              "color": "white"
             }
            },
            "type": "table"
           }
          ]
         },
         "layout": {
          "annotationdefaults": {
           "arrowcolor": "#2a3f5f",
           "arrowhead": 0,
           "arrowwidth": 1
          },
          "autotypenumbers": "strict",
          "coloraxis": {
           "colorbar": {
            "outlinewidth": 0,
            "ticks": ""
           }
          },
          "colorscale": {
           "diverging": [
            [
             0,
             "#8e0152"
            ],
            [
             0.1,
             "#c51b7d"
            ],
            [
             0.2,
             "#de77ae"
            ],
            [
             0.3,
             "#f1b6da"
            ],
            [
             0.4,
             "#fde0ef"
            ],
            [
             0.5,
             "#f7f7f7"
            ],
            [
             0.6,
             "#e6f5d0"
            ],
            [
             0.7,
             "#b8e186"
            ],
            [
             0.8,
             "#7fbc41"
            ],
            [
             0.9,
             "#4d9221"
            ],
            [
             1,
             "#276419"
            ]
           ],
           "sequential": [
            [
             0,
             "#0d0887"
            ],
            [
             0.1111111111111111,
             "#46039f"
            ],
            [
             0.2222222222222222,
             "#7201a8"
            ],
            [
             0.3333333333333333,
             "#9c179e"
            ],
            [
             0.4444444444444444,
             "#bd3786"
            ],
            [
             0.5555555555555556,
             "#d8576b"
            ],
            [
             0.6666666666666666,
             "#ed7953"
            ],
            [
             0.7777777777777778,
             "#fb9f3a"
            ],
            [
             0.8888888888888888,
             "#fdca26"
            ],
            [
             1,
             "#f0f921"
            ]
           ],
           "sequentialminus": [
            [
             0,
             "#0d0887"
            ],
            [
             0.1111111111111111,
             "#46039f"
            ],
            [
             0.2222222222222222,
             "#7201a8"
            ],
            [
             0.3333333333333333,
             "#9c179e"
            ],
            [
             0.4444444444444444,
             "#bd3786"
            ],
            [
             0.5555555555555556,
             "#d8576b"
            ],
            [
             0.6666666666666666,
             "#ed7953"
            ],
            [
             0.7777777777777778,
             "#fb9f3a"
            ],
            [
             0.8888888888888888,
             "#fdca26"
            ],
            [
             1,
             "#f0f921"
            ]
           ]
          },
          "colorway": [
           "#636efa",
           "#EF553B",
           "#00cc96",
           "#ab63fa",
           "#FFA15A",
           "#19d3f3",
           "#FF6692",
           "#B6E880",
           "#FF97FF",
           "#FECB52"
          ],
          "font": {
           "color": "#2a3f5f"
          },
          "geo": {
           "bgcolor": "white",
           "lakecolor": "white",
           "landcolor": "#E5ECF6",
           "showlakes": true,
           "showland": true,
           "subunitcolor": "white"
          },
          "hoverlabel": {
           "align": "left"
          },
          "hovermode": "closest",
          "mapbox": {
           "style": "light"
          },
          "paper_bgcolor": "white",
          "plot_bgcolor": "#E5ECF6",
          "polar": {
           "angularaxis": {
            "gridcolor": "white",
            "linecolor": "white",
            "ticks": ""
           },
           "bgcolor": "#E5ECF6",
           "radialaxis": {
            "gridcolor": "white",
            "linecolor": "white",
            "ticks": ""
           }
          },
          "scene": {
           "xaxis": {
            "backgroundcolor": "#E5ECF6",
            "gridcolor": "white",
            "gridwidth": 2,
            "linecolor": "white",
            "showbackground": true,
            "ticks": "",
            "zerolinecolor": "white"
           },
           "yaxis": {
            "backgroundcolor": "#E5ECF6",
            "gridcolor": "white",
            "gridwidth": 2,
            "linecolor": "white",
            "showbackground": true,
            "ticks": "",
            "zerolinecolor": "white"
           },
           "zaxis": {
            "backgroundcolor": "#E5ECF6",
            "gridcolor": "white",
            "gridwidth": 2,
            "linecolor": "white",
            "showbackground": true,
            "ticks": "",
            "zerolinecolor": "white"
           }
          },
          "shapedefaults": {
           "line": {
            "color": "#2a3f5f"
           }
          },
          "ternary": {
           "aaxis": {
            "gridcolor": "white",
            "linecolor": "white",
            "ticks": ""
           },
           "baxis": {
            "gridcolor": "white",
            "linecolor": "white",
            "ticks": ""
           },
           "bgcolor": "#E5ECF6",
           "caxis": {
            "gridcolor": "white",
            "linecolor": "white",
            "ticks": ""
           }
          },
          "title": {
           "x": 0.05
          },
          "xaxis": {
           "automargin": true,
           "gridcolor": "white",
           "linecolor": "white",
           "ticks": "",
           "title": {
            "standoff": 15
           },
           "zerolinecolor": "white",
           "zerolinewidth": 2
          },
          "yaxis": {
           "automargin": true,
           "gridcolor": "white",
           "linecolor": "white",
           "ticks": "",
           "title": {
            "standoff": 15
           },
           "zerolinecolor": "white",
           "zerolinewidth": 2
          }
         }
        },
        "xaxis": {
         "anchor": "y",
         "autorange": true,
         "domain": [
          0,
          1
         ],
         "range": [
          "1998-06-13 13:15:44.6836",
          "2025-09-28 00:26:50.356"
         ],
         "title": {
          "text": "Date"
         },
         "type": "date"
        },
        "yaxis": {
         "anchor": "x",
         "autorange": true,
         "domain": [
          0,
          1
         ],
         "range": [
          -96.10970845369735,
          5206.191119997659
         ],
         "title": {
          "text": "Claimants"
         },
         "type": "linear"
        }
       }
      },
      "image/png": "[encoded data removed]",
      "text/html": [
       "<div>                            <div id=\"d74d1bfb-e240-49f3-8957-526e1633c7e9\" class=\"plotly-graph-div\" style=\"height:525px; width:100%;\"></div>            <script type=\"text/javascript\">                require([\"plotly\"], function(Plotly) {                    window.PLOTLYENV=window.PLOTLYENV || {};                                    if (document.getElementById(\"d74d1bfb-e240-49f3-8957-526e1633c7e9\")) {                    Plotly.newPlot(                        \"d74d1bfb-e240-49f3-8957-526e1633c7e9\",                        [{\"hovertemplate\":\"Sex=Both sexes\\u003cbr\\u003eDate=%{x}\\u003cbr\\u003eClaimants=%{marker.size}\\u003cextra\\u003e\\u003c\\u002fextra\\u003e\",\"legendgroup\":\"Both sexes\",\"marker\":{\"color\":\"#636efa\",\"size\":[1660.0,1680.0,1670.0,1410.0,1110.0,980.0,990.0,1180.0,850.0,860.0,970.0,1230.0,1650.0,1690.0,1720.0,1630.0,1360.0,1260.0,1530.0,1550.0,1210.0,1300.0,1470.0,1660.0,2040.0,2110.0,2190.0,2010.0,1730.0,1580.0,1780.0,1710.0,1340.0,1380.0,1460.0,1680.0,2010.0,2090.0,2110.0,1950.0,1640.0,1490.0,1780.0,1800.0,1370.0,1420.0,1550.0,1760.0,2060.0,2040.0,2150.0,1870.0,1560.0,1410.0,1690.0,1700.0,1240.0,1240.0,1340.0,1590.0,1840.0,1970.0,2050.0,1790.0,1510.0,1390.0,1630.0,1840.0,1350.0,1360.0,1460.0,1620.0,1910.0,1940.0,2030.0,1780.0,1500.0,1420.0,1640.0,1760.0,1280.0,1310.0,1350.0,1520.0,1830.0,1950.0,2020.0,1790.0,1480.0,1360.0,1780.0,1790.0,1310.0,1310.0,1360.0,1560.0,1940.0,1980.0,2040.0,1800.0,1550.0,1470.0,1840.0,1830.0,1350.0,1390.0,1490.0,1880.0,2460.0,2640.0,2890.0,2770.0,2460.0,2320.0,2690.0,2690.0,2240.0,2200.0,2250.0,2460.0,2890.0,2930.0,2960.0,2540.0,2220.0,2090.0,2440.0,2380.0,1810.0,1760.0,1830.0,2010.0,2420.0,2390.0,2470.0,2180.0,1810.0,1710.0,1790.0,1990.0,1530.0,1550.0,1630.0,1790.0,2140.0,2190.0,2390.0,2090.0,1860.0,1670.0,2030.0,2030.0,1540.0,1570.0,1660.0,1810.0,2280.0,2380.0,2470.0,2220.0,1980.0,1820.0,2180.0,2150.0,1620.0,1690.0,1770.0,1890.0,2220.0,2210.0,2310.0,2080.0,1810.0,1570.0,2010.0,2030.0,1510.0,1550.0,1640.0,1880.0,2250.0,2230.0,2320.0,2060.0,1760.0,1580.0,2010.0,2050.0,1510.0,1550.0,1690.0,1940.0,2360.0,2370.0,2480.0,2210.0,1840.0,1690.0,2270.0,2190.0,1790.0,1820.0,1930.0,2220.0,2470.0,2450.0,2580.0,2310.0,1930.0,1790.0,2200.0,2140.0,1530.0,1560.0,1700.0,1980.0,2250.0,2220.0,2320.0,1970.0,1680.0,1480.0,1950.0,1900.0,1330.0,1380.0,1490.0,1710.0,2060.0,2070.0,2240.0,1950.0,1610.0,1470.0,1960.0,1940.0,1400.0,1450.0,1620.0,1900.0,2170.0,2220.0,2470.0,2310.0,1870.0,1290.0,1150.0,990.0,750.0,2800.0,2910.0,3240.0,4160.0,4560.0,4230.0,4390.0,4040.0,3750.0,4000.0,3850.0,2960.0,1970.0,2010.0,2190.0,2470.0,2270.0,2280.0,1930.0,1520.0,1360.0,1830.0,1800.0,1210.0,1200.0,1370.0,1630.0,1930.0,1890.0,1900.0,1640.0,1350.0,1330.0,1890.0,1860.0,1340.0,1360.0,1530.0,1850.0,2110.0,2060.0,2160.0],\"sizemode\":\"area\",\"sizeref\":11.4,\"symbol\":\"circle\"},\"mode\":\"markers\",\"name\":\"Both sexes\",\"orientation\":\"v\",\"showlegend\":true,\"x\":[\"2000-01-01T00:00:00\",\"2000-02-01T00:00:00\",\"2000-03-01T00:00:00\",\"2000-04-01T00:00:00\",\"2000-05-01T00:00:00\",\"2000-06-01T00:00:00\",\"2000-07-01T00:00:00\",\"2000-08-01T00:00:00\",\"2000-09-01T00:00:00\",\"2000-10-01T00:00:00\",\"2000-11-01T00:00:00\",\"2000-12-01T00:00:00\",\"2001-01-01T00:00:00\",\"2001-02-01T00:00:00\",\"2001-03-01T00:00:00\",\"2001-04-01T00:00:00\",\"2001-05-01T00:00:00\",\"2001-06-01T00:00:00\",\"2001-07-01T00:00:00\",\"2001-08-01T00:00:00\",\"2001-09-01T00:00:00\",\"2001-10-01T00:00:00\",\"2001-11-01T00:00:00\",\"2001-12-01T00:00:00\",\"2002-01-01T00:00:00\",\"2002-02-01T00:00:00\",\"2002-03-01T00:00:00\",\"2002-04-01T00:00:00\",\"2002-05-01T00:00:00\",\"2002-06-01T00:00:00\",\"2002-07-01T00:00:00\",\"2002-08-01T00:00:00\",\"2002-09-01T00:00:00\",\"2002-10-01T00:00:00\",\"2002-11-01T00:00:00\",\"2002-12-01T00:00:00\",\"2003-01-01T00:00:00\",\"2003-02-01T00:00:00\",\"2003-03-01T00:00:00\",\"2003-04-01T00:00:00\",\"2003-05-01T00:00:00\",\"2003-06-01T00:00:00\",\"2003-07-01T00:00:00\",\"2003-08-01T00:00:00\",\"2003-09-01T00:00:00\",\"2003-10-01T00:00:00\",\"2003-11-01T00:00:00\",\"2003-12-01T00:00:00\",\"2004-01-01T00:00:00\",\"2004-02-01T00:00:00\",\"2004-03-01T00:00:00\",\"2004-04-01T00:00:00\",\"2004-05-01T00:00:00\",\"2004-06-01T00:00:00\",\"2004-07-01T00:00:00\",\"2004-08-01T00:00:00\",\"2004-09-01T00:00:00\",\"2004-10-01T00:00:00\",\"2004-11-01T00:00:00\",\"2004-12-01T00:00:00\",\"2005-01-01T00:00:00\",\"2005-02-01T00:00:00\",\"2005-03-01T00:00:00\",\"2005-04-01T00:00:00\",\"2005-05-01T00:00:00\",\"2005-06-01T00:00:00\",\"2005-07-01T00:00:00\",\"2005-08-01T00:00:00\",\"2005-09-01T00:00:00\",\"2005-10-01T00:00:00\",\"2005-11-01T00:00:00\",\"2005-12-01T00:00:00\",\"2006-01-01T00:00:00\",\"2006-02-01T00:00:00\",\"2006-03-01T00:00:00\",\"2006-04-01T00:00:00\",\"2006-05-01T00:00:00\",\"2006-06-01T00:00:00\",\"2006-07-01T00:00:00\",\"2006-08-01T00:00:00\",\"2006-09-01T00:00:00\",\"2006-10-01T00:00:00\",\"2006-11-01T00:00:00\",\"2006-12-01T00:00:00\",\"2007-01-01T00:00:00\",\"2007-02-01T00:00:00\",\"2007-03-01T00:00:00\",\"2007-04-01T00:00:00\",\"2007-05-01T00:00:00\",\"2007-06-01T00:00:00\",\"2007-07-01T00:00:00\",\"2007-08-01T00:00:00\",\"2007-09-01T00:00:00\",\"2007-10-01T00:00:00\",\"2007-11-01T00:00:00\",\"2007-12-01T00:00:00\",\"2008-01-01T00:00:00\",\"2008-02-01T00:00:00\",\"2008-03-01T00:00:00\",\"2008-04-01T00:00:00\",\"2008-05-01T00:00:00\",\"2008-06-01T00:00:00\",\"2008-07-01T00:00:00\",\"2008-08-01T00:00:00\",\"2008-09-01T00:00:00\",\"2008-10-01T00:00:00\",\"2008-11-01T00:00:00\",\"2008-12-01T00:00:00\",\"2009-01-01T00:00:00\",\"2009-02-01T00:00:00\",\"2009-03-01T00:00:00\",\"2009-04-01T00:00:00\",\"2009-05-01T00:00:00\",\"2009-06-01T00:00:00\",\"2009-07-01T00:00:00\",\"2009-08-01T00:00:00\",\"2009-09-01T00:00:00\",\"2009-10-01T00:00:00\",\"2009-11-01T00:00:00\",\"2009-12-01T00:00:00\",\"2010-01-01T00:00:00\",\"2010-02-01T00:00:00\",\"2010-03-01T00:00:00\",\"2010-04-01T00:00:00\",\"2010-05-01T00:00:00\",\"2010-06-01T00:00:00\",\"2010-07-01T00:00:00\",\"2010-08-01T00:00:00\",\"2010-09-01T00:00:00\",\"2010-10-01T00:00:00\",\"2010-11-01T00:00:00\",\"2010-12-01T00:00:00\",\"2011-01-01T00:00:00\",\"2011-02-01T00:00:00\",\"2011-03-01T00:00:00\",\"2011-04-01T00:00:00\",\"2011-05-01T00:00:00\",\"2011-06-01T00:00:00\",\"2011-07-01T00:00:00\",\"2011-08-01T00:00:00\",\"2011-09-01T00:00:00\",\"2011-10-01T00:00:00\",\"2011-11-01T00:00:00\",\"2011-12-01T00:00:00\",\"2012-01-01T00:00:00\",\"2012-02-01T00:00:00\",\"2012-03-01T00:00:00\",\"2012-04-01T00:00:00\",\"2012-05-01T00:00:00\",\"2012-06-01T00:00:00\",\"2012-07-01T00:00:00\",\"2012-08-01T00:00:00\",\"2012-09-01T00:00:00\",\"2012-10-01T00:00:00\",\"2012-11-01T00:00:00\",\"2012-12-01T00:00:00\",\"2013-01-01T00:00:00\",\"2013-02-01T00:00:00\",\"2013-03-01T00:00:00\",\"2013-04-01T00:00:00\",\"2013-05-01T00:00:00\",\"2013-06-01T00:00:00\",\"2013-07-01T00:00:00\",\"2013-08-01T00:00:00\",\"2013-09-01T00:00:00\",\"2013-10-01T00:00:00\",\"2013-11-01T00:00:00\",\"2013-12-01T00:00:00\",\"2014-01-01T00:00:00\",\"2014-02-01T00:00:00\",\"2014-03-01T00:00:00\",\"2014-04-01T00:00:00\",\"2014-05-01T00:00:00\",\"2014-06-01T00:00:00\",\"2014-07-01T00:00:00\",\"2014-08-01T00:00:00\",\"2014-09-01T00:00:00\",\"2014-10-01T00:00:00\",\"2014-11-01T00:00:00\",\"2014-12-01T00:00:00\",\"2015-01-01T00:00:00\",\"2015-02-01T00:00:00\",\"2015-03-01T00:00:00\",\"2015-04-01T00:00:00\",\"2015-05-01T00:00:00\",\"2015-06-01T00:00:00\",\"2015-07-01T00:00:00\",\"2015-08-01T00:00:00\",\"2015-09-01T00:00:00\",\"2015-10-01T00:00:00\",\"2015-11-01T00:00:00\",\"2015-12-01T00:00:00\",\"2016-01-01T00:00:00\",\"2016-02-01T00:00:00\",\"2016-03-01T00:00:00\",\"2016-04-01T00:00:00\",\"2016-05-01T00:00:00\",\"2016-06-01T00:00:00\",\"2016-07-01T00:00:00\",\"2016-08-01T00:00:00\",\"2016-09-01T00:00:00\",\"2016-10-01T00:00:00\",\"2016-11-01T00:00:00\",\"2016-12-01T00:00:00\",\"2017-01-01T00:00:00\",\"2017-02-01T00:00:00\",\"2017-03-01T00:00:00\",\"2017-04-01T00:00:00\",\"2017-05-01T00:00:00\",\"2017-06-01T00:00:00\",\"2017-07-01T00:00:00\",\"2017-08-01T00:00:00\",\"2017-09-01T00:00:00\",\"2017-10-01T00:00:00\",\"2017-11-01T00:00:00\",\"2017-12-01T00:00:00\",\"2018-01-01T00:00:00\",\"2018-02-01T00:00:00\",\"2018-03-01T00:00:00\",\"2018-04-01T00:00:00\",\"2018-05-01T00:00:00\",\"2018-06-01T00:00:00\",\"2018-07-01T00:00:00\",\"2018-08-01T00:00:00\",\"2018-09-01T00:00:00\",\"2018-10-01T00:00:00\",\"2018-11-01T00:00:00\",\"2018-12-01T00:00:00\",\"2019-01-01T00:00:00\",\"2019-02-01T00:00:00\",\"2019-03-01T00:00:00\",\"2019-04-01T00:00:00\",\"2019-05-01T00:00:00\",\"2019-06-01T00:00:00\",\"2019-07-01T00:00:00\",\"2019-08-01T00:00:00\",\"2019-09-01T00:00:00\",\"2019-10-01T00:00:00\",\"2019-11-01T00:00:00\",\"2019-12-01T00:00:00\",\"2020-01-01T00:00:00\",\"2020-02-01T00:00:00\",\"2020-03-01T00:00:00\",\"2020-04-01T00:00:00\",\"2020-05-01T00:00:00\",\"2020-06-01T00:00:00\",\"2020-07-01T00:00:00\",\"2020-08-01T00:00:00\",\"2020-09-01T00:00:00\",\"2020-10-01T00:00:00\",\"2020-11-01T00:00:00\",\"2020-12-01T00:00:00\",\"2021-01-01T00:00:00\",\"2021-02-01T00:00:00\",\"2021-03-01T00:00:00\",\"2021-04-01T00:00:00\",\"2021-05-01T00:00:00\",\"2021-06-01T00:00:00\",\"2021-07-01T00:00:00\",\"2021-08-01T00:00:00\",\"2021-09-01T00:00:00\",\"2021-10-01T00:00:00\",\"2021-11-01T00:00:00\",\"2021-12-01T00:00:00\",\"2022-01-01T00:00:00\",\"2022-02-01T00:00:00\",\"2022-03-01T00:00:00\",\"2022-04-01T00:00:00\",\"2022-05-01T00:00:00\",\"2022-06-01T00:00:00\",\"2022-07-01T00:00:00\",\"2022-08-01T00:00:00\",\"2022-09-01T00:00:00\",\"2022-10-01T00:00:00\",\"2022-11-01T00:00:00\",\"2022-12-01T00:00:00\",\"2023-01-01T00:00:00\",\"2023-02-01T00:00:00\",\"2023-03-01T00:00:00\",\"2023-04-01T00:00:00\",\"2023-05-01T00:00:00\",\"2023-06-01T00:00:00\",\"2023-07-01T00:00:00\",\"2023-08-01T00:00:00\",\"2023-09-01T00:00:00\",\"2023-10-01T00:00:00\",\"2023-11-01T00:00:00\",\"2023-12-01T00:00:00\",\"2024-01-01T00:00:00\",\"2024-02-01T00:00:00\",\"2024-03-01T00:00:00\"],\"xaxis\":\"x\",\"y\":[1660.0,1680.0,1670.0,1410.0,1110.0,980.0,990.0,1180.0,850.0,860.0,970.0,1230.0,1650.0,1690.0,1720.0,1630.0,1360.0,1260.0,1530.0,1550.0,1210.0,1300.0,1470.0,1660.0,2040.0,2110.0,2190.0,2010.0,1730.0,1580.0,1780.0,1710.0,1340.0,1380.0,1460.0,1680.0,2010.0,2090.0,2110.0,1950.0,1640.0,1490.0,1780.0,1800.0,1370.0,1420.0,1550.0,1760.0,2060.0,2040.0,2150.0,1870.0,1560.0,1410.0,1690.0,1700.0,1240.0,1240.0,1340.0,1590.0,1840.0,1970.0,2050.0,1790.0,1510.0,1390.0,1630.0,1840.0,1350.0,1360.0,1460.0,1620.0,1910.0,1940.0,2030.0,1780.0,1500.0,1420.0,1640.0,1760.0,1280.0,1310.0,1350.0,1520.0,1830.0,1950.0,2020.0,1790.0,1480.0,1360.0,1780.0,1790.0,1310.0,1310.0,1360.0,1560.0,1940.0,1980.0,2040.0,1800.0,1550.0,1470.0,1840.0,1830.0,1350.0,1390.0,1490.0,1880.0,2460.0,2640.0,2890.0,2770.0,2460.0,2320.0,2690.0,2690.0,2240.0,2200.0,2250.0,2460.0,2890.0,2930.0,2960.0,2540.0,2220.0,2090.0,2440.0,2380.0,1810.0,1760.0,1830.0,2010.0,2420.0,2390.0,2470.0,2180.0,1810.0,1710.0,1790.0,1990.0,1530.0,1550.0,1630.0,1790.0,2140.0,2190.0,2390.0,2090.0,1860.0,1670.0,2030.0,2030.0,1540.0,1570.0,1660.0,1810.0,2280.0,2380.0,2470.0,2220.0,1980.0,1820.0,2180.0,2150.0,1620.0,1690.0,1770.0,1890.0,2220.0,2210.0,2310.0,2080.0,1810.0,1570.0,2010.0,2030.0,1510.0,1550.0,1640.0,1880.0,2250.0,2230.0,2320.0,2060.0,1760.0,1580.0,2010.0,2050.0,1510.0,1550.0,1690.0,1940.0,2360.0,2370.0,2480.0,2210.0,1840.0,1690.0,2270.0,2190.0,1790.0,1820.0,1930.0,2220.0,2470.0,2450.0,2580.0,2310.0,1930.0,1790.0,2200.0,2140.0,1530.0,1560.0,1700.0,1980.0,2250.0,2220.0,2320.0,1970.0,1680.0,1480.0,1950.0,1900.0,1330.0,1380.0,1490.0,1710.0,2060.0,2070.0,2240.0,1950.0,1610.0,1470.0,1960.0,1940.0,1400.0,1450.0,1620.0,1900.0,2170.0,2220.0,2470.0,2310.0,1870.0,1290.0,1150.0,990.0,750.0,2800.0,2910.0,3240.0,4160.0,4560.0,4230.0,4390.0,4040.0,3750.0,4000.0,3850.0,2960.0,1970.0,2010.0,2190.0,2470.0,2270.0,2280.0,1930.0,1520.0,1360.0,1830.0,1800.0,1210.0,1200.0,1370.0,1630.0,1930.0,1890.0,1900.0,1640.0,1350.0,1330.0,1890.0,1860.0,1340.0,1360.0,1530.0,1850.0,2110.0,2060.0,2160.0],\"yaxis\":\"y\",\"type\":\"scatter\"},{\"hovertemplate\":\"Sex=Males\\u003cbr\\u003eDate=%{x}\\u003cbr\\u003eClaimants=%{marker.size}\\u003cextra\\u003e\\u003c\\u002fextra\\u003e\",\"legendgroup\":\"Males\",\"marker\":{\"color\":\"#EF553B\",\"size\":[1100.0,1130.0,1100.0,890.0,600.0,470.0,420.0,410.0,360.0,380.0,460.0,670.0,1060.0,1090.0,1080.0,1010.0,760.0,660.0,680.0,630.0,570.0,620.0,740.0,910.0,1270.0,1310.0,1340.0,1190.0,930.0,780.0,710.0,670.0,580.0,610.0,700.0,900.0,1230.0,1300.0,1290.0,1170.0,870.0,710.0,730.0,710.0,600.0,630.0,740.0,940.0,1220.0,1230.0,1270.0,1070.0,800.0,620.0,630.0,600.0,480.0,500.0,590.0,790.0,1060.0,1150.0,1140.0,1000.0,720.0,590.0,650.0,670.0,550.0,570.0,660.0,800.0,1070.0,1090.0,1100.0,960.0,710.0,620.0,600.0,580.0,510.0,530.0,590.0,740.0,1050.0,1140.0,1140.0,980.0,720.0,600.0,620.0,580.0,480.0,490.0,530.0,700.0,1080.0,1120.0,1090.0,940.0,690.0,590.0,630.0,640.0,520.0,540.0,640.0,1000.0,1530.0,1670.0,1820.0,1760.0,1460.0,1280.0,1300.0,1280.0,1170.0,1150.0,1180.0,1330.0,1720.0,1740.0,1660.0,1410.0,1140.0,990.0,990.0,960.0,830.0,800.0,890.0,1060.0,1430.0,1460.0,1430.0,1250.0,920.0,770.0,740.0,700.0,630.0,640.0,740.0,900.0,1220.0,1270.0,1350.0,1140.0,920.0,790.0,770.0,740.0,630.0,660.0,770.0,930.0,1370.0,1480.0,1490.0,1350.0,1090.0,940.0,960.0,890.0,730.0,820.0,900.0,1050.0,1350.0,1360.0,1350.0,1220.0,970.0,730.0,780.0,740.0,660.0,700.0,790.0,1020.0,1350.0,1350.0,1360.0,1210.0,930.0,700.0,740.0,740.0,610.0,660.0,770.0,1010.0,1400.0,1440.0,1450.0,1320.0,1000.0,830.0,1030.0,910.0,800.0,840.0,940.0,1200.0,1460.0,1470.0,1470.0,1350.0,1010.0,850.0,870.0,800.0,620.0,660.0,780.0,1040.0,1320.0,1320.0,1300.0,1120.0,850.0,650.0,690.0,630.0,520.0,560.0,680.0,900.0,1240.0,1240.0,1260.0,1120.0,820.0,680.0,710.0,680.0,560.0,630.0,800.0,1060.0,1320.0,1350.0,1450.0,1390.0,1050.0,620.0,490.0,390.0,260.0,1250.0,1350.0,1630.0,2150.0,2390.0,2260.0,2100.0,1880.0,1690.0,1700.0,1600.0,1380.0,920.0,950.0,1140.0,1410.0,1330.0,1250.0,1060.0,720.0,600.0,630.0,620.0,480.0,480.0,630.0,890.0,1170.0,1170.0,1090.0,940.0,610.0,550.0,650.0,620.0,520.0,540.0,690.0,990.0,1250.0,1240.0,1260.0],\"sizemode\":\"area\",\"sizeref\":11.4,\"symbol\":\"circle\"},\"mode\":\"markers\",\"name\":\"Males\",\"orientation\":\"v\",\"showlegend\":true,\"x\":[\"2000-01-01T00:00:00\",\"2000-02-01T00:00:00\",\"2000-03-01T00:00:00\",\"2000-04-01T00:00:00\",\"2000-05-01T00:00:00\",\"2000-06-01T00:00:00\",\"2000-07-01T00:00:00\",\"2000-08-01T00:00:00\",\"2000-09-01T00:00:00\",\"2000-10-01T00:00:00\",\"2000-11-01T00:00:00\",\"2000-12-01T00:00:00\",\"2001-01-01T00:00:00\",\"2001-02-01T00:00:00\",\"2001-03-01T00:00:00\",\"2001-04-01T00:00:00\",\"2001-05-01T00:00:00\",\"2001-06-01T00:00:00\",\"2001-07-01T00:00:00\",\"2001-08-01T00:00:00\",\"2001-09-01T00:00:00\",\"2001-10-01T00:00:00\",\"2001-11-01T00:00:00\",\"2001-12-01T00:00:00\",\"2002-01-01T00:00:00\",\"2002-02-01T00:00:00\",\"2002-03-01T00:00:00\",\"2002-04-01T00:00:00\",\"2002-05-01T00:00:00\",\"2002-06-01T00:00:00\",\"2002-07-01T00:00:00\",\"2002-08-01T00:00:00\",\"2002-09-01T00:00:00\",\"2002-10-01T00:00:00\",\"2002-11-01T00:00:00\",\"2002-12-01T00:00:00\",\"2003-01-01T00:00:00\",\"2003-02-01T00:00:00\",\"2003-03-01T00:00:00\",\"2003-04-01T00:00:00\",\"2003-05-01T00:00:00\",\"2003-06-01T00:00:00\",\"2003-07-01T00:00:00\",\"2003-08-01T00:00:00\",\"2003-09-01T00:00:00\",\"2003-10-01T00:00:00\",\"2003-11-01T00:00:00\",\"2003-12-01T00:00:00\",\"2004-01-01T00:00:00\",\"2004-02-01T00:00:00\",\"2004-03-01T00:00:00\",\"2004-04-01T00:00:00\",\"2004-05-01T00:00:00\",\"2004-06-01T00:00:00\",\"2004-07-01T00:00:00\",\"2004-08-01T00:00:00\",\"2004-09-01T00:00:00\",\"2004-10-01T00:00:00\",\"2004-11-01T00:00:00\",\"2004-12-01T00:00:00\",\"2005-01-01T00:00:00\",\"2005-02-01T00:00:00\",\"2005-03-01T00:00:00\",\"2005-04-01T00:00:00\",\"2005-05-01T00:00:00\",\"2005-06-01T00:00:00\",\"2005-07-01T00:00:00\",\"2005-08-01T00:00:00\",\"2005-09-01T00:00:00\",\"2005-10-01T00:00:00\",\"2005-11-01T00:00:00\",\"2005-12-01T00:00:00\",\"2006-01-01T00:00:00\",\"2006-02-01T00:00:00\",\"2006-03-01T00:00:00\",\"2006-04-01T00:00:00\",\"2006-05-01T00:00:00\",\"2006-06-01T00:00:00\",\"2006-07-01T00:00:00\",\"2006-08-01T00:00:00\",\"2006-09-01T00:00:00\",\"2006-10-01T00:00:00\",\"2006-11-01T00:00:00\",\"2006-12-01T00:00:00\",\"2007-01-01T00:00:00\",\"2007-02-01T00:00:00\",\"2007-03-01T00:00:00\",\"2007-04-01T00:00:00\",\"2007-05-01T00:00:00\",\"2007-06-01T00:00:00\",\"2007-07-01T00:00:00\",\"2007-08-01T00:00:00\",\"2007-09-01T00:00:00\",\"2007-10-01T00:00:00\",\"2007-11-01T00:00:00\",\"2007-12-01T00:00:00\",\"2008-01-01T00:00:00\",\"2008-02-01T00:00:00\",\"2008-03-01T00:00:00\",\"2008-04-01T00:00:00\",\"2008-05-01T00:00:00\",\"2008-06-01T00:00:00\",\"2008-07-01T00:00:00\",\"2008-08-01T00:00:00\",\"2008-09-01T00:00:00\",\"2008-10-01T00:00:00\",\"2008-11-01T00:00:00\",\"2008-12-01T00:00:00\",\"2009-01-01T00:00:00\",\"2009-02-01T00:00:00\",\"2009-03-01T00:00:00\",\"2009-04-01T00:00:00\",\"2009-05-01T00:00:00\",\"2009-06-01T00:00:00\",\"2009-07-01T00:00:00\",\"2009-08-01T00:00:00\",\"2009-09-01T00:00:00\",\"2009-10-01T00:00:00\",\"2009-11-01T00:00:00\",\"2009-12-01T00:00:00\",\"2010-01-01T00:00:00\",\"2010-02-01T00:00:00\",\"2010-03-01T00:00:00\",\"2010-04-01T00:00:00\",\"2010-05-01T00:00:00\",\"2010-06-01T00:00:00\",\"2010-07-01T00:00:00\",\"2010-08-01T00:00:00\",\"2010-09-01T00:00:00\",\"2010-10-01T00:00:00\",\"2010-11-01T00:00:00\",\"2010-12-01T00:00:00\",\"2011-01-01T00:00:00\",\"2011-02-01T00:00:00\",\"2011-03-01T00:00:00\",\"2011-04-01T00:00:00\",\"2011-05-01T00:00:00\",\"2011-06-01T00:00:00\",\"2011-07-01T00:00:00\",\"2011-08-01T00:00:00\",\"2011-09-01T00:00:00\",\"2011-10-01T00:00:00\",\"2011-11-01T00:00:00\",\"2011-12-01T00:00:00\",\"2012-01-01T00:00:00\",\"2012-02-01T00:00:00\",\"2012-03-01T00:00:00\",\"2012-04-01T00:00:00\",\"2012-05-01T00:00:00\",\"2012-06-01T00:00:00\",\"2012-07-01T00:00:00\",\"2012-08-01T00:00:00\",\"2012-09-01T00:00:00\",\"2012-10-01T00:00:00\",\"2012-11-01T00:00:00\",\"2012-12-01T00:00:00\",\"2013-01-01T00:00:00\",\"2013-02-01T00:00:00\",\"2013-03-01T00:00:00\",\"2013-04-01T00:00:00\",\"2013-05-01T00:00:00\",\"2013-06-01T00:00:00\",\"2013-07-01T00:00:00\",\"2013-08-01T00:00:00\",\"2013-09-01T00:00:00\",\"2013-10-01T00:00:00\",\"2013-11-01T00:00:00\",\"2013-12-01T00:00:00\",\"2014-01-01T00:00:00\",\"2014-02-01T00:00:00\",\"2014-03-01T00:00:00\",\"2014-04-01T00:00:00\",\"2014-05-01T00:00:00\",\"2014-06-01T00:00:00\",\"2014-07-01T00:00:00\",\"2014-08-01T00:00:00\",\"2014-09-01T00:00:00\",\"2014-10-01T00:00:00\",\"2014-11-01T00:00:00\",\"2014-12-01T00:00:00\",\"2015-01-01T00:00:00\",\"2015-02-01T00:00:00\",\"2015-03-01T00:00:00\",\"2015-04-01T00:00:00\",\"2015-05-01T00:00:00\",\"2015-06-01T00:00:00\",\"2015-07-01T00:00:00\",\"2015-08-01T00:00:00\",\"2015-09-01T00:00:00\",\"2015-10-01T00:00:00\",\"2015-11-01T00:00:00\",\"2015-12-01T00:00:00\",\"2016-01-01T00:00:00\",\"2016-02-01T00:00:00\",\"2016-03-01T00:00:00\",\"2016-04-01T00:00:00\",\"2016-05-01T00:00:00\",\"2016-06-01T00:00:00\",\"2016-07-01T00:00:00\",\"2016-08-01T00:00:00\",\"2016-09-01T00:00:00\",\"2016-10-01T00:00:00\",\"2016-11-01T00:00:00\",\"2016-12-01T00:00:00\",\"2017-01-01T00:00:00\",\"2017-02-01T00:00:00\",\"2017-03-01T00:00:00\",\"2017-04-01T00:00:00\",\"2017-05-01T00:00:00\",\"2017-06-01T00:00:00\",\"2017-07-01T00:00:00\",\"2017-08-01T00:00:00\",\"2017-09-01T00:00:00\",\"2017-10-01T00:00:00\",\"2017-11-01T00:00:00\",\"2017-12-01T00:00:00\",\"2018-01-01T00:00:00\",\"2018-02-01T00:00:00\",\"2018-03-01T00:00:00\",\"2018-04-01T00:00:00\",\"2018-05-01T00:00:00\",\"2018-06-01T00:00:00\",\"2018-07-01T00:00:00\",\"2018-08-01T00:00:00\",\"2018-09-01T00:00:00\",\"2018-10-01T00:00:00\",\"2018-11-01T00:00:00\",\"2018-12-01T00:00:00\",\"2019-01-01T00:00:00\",\"2019-02-01T00:00:00\",\"2019-03-01T00:00:00\",\"2019-04-01T00:00:00\",\"2019-05-01T00:00:00\",\"2019-06-01T00:00:00\",\"2019-07-01T00:00:00\",\"2019-08-01T00:00:00\",\"2019-09-01T00:00:00\",\"2019-10-01T00:00:00\",\"2019-11-01T00:00:00\",\"2019-12-01T00:00:00\",\"2020-01-01T00:00:00\",\"2020-02-01T00:00:00\",\"2020-03-01T00:00:00\",\"2020-04-01T00:00:00\",\"2020-05-01T00:00:00\",\"2020-06-01T00:00:00\",\"2020-07-01T00:00:00\",\"2020-08-01T00:00:00\",\"2020-09-01T00:00:00\",\"2020-10-01T00:00:00\",\"2020-11-01T00:00:00\",\"2020-12-01T00:00:00\",\"2021-01-01T00:00:00\",\"2021-02-01T00:00:00\",\"2021-03-01T00:00:00\",\"2021-04-01T00:00:00\",\"2021-05-01T00:00:00\",\"2021-06-01T00:00:00\",\"2021-07-01T00:00:00\",\"2021-08-01T00:00:00\",\"2021-09-01T00:00:00\",\"2021-10-01T00:00:00\",\"2021-11-01T00:00:00\",\"2021-12-01T00:00:00\",\"2022-01-01T00:00:00\",\"2022-02-01T00:00:00\",\"2022-03-01T00:00:00\",\"2022-04-01T00:00:00\",\"2022-05-01T00:00:00\",\"2022-06-01T00:00:00\",\"2022-07-01T00:00:00\",\"2022-08-01T00:00:00\",\"2022-09-01T00:00:00\",\"2022-10-01T00:00:00\",\"2022-11-01T00:00:00\",\"2022-12-01T00:00:00\",\"2023-01-01T00:00:00\",\"2023-02-01T00:00:00\",\"2023-03-01T00:00:00\",\"2023-04-01T00:00:00\",\"2023-05-01T00:00:00\",\"2023-06-01T00:00:00\",\"2023-07-01T00:00:00\",\"2023-08-01T00:00:00\",\"2023-09-01T00:00:00\",\"2023-10-01T00:00:00\",\"2023-11-01T00:00:00\",\"2023-12-01T00:00:00\",\"2024-01-01T00:00:00\",\"2024-02-01T00:00:00\",\"2024-03-01T00:00:00\"],\"xaxis\":\"x\",\"y\":[1100.0,1130.0,1100.0,890.0,600.0,470.0,420.0,410.0,360.0,380.0,460.0,670.0,1060.0,1090.0,1080.0,1010.0,760.0,660.0,680.0,630.0,570.0,620.0,740.0,910.0,1270.0,1310.0,1340.0,1190.0,930.0,780.0,710.0,670.0,580.0,610.0,700.0,900.0,1230.0,1300.0,1290.0,1170.0,870.0,710.0,730.0,710.0,600.0,630.0,740.0,940.0,1220.0,1230.0,1270.0,1070.0,800.0,620.0,630.0,600.0,480.0,500.0,590.0,790.0,1060.0,1150.0,1140.0,1000.0,720.0,590.0,650.0,670.0,550.0,570.0,660.0,800.0,1070.0,1090.0,1100.0,960.0,710.0,620.0,600.0,580.0,510.0,530.0,590.0,740.0,1050.0,1140.0,1140.0,980.0,720.0,600.0,620.0,580.0,480.0,490.0,530.0,700.0,1080.0,1120.0,1090.0,940.0,690.0,590.0,630.0,640.0,520.0,540.0,640.0,1000.0,1530.0,1670.0,1820.0,1760.0,1460.0,1280.0,1300.0,1280.0,1170.0,1150.0,1180.0,1330.0,1720.0,1740.0,1660.0,1410.0,1140.0,990.0,990.0,960.0,830.0,800.0,890.0,1060.0,1430.0,1460.0,1430.0,1250.0,920.0,770.0,740.0,700.0,630.0,640.0,740.0,900.0,1220.0,1270.0,1350.0,1140.0,920.0,790.0,770.0,740.0,630.0,660.0,770.0,930.0,1370.0,1480.0,1490.0,1350.0,1090.0,940.0,960.0,890.0,730.0,820.0,900.0,1050.0,1350.0,1360.0,1350.0,1220.0,970.0,730.0,780.0,740.0,660.0,700.0,790.0,1020.0,1350.0,1350.0,1360.0,1210.0,930.0,700.0,740.0,740.0,610.0,660.0,770.0,1010.0,1400.0,1440.0,1450.0,1320.0,1000.0,830.0,1030.0,910.0,800.0,840.0,940.0,1200.0,1460.0,1470.0,1470.0,1350.0,1010.0,850.0,870.0,800.0,620.0,660.0,780.0,1040.0,1320.0,1320.0,1300.0,1120.0,850.0,650.0,690.0,630.0,520.0,560.0,680.0,900.0,1240.0,1240.0,1260.0,1120.0,820.0,680.0,710.0,680.0,560.0,630.0,800.0,1060.0,1320.0,1350.0,1450.0,1390.0,1050.0,620.0,490.0,390.0,260.0,1250.0,1350.0,1630.0,2150.0,2390.0,2260.0,2100.0,1880.0,1690.0,1700.0,1600.0,1380.0,920.0,950.0,1140.0,1410.0,1330.0,1250.0,1060.0,720.0,600.0,630.0,620.0,480.0,480.0,630.0,890.0,1170.0,1170.0,1090.0,940.0,610.0,550.0,650.0,620.0,520.0,540.0,690.0,990.0,1250.0,1240.0,1260.0],\"yaxis\":\"y\",\"type\":\"scatter\"},{\"hovertemplate\":\"Sex=Females\\u003cbr\\u003eDate=%{x}\\u003cbr\\u003eClaimants=%{marker.size}\\u003cextra\\u003e\\u003c\\u002fextra\\u003e\",\"legendgroup\":\"Females\",\"marker\":{\"color\":\"#00cc96\",\"size\":[560.0,550.0,570.0,520.0,510.0,500.0,560.0,770.0,490.0,480.0,510.0,560.0,590.0,600.0,640.0,610.0,600.0,600.0,850.0,920.0,650.0,680.0,720.0,760.0,770.0,800.0,860.0,820.0,790.0,800.0,1080.0,1040.0,770.0,770.0,760.0,780.0,780.0,790.0,820.0,780.0,770.0,780.0,1060.0,1090.0,770.0,780.0,810.0,810.0,840.0,810.0,880.0,800.0,760.0,800.0,1050.0,1100.0,750.0,740.0,750.0,800.0,780.0,820.0,910.0,790.0,780.0,800.0,990.0,1170.0,800.0,790.0,800.0,810.0,840.0,850.0,920.0,820.0,800.0,810.0,1040.0,1180.0,770.0,780.0,770.0,790.0,780.0,800.0,890.0,810.0,760.0,750.0,1170.0,1210.0,840.0,820.0,820.0,860.0,870.0,850.0,950.0,860.0,860.0,880.0,1200.0,1200.0,830.0,850.0,860.0,880.0,930.0,970.0,1080.0,1000.0,990.0,1040.0,1390.0,1420.0,1070.0,1050.0,1080.0,1140.0,1180.0,1190.0,1300.0,1120.0,1070.0,1100.0,1440.0,1420.0,970.0,960.0,940.0,950.0,980.0,930.0,1050.0,930.0,890.0,940.0,1050.0,1290.0,900.0,900.0,890.0,890.0,920.0,920.0,1040.0,950.0,930.0,880.0,1260.0,1290.0,910.0,910.0,890.0,880.0,920.0,900.0,980.0,880.0,890.0,890.0,1220.0,1260.0,890.0,870.0,870.0,850.0,870.0,850.0,960.0,860.0,840.0,840.0,1230.0,1290.0,850.0,850.0,850.0,870.0,900.0,880.0,960.0,860.0,830.0,880.0,1270.0,1310.0,890.0,890.0,920.0,930.0,960.0,940.0,1040.0,890.0,840.0,860.0,1240.0,1280.0,990.0,980.0,990.0,1030.0,1010.0,980.0,1110.0,960.0,930.0,940.0,1330.0,1350.0,910.0,900.0,920.0,940.0,930.0,900.0,1020.0,850.0,830.0,820.0,1270.0,1270.0,820.0,820.0,810.0,810.0,830.0,830.0,980.0,830.0,800.0,790.0,1250.0,1260.0,830.0,830.0,820.0,840.0,860.0,870.0,1030.0,920.0,830.0,670.0,660.0,600.0,490.0,1550.0,1560.0,1620.0,2020.0,2170.0,1970.0,2290.0,2170.0,2060.0,2300.0,2250.0,1580.0,1040.0,1060.0,1060.0,1060.0,940.0,1030.0,870.0,810.0,760.0,1210.0,1190.0,730.0,720.0,740.0,750.0,760.0,720.0,810.0,700.0,740.0,780.0,1230.0,1240.0,810.0,820.0,840.0,870.0,860.0,830.0,900.0],\"sizemode\":\"area\",\"sizeref\":11.4,\"symbol\":\"circle\"},\"mode\":\"markers\",\"name\":\"Females\",\"orientation\":\"v\",\"showlegend\":true,\"x\":[\"2000-01-01T00:00:00\",\"2000-02-01T00:00:00\",\"2000-03-01T00:00:00\",\"2000-04-01T00:00:00\",\"2000-05-01T00:00:00\",\"2000-06-01T00:00:00\",\"2000-07-01T00:00:00\",\"2000-08-01T00:00:00\",\"2000-09-01T00:00:00\",\"2000-10-01T00:00:00\",\"2000-11-01T00:00:00\",\"2000-12-01T00:00:00\",\"2001-01-01T00:00:00\",\"2001-02-01T00:00:00\",\"2001-03-01T00:00:00\",\"2001-04-01T00:00:00\",\"2001-05-01T00:00:00\",\"2001-06-01T00:00:00\",\"2001-07-01T00:00:00\",\"2001-08-01T00:00:00\",\"2001-09-01T00:00:00\",\"2001-10-01T00:00:00\",\"2001-11-01T00:00:00\",\"2001-12-01T00:00:00\",\"2002-01-01T00:00:00\",\"2002-02-01T00:00:00\",\"2002-03-01T00:00:00\",\"2002-04-01T00:00:00\",\"2002-05-01T00:00:00\",\"2002-06-01T00:00:00\",\"2002-07-01T00:00:00\",\"2002-08-01T00:00:00\",\"2002-09-01T00:00:00\",\"2002-10-01T00:00:00\",\"2002-11-01T00:00:00\",\"2002-12-01T00:00:00\",\"2003-01-01T00:00:00\",\"2003-02-01T00:00:00\",\"2003-03-01T00:00:00\",\"2003-04-01T00:00:00\",\"2003-05-01T00:00:00\",\"2003-06-01T00:00:00\",\"2003-07-01T00:00:00\",\"2003-08-01T00:00:00\",\"2003-09-01T00:00:00\",\"2003-10-01T00:00:00\",\"2003-11-01T00:00:00\",\"2003-12-01T00:00:00\",\"2004-01-01T00:00:00\",\"2004-02-01T00:00:00\",\"2004-03-01T00:00:00\",\"2004-04-01T00:00:00\",\"2004-05-01T00:00:00\",\"2004-06-01T00:00:00\",\"2004-07-01T00:00:00\",\"2004-08-01T00:00:00\",\"2004-09-01T00:00:00\",\"2004-10-01T00:00:00\",\"2004-11-01T00:00:00\",\"2004-12-01T00:00:00\",\"2005-01-01T00:00:00\",\"2005-02-01T00:00:00\",\"2005-03-01T00:00:00\",\"2005-04-01T00:00:00\",\"2005-05-01T00:00:00\",\"2005-06-01T00:00:00\",\"2005-07-01T00:00:00\",\"2005-08-01T00:00:00\",\"2005-09-01T00:00:00\",\"2005-10-01T00:00:00\",\"2005-11-01T00:00:00\",\"2005-12-01T00:00:00\",\"2006-01-01T00:00:00\",\"2006-02-01T00:00:00\",\"2006-03-01T00:00:00\",\"2006-04-01T00:00:00\",\"2006-05-01T00:00:00\",\"2006-06-01T00:00:00\",\"2006-07-01T00:00:00\",\"2006-08-01T00:00:00\",\"2006-09-01T00:00:00\",\"2006-10-01T00:00:00\",\"2006-11-01T00:00:00\",\"2006-12-01T00:00:00\",\"2007-01-01T00:00:00\",\"2007-02-01T00:00:00\",\"2007-03-01T00:00:00\",\"2007-04-01T00:00:00\",\"2007-05-01T00:00:00\",\"2007-06-01T00:00:00\",\"2007-07-01T00:00:00\",\"2007-08-01T00:00:00\",\"2007-09-01T00:00:00\",\"2007-10-01T00:00:00\",\"2007-11-01T00:00:00\",\"2007-12-01T00:00:00\",\"2008-01-01T00:00:00\",\"2008-02-01T00:00:00\",\"2008-03-01T00:00:00\",\"2008-04-01T00:00:00\",\"2008-05-01T00:00:00\",\"2008-06-01T00:00:00\",\"2008-07-01T00:00:00\",\"2008-08-01T00:00:00\",\"2008-09-01T00:00:00\",\"2008-10-01T00:00:00\",\"2008-11-01T00:00:00\",\"2008-12-01T00:00:00\",\"2009-01-01T00:00:00\",\"2009-02-01T00:00:00\",\"2009-03-01T00:00:00\",\"2009-04-01T00:00:00\",\"2009-05-01T00:00:00\",\"2009-06-01T00:00:00\",\"2009-07-01T00:00:00\",\"2009-08-01T00:00:00\",\"2009-09-01T00:00:00\",\"2009-10-01T00:00:00\",\"2009-11-01T00:00:00\",\"2009-12-01T00:00:00\",\"2010-01-01T00:00:00\",\"2010-02-01T00:00:00\",\"2010-03-01T00:00:00\",\"2010-04-01T00:00:00\",\"2010-05-01T00:00:00\",\"2010-06-01T00:00:00\",\"2010-07-01T00:00:00\",\"2010-08-01T00:00:00\",\"2010-09-01T00:00:00\",\"2010-10-01T00:00:00\",\"2010-11-01T00:00:00\",\"2010-12-01T00:00:00\",\"2011-01-01T00:00:00\",\"2011-02-01T00:00:00\",\"2011-03-01T00:00:00\",\"2011-04-01T00:00:00\",\"2011-05-01T00:00:00\",\"2011-06-01T00:00:00\",\"2011-07-01T00:00:00\",\"2011-08-01T00:00:00\",\"2011-09-01T00:00:00\",\"2011-10-01T00:00:00\",\"2011-11-01T00:00:00\",\"2011-12-01T00:00:00\",\"2012-01-01T00:00:00\",\"2012-02-01T00:00:00\",\"2012-03-01T00:00:00\",\"2012-04-01T00:00:00\",\"2012-05-01T00:00:00\",\"2012-06-01T00:00:00\",\"2012-07-01T00:00:00\",\"2012-08-01T00:00:00\",\"2012-09-01T00:00:00\",\"2012-10-01T00:00:00\",\"2012-11-01T00:00:00\",\"2012-12-01T00:00:00\",\"2013-01-01T00:00:00\",\"2013-02-01T00:00:00\",\"2013-03-01T00:00:00\",\"2013-04-01T00:00:00\",\"2013-05-01T00:00:00\",\"2013-06-01T00:00:00\",\"2013-07-01T00:00:00\",\"2013-08-01T00:00:00\",\"2013-09-01T00:00:00\",\"2013-10-01T00:00:00\",\"2013-11-01T00:00:00\",\"2013-12-01T00:00:00\",\"2014-01-01T00:00:00\",\"2014-02-01T00:00:00\",\"2014-03-01T00:00:00\",\"2014-04-01T00:00:00\",\"2014-05-01T00:00:00\",\"2014-06-01T00:00:00\",\"2014-07-01T00:00:00\",\"2014-08-01T00:00:00\",\"2014-09-01T00:00:00\",\"2014-10-01T00:00:00\",\"2014-11-01T00:00:00\",\"2014-12-01T00:00:00\",\"2015-01-01T00:00:00\",\"2015-02-01T00:00:00\",\"2015-03-01T00:00:00\",\"2015-04-01T00:00:00\",\"2015-05-01T00:00:00\",\"2015-06-01T00:00:00\",\"2015-07-01T00:00:00\",\"2015-08-01T00:00:00\",\"2015-09-01T00:00:00\",\"2015-10-01T00:00:00\",\"2015-11-01T00:00:00\",\"2015-12-01T00:00:00\",\"2016-01-01T00:00:00\",\"2016-02-01T00:00:00\",\"2016-03-01T00:00:00\",\"2016-04-01T00:00:00\",\"2016-05-01T00:00:00\",\"2016-06-01T00:00:00\",\"2016-07-01T00:00:00\",\"2016-08-01T00:00:00\",\"2016-09-01T00:00:00\",\"2016-10-01T00:00:00\",\"2016-11-01T00:00:00\",\"2016-12-01T00:00:00\",\"2017-01-01T00:00:00\",\"2017-02-01T00:00:00\",\"2017-03-01T00:00:00\",\"2017-04-01T00:00:00\",\"2017-05-01T00:00:00\",\"2017-06-01T00:00:00\",\"2017-07-01T00:00:00\",\"2017-08-01T00:00:00\",\"2017-09-01T00:00:00\",\"2017-10-01T00:00:00\",\"2017-11-01T00:00:00\",\"2017-12-01T00:00:00\",\"2018-01-01T00:00:00\",\"2018-02-01T00:00:00\",\"2018-03-01T00:00:00\",\"2018-04-01T00:00:00\",\"2018-05-01T00:00:00\",\"2018-06-01T00:00:00\",\"2018-07-01T00:00:00\",\"2018-08-01T00:00:00\",\"2018-09-01T00:00:00\",\"2018-10-01T00:00:00\",\"2018-11-01T00:00:00\",\"2018-12-01T00:00:00\",\"2019-01-01T00:00:00\",\"2019-02-01T00:00:00\",\"2019-03-01T00:00:00\",\"2019-04-01T00:00:00\",\"2019-05-01T00:00:00\",\"2019-06-01T00:00:00\",\"2019-07-01T00:00:00\",\"2019-08-01T00:00:00\",\"2019-09-01T00:00:00\",\"2019-10-01T00:00:00\",\"2019-11-01T00:00:00\",\"2019-12-01T00:00:00\",\"2020-01-01T00:00:00\",\"2020-02-01T00:00:00\",\"2020-03-01T00:00:00\",\"2020-04-01T00:00:00\",\"2020-05-01T00:00:00\",\"2020-06-01T00:00:00\",\"2020-07-01T00:00:00\",\"2020-08-01T00:00:00\",\"2020-09-01T00:00:00\",\"2020-10-01T00:00:00\",\"2020-11-01T00:00:00\",\"2020-12-01T00:00:00\",\"2021-01-01T00:00:00\",\"2021-02-01T00:00:00\",\"2021-03-01T00:00:00\",\"2021-04-01T00:00:00\",\"2021-05-01T00:00:00\",\"2021-06-01T00:00:00\",\"2021-07-01T00:00:00\",\"2021-08-01T00:00:00\",\"2021-09-01T00:00:00\",\"2021-10-01T00:00:00\",\"2021-11-01T00:00:00\",\"2021-12-01T00:00:00\",\"2022-01-01T00:00:00\",\"2022-02-01T00:00:00\",\"2022-03-01T00:00:00\",\"2022-04-01T00:00:00\",\"2022-05-01T00:00:00\",\"2022-06-01T00:00:00\",\"2022-07-01T00:00:00\",\"2022-08-01T00:00:00\",\"2022-09-01T00:00:00\",\"2022-10-01T00:00:00\",\"2022-11-01T00:00:00\",\"2022-12-01T00:00:00\",\"2023-01-01T00:00:00\",\"2023-02-01T00:00:00\",\"2023-03-01T00:00:00\",\"2023-04-01T00:00:00\",\"2023-05-01T00:00:00\",\"2023-06-01T00:00:00\",\"2023-07-01T00:00:00\",\"2023-08-01T00:00:00\",\"2023-09-01T00:00:00\",\"2023-10-01T00:00:00\",\"2023-11-01T00:00:00\",\"2023-12-01T00:00:00\",\"2024-01-01T00:00:00\",\"2024-02-01T00:00:00\",\"2024-03-01T00:00:00\"],\"xaxis\":\"x\",\"y\":[560.0,550.0,570.0,520.0,510.0,500.0,560.0,770.0,490.0,480.0,510.0,560.0,590.0,600.0,640.0,610.0,600.0,600.0,850.0,920.0,650.0,680.0,720.0,760.0,770.0,800.0,860.0,820.0,790.0,800.0,1080.0,1040.0,770.0,770.0,760.0,780.0,780.0,790.0,820.0,780.0,770.0,780.0,1060.0,1090.0,770.0,780.0,810.0,810.0,840.0,810.0,880.0,800.0,760.0,800.0,1050.0,1100.0,750.0,740.0,750.0,800.0,780.0,820.0,910.0,790.0,780.0,800.0,990.0,1170.0,800.0,790.0,800.0,810.0,840.0,850.0,920.0,820.0,800.0,810.0,1040.0,1180.0,770.0,780.0,770.0,790.0,780.0,800.0,890.0,810.0,760.0,750.0,1170.0,1210.0,840.0,820.0,820.0,860.0,870.0,850.0,950.0,860.0,860.0,880.0,1200.0,1200.0,830.0,850.0,860.0,880.0,930.0,970.0,1080.0,1000.0,990.0,1040.0,1390.0,1420.0,1070.0,1050.0,1080.0,1140.0,1180.0,1190.0,1300.0,1120.0,1070.0,1100.0,1440.0,1420.0,970.0,960.0,940.0,950.0,980.0,930.0,1050.0,930.0,890.0,940.0,1050.0,1290.0,900.0,900.0,890.0,890.0,920.0,920.0,1040.0,950.0,930.0,880.0,1260.0,1290.0,910.0,910.0,890.0,880.0,920.0,900.0,980.0,880.0,890.0,890.0,1220.0,1260.0,890.0,870.0,870.0,850.0,870.0,850.0,960.0,860.0,840.0,840.0,1230.0,1290.0,850.0,850.0,850.0,870.0,900.0,880.0,960.0,860.0,830.0,880.0,1270.0,1310.0,890.0,890.0,920.0,930.0,960.0,940.0,1040.0,890.0,840.0,860.0,1240.0,1280.0,990.0,980.0,990.0,1030.0,1010.0,980.0,1110.0,960.0,930.0,940.0,1330.0,1350.0,910.0,900.0,920.0,940.0,930.0,900.0,1020.0,850.0,830.0,820.0,1270.0,1270.0,820.0,820.0,810.0,810.0,830.0,830.0,980.0,830.0,800.0,790.0,1250.0,1260.0,830.0,830.0,820.0,840.0,860.0,870.0,1030.0,920.0,830.0,670.0,660.0,600.0,490.0,1550.0,1560.0,1620.0,2020.0,2170.0,1970.0,2290.0,2170.0,2060.0,2300.0,2250.0,1580.0,1040.0,1060.0,1060.0,1060.0,940.0,1030.0,870.0,810.0,760.0,1210.0,1190.0,730.0,720.0,740.0,750.0,760.0,720.0,810.0,700.0,740.0,780.0,1230.0,1240.0,810.0,820.0,840.0,870.0,860.0,830.0,900.0],\"yaxis\":\"y\",\"type\":\"scatter\"}],                        {\"template\":{\"data\":{\"histogram2dcontour\":[{\"type\":\"histogram2dcontour\",\"colorbar\":{\"outlinewidth\":0,\"ticks\":\"\"},\"colorscale\":[[0.0,\"#0d0887\"],[0.1111111111111111,\"#46039f\"],[0.2222222222222222,\"#7201a8\"],[0.3333333333333333,\"#9c179e\"],[0.4444444444444444,\"#bd3786\"],[0.5555555555555556,\"#d8576b\"],[0.6666666666666666,\"#ed7953\"],[0.7777777777777778,\"#fb9f3a\"],[0.8888888888888888,\"#fdca26\"],[1.0,\"#f0f921\"]]}],\"choropleth\":[{\"type\":\"choropleth\",\"colorbar\":{\"outlinewidth\":0,\"ticks\":\"\"}}],\"histogram2d\":[{\"type\":\"histogram2d\",\"colorbar\":{\"outlinewidth\":0,\"ticks\":\"\"},\"colorscale\":[[0.0,\"#0d0887\"],[0.1111111111111111,\"#46039f\"],[0.2222222222222222,\"#7201a8\"],[0.3333333333333333,\"#9c179e\"],[0.4444444444444444,\"#bd3786\"],[0.5555555555555556,\"#d8576b\"],[0.6666666666666666,\"#ed7953\"],[0.7777777777777778,\"#fb9f3a\"],[0.8888888888888888,\"#fdca26\"],[1.0,\"#f0f921\"]]}],\"heatmap\":[{\"type\":\"heatmap\",\"colorbar\":{\"outlinewidth\":0,\"ticks\":\"\"},\"colorscale\":[[0.0,\"#0d0887\"],[0.1111111111111111,\"#46039f\"],[0.2222222222222222,\"#7201a8\"],[0.3333333333333333,\"#9c179e\"],[0.4444444444444444,\"#bd3786\"],[0.5555555555555556,\"#d8576b\"],[0.6666666666666666,\"#ed7953\"],[0.7777777777777778,\"#fb9f3a\"],[0.8888888888888888,\"#fdca26\"],[1.0,\"#f0f921\"]]}],\"heatmapgl\":[{\"type\":\"heatmapgl\",\"colorbar\":{\"outlinewidth\":0,\"ticks\":\"\"},\"colorscale\":[[0.0,\"#0d0887\"],[0.1111111111111111,\"#46039f\"],[0.2222222222222222,\"#7201a8\"],[0.3333333333333333,\"#9c179e\"],[0.4444444444444444,\"#bd3786\"],[0.5555555555555556,\"#d8576b\"],[0.6666666666666666,\"#ed7953\"],[0.7777777777777778,\"#fb9f3a\"],[0.8888888888888888,\"#fdca26\"],[1.0,\"#f0f921\"]]}],\"contourcarpet\":[{\"type\":\"contourcarpet\",\"colorbar\":{\"outlinewidth\":0,\"ticks\":\"\"}}],\"contour\":[{\"type\":\"contour\",\"colorbar\":{\"outlinewidth\":0,\"ticks\":\"\"},\"colorscale\":[[0.0,\"#0d0887\"],[0.1111111111111111,\"#46039f\"],[0.2222222222222222,\"#7201a8\"],[0.3333333333333333,\"#9c179e\"],[0.4444444444444444,\"#bd3786\"],[0.5555555555555556,\"#d8576b\"],[0.6666666666666666,\"#ed7953\"],[0.7777777777777778,\"#fb9f3a\"],[0.8888888888888888,\"#fdca26\"],[1.0,\"#f0f921\"]]}],\"surface\":[{\"type\":\"surface\",\"colorbar\":{\"outlinewidth\":0,\"ticks\":\"\"},\"colorscale\":[[0.0,\"#0d0887\"],[0.1111111111111111,\"#46039f\"],[0.2222222222222222,\"#7201a8\"],[0.3333333333333333,\"#9c179e\"],[0.4444444444444444,\"#bd3786\"],[0.5555555555555556,\"#d8576b\"],[0.6666666666666666,\"#ed7953\"],[0.7777777777777778,\"#fb9f3a\"],[0.8888888888888888,\"#fdca26\"],[1.0,\"#f0f921\"]]}],\"mesh3d\":[{\"type\":\"mesh3d\",\"colorbar\":{\"outlinewidth\":0,\"ticks\":\"\"}}],\"scatter\":[{\"fillpattern\":{\"fillmode\":\"overlay\",\"size\":10,\"solidity\":0.2},\"type\":\"scatter\"}],\"parcoords\":[{\"type\":\"parcoords\",\"line\":{\"colorbar\":{\"outlinewidth\":0,\"ticks\":\"\"}}}],\"scatterpolargl\":[{\"type\":\"scatterpolargl\",\"marker\":{\"colorbar\":{\"outlinewidth\":0,\"ticks\":\"\"}}}],\"bar\":[{\"error_x\":{\"color\":\"#2a3f5f\"},\"error_y\":{\"color\":\"#2a3f5f\"},\"marker\":{\"line\":{\"color\":\"#E5ECF6\",\"width\":0.5},\"pattern\":{\"fillmode\":\"overlay\",\"size\":10,\"solidity\":0.2}},\"type\":\"bar\"}],\"scattergeo\":[{\"type\":\"scattergeo\",\"marker\":{\"colorbar\":{\"outlinewidth\":0,\"ticks\":\"\"}}}],\"scatterpolar\":[{\"type\":\"scatterpolar\",\"marker\":{\"colorbar\":{\"outlinewidth\":0,\"ticks\":\"\"}}}],\"histogram\":[{\"marker\":{\"pattern\":{\"fillmode\":\"overlay\",\"size\":10,\"solidity\":0.2}},\"type\":\"histogram\"}],\"scattergl\":[{\"type\":\"scattergl\",\"marker\":{\"colorbar\":{\"outlinewidth\":0,\"ticks\":\"\"}}}],\"scatter3d\":[{\"type\":\"scatter3d\",\"line\":{\"colorbar\":{\"outlinewidth\":0,\"ticks\":\"\"}},\"marker\":{\"colorbar\":{\"outlinewidth\":0,\"ticks\":\"\"}}}],\"scattermapbox\":[{\"type\":\"scattermapbox\",\"marker\":{\"colorbar\":{\"outlinewidth\":0,\"ticks\":\"\"}}}],\"scatterternary\":[{\"type\":\"scatterternary\",\"marker\":{\"colorbar\":{\"outlinewidth\":0,\"ticks\":\"\"}}}],\"scattercarpet\":[{\"type\":\"scattercarpet\",\"marker\":{\"colorbar\":{\"outlinewidth\":0,\"ticks\":\"\"}}}],\"carpet\":[{\"aaxis\":{\"endlinecolor\":\"#2a3f5f\",\"gridcolor\":\"white\",\"linecolor\":\"white\",\"minorgridcolor\":\"white\",\"startlinecolor\":\"#2a3f5f\"},\"baxis\":{\"endlinecolor\":\"#2a3f5f\",\"gridcolor\":\"white\",\"linecolor\":\"white\",\"minorgridcolor\":\"white\",\"startlinecolor\":\"#2a3f5f\"},\"type\":\"carpet\"}],\"table\":[{\"cells\":{\"fill\":{\"color\":\"#EBF0F8\"},\"line\":{\"color\":\"white\"}},\"header\":{\"fill\":{\"color\":\"#C8D4E3\"},\"line\":{\"color\":\"white\"}},\"type\":\"table\"}],\"barpolar\":[{\"marker\":{\"line\":{\"color\":\"#E5ECF6\",\"width\":0.5},\"pattern\":{\"fillmode\":\"overlay\",\"size\":10,\"solidity\":0.2}},\"type\":\"barpolar\"}],\"pie\":[{\"automargin\":true,\"type\":\"pie\"}]},\"layout\":{\"autotypenumbers\":\"strict\",\"colorway\":[\"#636efa\",\"#EF553B\",\"#00cc96\",\"#ab63fa\",\"#FFA15A\",\"#19d3f3\",\"#FF6692\",\"#B6E880\",\"#FF97FF\",\"#FECB52\"],\"font\":{\"color\":\"#2a3f5f\"},\"hovermode\":\"closest\",\"hoverlabel\":{\"align\":\"left\"},\"paper_bgcolor\":\"white\",\"plot_bgcolor\":\"#E5ECF6\",\"polar\":{\"bgcolor\":\"#E5ECF6\",\"angularaxis\":{\"gridcolor\":\"white\",\"linecolor\":\"white\",\"ticks\":\"\"},\"radialaxis\":{\"gridcolor\":\"white\",\"linecolor\":\"white\",\"ticks\":\"\"}},\"ternary\":{\"bgcolor\":\"#E5ECF6\",\"aaxis\":{\"gridcolor\":\"white\",\"linecolor\":\"white\",\"ticks\":\"\"},\"baxis\":{\"gridcolor\":\"white\",\"linecolor\":\"white\",\"ticks\":\"\"},\"caxis\":{\"gridcolor\":\"white\",\"linecolor\":\"white\",\"ticks\":\"\"}},\"coloraxis\":{\"colorbar\":{\"outlinewidth\":0,\"ticks\":\"\"}},\"colorscale\":{\"sequential\":[[0.0,\"#0d0887\"],[0.1111111111111111,\"#46039f\"],[0.2222222222222222,\"#7201a8\"],[0.3333333333333333,\"#9c179e\"],[0.4444444444444444,\"#bd3786\"],[0.5555555555555556,\"#d8576b\"],[0.6666666666666666,\"#ed7953\"],[0.7777777777777778,\"#fb9f3a\"],[0.8888888888888888,\"#fdca26\"],[1.0,\"#f0f921\"]],\"sequentialminus\":[[0.0,\"#0d0887\"],[0.1111111111111111,\"#46039f\"],[0.2222222222222222,\"#7201a8\"],[0.3333333333333333,\"#9c179e\"],[0.4444444444444444,\"#bd3786\"],[0.5555555555555556,\"#d8576b\"],[0.6666666666666666,\"#ed7953\"],[0.7777777777777778,\"#fb9f3a\"],[0.8888888888888888,\"#fdca26\"],[1.0,\"#f0f921\"]],\"diverging\":[[0,\"#8e0152\"],[0.1,\"#c51b7d\"],[0.2,\"#de77ae\"],[0.3,\"#f1b6da\"],[0.4,\"#fde0ef\"],[0.5,\"#f7f7f7\"],[0.6,\"#e6f5d0\"],[0.7,\"#b8e186\"],[0.8,\"#7fbc41\"],[0.9,\"#4d9221\"],[1,\"#276419\"]]},\"xaxis\":{\"gridcolor\":\"white\",\"linecolor\":\"white\",\"ticks\":\"\",\"title\":{\"standoff\":15},\"zerolinecolor\":\"white\",\"automargin\":true,\"zerolinewidth\":2},\"yaxis\":{\"gridcolor\":\"white\",\"linecolor\":\"white\",\"ticks\":\"\",\"title\":{\"standoff\":15},\"zerolinecolor\":\"white\",\"automargin\":true,\"zerolinewidth\":2},\"scene\":{\"xaxis\":{\"backgroundcolor\":\"#E5ECF6\",\"gridcolor\":\"white\",\"linecolor\":\"white\",\"showbackground\":true,\"ticks\":\"\",\"zerolinecolor\":\"white\",\"gridwidth\":2},\"yaxis\":{\"backgroundcolor\":\"#E5ECF6\",\"gridcolor\":\"white\",\"linecolor\":\"white\",\"showbackground\":true,\"ticks\":\"\",\"zerolinecolor\":\"white\",\"gridwidth\":2},\"zaxis\":{\"backgroundcolor\":\"#E5ECF6\",\"gridcolor\":\"white\",\"linecolor\":\"white\",\"showbackground\":true,\"ticks\":\"\",\"zerolinecolor\":\"white\",\"gridwidth\":2}},\"shapedefaults\":{\"line\":{\"color\":\"#2a3f5f\"}},\"annotationdefaults\":{\"arrowcolor\":\"#2a3f5f\",\"arrowhead\":0,\"arrowwidth\":1},\"geo\":{\"bgcolor\":\"white\",\"landcolor\":\"#E5ECF6\",\"subunitcolor\":\"white\",\"showland\":true,\"showlakes\":true,\"lakecolor\":\"white\"},\"title\":{\"x\":0.05},\"mapbox\":{\"style\":\"light\"}}},\"xaxis\":{\"anchor\":\"y\",\"domain\":[0.0,1.0],\"title\":{\"text\":\"Date\"}},\"yaxis\":{\"anchor\":\"x\",\"domain\":[0.0,1.0],\"title\":{\"text\":\"Claimants\"}},\"legend\":{\"title\":{\"text\":\"Sex\"},\"tracegroupgap\":0,\"itemsizing\":\"constant\"},\"margin\":{\"t\":60}},                        {\"responsive\": true}                    ).then(function(){\n",
       "                            \n",
       "var gd = document.getElementById('d74d1bfb-e240-49f3-8957-526e1633c7e9');\n",
       "var x = new MutationObserver(function (mutations, observer) {{\n",
       "        var display = window.getComputedStyle(gd).display;\n",
       "        if (!display || display === 'none') {{\n",
       "            console.log([gd, 'removed!']);\n",
       "            Plotly.purge(gd);\n",
       "            observer.disconnect();\n",
       "        }}\n",
       "}});\n",
       "\n",
       "// Listen for the removal of the full notebook cells\n",
       "var notebookContainer = gd.closest('#notebook-container');\n",
       "if (notebookContainer) {{\n",
       "    x.observe(notebookContainer, {childList: true});\n",
       "}}\n",
       "\n",
       "// Listen for the clearing of the current output cell\n",
       "var outputEl = gd.closest('.output');\n",
       "if (outputEl) {{\n",
       "    x.observe(outputEl, {childList: true});\n",
       "}}\n",
       "\n",
       "                        })                };                });            </script>        </div>"
      ]
     },
     "metadata": {},
     "output_type": "display_data"
    }
   ],
   "source": [
    "fig2 = px.scatter(df_ei[(df_ei['Age group']==age_group_list[0]) & \n",
    "        # (df_ei['Sex']==sex_list[0]) & \n",
    "        (df_ei['Beneficiary detail'] == beneficiary_list[0])], x='Date', y='Claimants', color='Sex', size='Claimants')\n",
    "fig2.show()"
   ]
  },
  {
   "cell_type": "code",
   "execution_count": 139,
   "id": "4f673381-d97f-4a96-9ad3-9135df1437b4",
   "metadata": {},
   "outputs": [
    {
     "data": {
      "text/plain": [
       "['Both sexes', 'Males', 'Females']"
      ]
     },
     "execution_count": 139,
     "metadata": {},
     "output_type": "execute_result"
    }
   ],
   "source": [
    "sex_list"
   ]
  },
  {
   "cell_type": "code",
   "execution_count": 72,
   "id": "17363dc4-623f-4fe8-bc4e-fd930b94c633",
   "metadata": {},
   "outputs": [
    {
     "data": {
      "text/html": [
       "<div>\n",
       "<style scoped>\n",
       "    .dataframe tbody tr th:only-of-type {\n",
       "        vertical-align: middle;\n",
       "    }\n",
       "\n",
       "    .dataframe tbody tr th {\n",
       "        vertical-align: top;\n",
       "    }\n",
       "\n",
       "    .dataframe thead th {\n",
       "        text-align: right;\n",
       "    }\n",
       "</style>\n",
       "<table border=\"1\" class=\"dataframe\">\n",
       "  <thead>\n",
       "    <tr style=\"text-align: right;\">\n",
       "      <th></th>\n",
       "      <th>Date</th>\n",
       "      <th>GEO</th>\n",
       "      <th>DGUID</th>\n",
       "      <th>Sex</th>\n",
       "      <th>Age group</th>\n",
       "      <th>Statistics</th>\n",
       "      <th>UOM</th>\n",
       "      <th>UOM_ID</th>\n",
       "      <th>SCALAR_FACTOR</th>\n",
       "      <th>SCALAR_ID</th>\n",
       "      <th>VECTOR</th>\n",
       "      <th>COORDINATE</th>\n",
       "      <th>VALUE</th>\n",
       "      <th>STATUS</th>\n",
       "      <th>SYMBOL</th>\n",
       "      <th>TERMINATED</th>\n",
       "      <th>DECIMALS</th>\n",
       "    </tr>\n",
       "  </thead>\n",
       "  <tbody>\n",
       "    <tr>\n",
       "      <th>14256</th>\n",
       "      <td>2017-01-01</td>\n",
       "      <td>North Bay, Ontario</td>\n",
       "      <td>2021S0504575</td>\n",
       "      <td>Both sexes</td>\n",
       "      <td>Ages 15 years and over</td>\n",
       "      <td>Count of tax filers with wages, salaries and commissions</td>\n",
       "      <td>Number</td>\n",
       "      <td>223</td>\n",
       "      <td>units</td>\n",
       "      <td>0</td>\n",
       "      <td>v1121101095</td>\n",
       "      <td>100.1.1.1</td>\n",
       "      <td>33540.0</td>\n",
       "      <td>NaN</td>\n",
       "      <td>NaN</td>\n",
       "      <td>NaN</td>\n",
       "      <td>0</td>\n",
       "    </tr>\n",
       "    <tr>\n",
       "      <th>14257</th>\n",
       "      <td>2017-01-01</td>\n",
       "      <td>North Bay, Ontario</td>\n",
       "      <td>2021S0504575</td>\n",
       "      <td>Both sexes</td>\n",
       "      <td>Ages 15 years and over</td>\n",
       "      <td>Percentage of tax filers with wages, salaries and commissions</td>\n",
       "      <td>Percent</td>\n",
       "      <td>239</td>\n",
       "      <td>units</td>\n",
       "      <td>0</td>\n",
       "      <td>v1121101096</td>\n",
       "      <td>100.1.1.2</td>\n",
       "      <td>100.0</td>\n",
       "      <td>NaN</td>\n",
       "      <td>NaN</td>\n",
       "      <td>NaN</td>\n",
       "      <td>1</td>\n",
       "    </tr>\n",
       "    <tr>\n",
       "      <th>14258</th>\n",
       "      <td>2017-01-01</td>\n",
       "      <td>North Bay, Ontario</td>\n",
       "      <td>2021S0504575</td>\n",
       "      <td>Both sexes</td>\n",
       "      <td>Ages 15 years and over</td>\n",
       "      <td>25th percentile of wages, salaries and commissions</td>\n",
       "      <td>Dollars</td>\n",
       "      <td>81</td>\n",
       "      <td>units</td>\n",
       "      <td>0</td>\n",
       "      <td>v1121101097</td>\n",
       "      <td>100.1.1.3</td>\n",
       "      <td>12400.0</td>\n",
       "      <td>NaN</td>\n",
       "      <td>NaN</td>\n",
       "      <td>NaN</td>\n",
       "      <td>0</td>\n",
       "    </tr>\n",
       "    <tr>\n",
       "      <th>14259</th>\n",
       "      <td>2017-01-01</td>\n",
       "      <td>North Bay, Ontario</td>\n",
       "      <td>2021S0504575</td>\n",
       "      <td>Both sexes</td>\n",
       "      <td>Ages 15 years and over</td>\n",
       "      <td>Median wages, salaries and commissions</td>\n",
       "      <td>Dollars</td>\n",
       "      <td>81</td>\n",
       "      <td>units</td>\n",
       "      <td>0</td>\n",
       "      <td>v1121101098</td>\n",
       "      <td>100.1.1.4</td>\n",
       "      <td>34970.0</td>\n",
       "      <td>NaN</td>\n",
       "      <td>NaN</td>\n",
       "      <td>NaN</td>\n",
       "      <td>0</td>\n",
       "    </tr>\n",
       "    <tr>\n",
       "      <th>14260</th>\n",
       "      <td>2017-01-01</td>\n",
       "      <td>North Bay, Ontario</td>\n",
       "      <td>2021S0504575</td>\n",
       "      <td>Both sexes</td>\n",
       "      <td>Ages 15 years and over</td>\n",
       "      <td>75th percentile of wages, salaries and commissions</td>\n",
       "      <td>Dollars</td>\n",
       "      <td>81</td>\n",
       "      <td>units</td>\n",
       "      <td>0</td>\n",
       "      <td>v1121101099</td>\n",
       "      <td>100.1.1.5</td>\n",
       "      <td>61750.0</td>\n",
       "      <td>NaN</td>\n",
       "      <td>NaN</td>\n",
       "      <td>NaN</td>\n",
       "      <td>0</td>\n",
       "    </tr>\n",
       "    <tr>\n",
       "      <th>...</th>\n",
       "      <td>...</td>\n",
       "      <td>...</td>\n",
       "      <td>...</td>\n",
       "      <td>...</td>\n",
       "      <td>...</td>\n",
       "      <td>...</td>\n",
       "      <td>...</td>\n",
       "      <td>...</td>\n",
       "      <td>...</td>\n",
       "      <td>...</td>\n",
       "      <td>...</td>\n",
       "      <td>...</td>\n",
       "      <td>...</td>\n",
       "      <td>...</td>\n",
       "      <td>...</td>\n",
       "      <td>...</td>\n",
       "      <td>...</td>\n",
       "    </tr>\n",
       "    <tr>\n",
       "      <th>148129</th>\n",
       "      <td>2022-01-01</td>\n",
       "      <td>North Bay, Ontario</td>\n",
       "      <td>2021S0504575</td>\n",
       "      <td>Females</td>\n",
       "      <td>Ages 15 years and over</td>\n",
       "      <td>Percentage of tax filers with wages, salaries and commissions</td>\n",
       "      <td>Percent</td>\n",
       "      <td>239</td>\n",
       "      <td>units</td>\n",
       "      <td>0</td>\n",
       "      <td>v1121101192</td>\n",
       "      <td>100.3.1.2</td>\n",
       "      <td>100.0</td>\n",
       "      <td>NaN</td>\n",
       "      <td>NaN</td>\n",
       "      <td>NaN</td>\n",
       "      <td>1</td>\n",
       "    </tr>\n",
       "    <tr>\n",
       "      <th>148130</th>\n",
       "      <td>2022-01-01</td>\n",
       "      <td>North Bay, Ontario</td>\n",
       "      <td>2021S0504575</td>\n",
       "      <td>Females</td>\n",
       "      <td>Ages 15 years and over</td>\n",
       "      <td>25th percentile of wages, salaries and commissions</td>\n",
       "      <td>Dollars</td>\n",
       "      <td>81</td>\n",
       "      <td>units</td>\n",
       "      <td>0</td>\n",
       "      <td>v1121101193</td>\n",
       "      <td>100.3.1.3</td>\n",
       "      <td>14900.0</td>\n",
       "      <td>NaN</td>\n",
       "      <td>NaN</td>\n",
       "      <td>NaN</td>\n",
       "      <td>0</td>\n",
       "    </tr>\n",
       "    <tr>\n",
       "      <th>148131</th>\n",
       "      <td>2022-01-01</td>\n",
       "      <td>North Bay, Ontario</td>\n",
       "      <td>2021S0504575</td>\n",
       "      <td>Females</td>\n",
       "      <td>Ages 15 years and over</td>\n",
       "      <td>Median wages, salaries and commissions</td>\n",
       "      <td>Dollars</td>\n",
       "      <td>81</td>\n",
       "      <td>units</td>\n",
       "      <td>0</td>\n",
       "      <td>v1121101194</td>\n",
       "      <td>100.3.1.4</td>\n",
       "      <td>37720.0</td>\n",
       "      <td>NaN</td>\n",
       "      <td>NaN</td>\n",
       "      <td>NaN</td>\n",
       "      <td>0</td>\n",
       "    </tr>\n",
       "    <tr>\n",
       "      <th>148132</th>\n",
       "      <td>2022-01-01</td>\n",
       "      <td>North Bay, Ontario</td>\n",
       "      <td>2021S0504575</td>\n",
       "      <td>Females</td>\n",
       "      <td>Ages 15 years and over</td>\n",
       "      <td>75th percentile of wages, salaries and commissions</td>\n",
       "      <td>Dollars</td>\n",
       "      <td>81</td>\n",
       "      <td>units</td>\n",
       "      <td>0</td>\n",
       "      <td>v1121101195</td>\n",
       "      <td>100.3.1.5</td>\n",
       "      <td>62770.0</td>\n",
       "      <td>NaN</td>\n",
       "      <td>NaN</td>\n",
       "      <td>NaN</td>\n",
       "      <td>0</td>\n",
       "    </tr>\n",
       "    <tr>\n",
       "      <th>148133</th>\n",
       "      <td>2022-01-01</td>\n",
       "      <td>North Bay, Ontario</td>\n",
       "      <td>2021S0504575</td>\n",
       "      <td>Females</td>\n",
       "      <td>Ages 15 years and over</td>\n",
       "      <td>Median total income</td>\n",
       "      <td>Dollars</td>\n",
       "      <td>81</td>\n",
       "      <td>units</td>\n",
       "      <td>0</td>\n",
       "      <td>v1121101196</td>\n",
       "      <td>100.3.1.6</td>\n",
       "      <td>46320.0</td>\n",
       "      <td>NaN</td>\n",
       "      <td>NaN</td>\n",
       "      <td>NaN</td>\n",
       "      <td>0</td>\n",
       "    </tr>\n",
       "  </tbody>\n",
       "</table>\n",
       "<p>108 rows × 17 columns</p>\n",
       "</div>"
      ],
      "text/plain": [
       "             Date                 GEO         DGUID         Sex  \\\n",
       "14256  2017-01-01  North Bay, Ontario  2021S0504575  Both sexes   \n",
       "14257  2017-01-01  North Bay, Ontario  2021S0504575  Both sexes   \n",
       "14258  2017-01-01  North Bay, Ontario  2021S0504575  Both sexes   \n",
       "14259  2017-01-01  North Bay, Ontario  2021S0504575  Both sexes   \n",
       "14260  2017-01-01  North Bay, Ontario  2021S0504575  Both sexes   \n",
       "...           ...                 ...           ...         ...   \n",
       "148129 2022-01-01  North Bay, Ontario  2021S0504575     Females   \n",
       "148130 2022-01-01  North Bay, Ontario  2021S0504575     Females   \n",
       "148131 2022-01-01  North Bay, Ontario  2021S0504575     Females   \n",
       "148132 2022-01-01  North Bay, Ontario  2021S0504575     Females   \n",
       "148133 2022-01-01  North Bay, Ontario  2021S0504575     Females   \n",
       "\n",
       "                     Age group  \\\n",
       "14256   Ages 15 years and over   \n",
       "14257   Ages 15 years and over   \n",
       "14258   Ages 15 years and over   \n",
       "14259   Ages 15 years and over   \n",
       "14260   Ages 15 years and over   \n",
       "...                        ...   \n",
       "148129  Ages 15 years and over   \n",
       "148130  Ages 15 years and over   \n",
       "148131  Ages 15 years and over   \n",
       "148132  Ages 15 years and over   \n",
       "148133  Ages 15 years and over   \n",
       "\n",
       "                                                           Statistics  \\\n",
       "14256        Count of tax filers with wages, salaries and commissions   \n",
       "14257   Percentage of tax filers with wages, salaries and commissions   \n",
       "14258              25th percentile of wages, salaries and commissions   \n",
       "14259                          Median wages, salaries and commissions   \n",
       "14260              75th percentile of wages, salaries and commissions   \n",
       "...                                                               ...   \n",
       "148129  Percentage of tax filers with wages, salaries and commissions   \n",
       "148130             25th percentile of wages, salaries and commissions   \n",
       "148131                         Median wages, salaries and commissions   \n",
       "148132             75th percentile of wages, salaries and commissions   \n",
       "148133                                            Median total income   \n",
       "\n",
       "            UOM UOM_ID SCALAR_FACTOR SCALAR_ID       VECTOR COORDINATE  \\\n",
       "14256    Number    223         units         0  v1121101095  100.1.1.1   \n",
       "14257   Percent    239         units         0  v1121101096  100.1.1.2   \n",
       "14258   Dollars     81         units         0  v1121101097  100.1.1.3   \n",
       "14259   Dollars     81         units         0  v1121101098  100.1.1.4   \n",
       "14260   Dollars     81         units         0  v1121101099  100.1.1.5   \n",
       "...         ...    ...           ...       ...          ...        ...   \n",
       "148129  Percent    239         units         0  v1121101192  100.3.1.2   \n",
       "148130  Dollars     81         units         0  v1121101193  100.3.1.3   \n",
       "148131  Dollars     81         units         0  v1121101194  100.3.1.4   \n",
       "148132  Dollars     81         units         0  v1121101195  100.3.1.5   \n",
       "148133  Dollars     81         units         0  v1121101196  100.3.1.6   \n",
       "\n",
       "          VALUE STATUS SYMBOL TERMINATED DECIMALS  \n",
       "14256   33540.0    NaN    NaN        NaN        0  \n",
       "14257     100.0    NaN    NaN        NaN        1  \n",
       "14258   12400.0    NaN    NaN        NaN        0  \n",
       "14259   34970.0    NaN    NaN        NaN        0  \n",
       "14260   61750.0    NaN    NaN        NaN        0  \n",
       "...         ...    ...    ...        ...      ...  \n",
       "148129    100.0    NaN    NaN        NaN        1  \n",
       "148130  14900.0    NaN    NaN        NaN        0  \n",
       "148131  37720.0    NaN    NaN        NaN        0  \n",
       "148132  62770.0    NaN    NaN        NaN        0  \n",
       "148133  46320.0    NaN    NaN        NaN        0  \n",
       "\n",
       "[108 rows x 17 columns]"
      ]
     },
     "execution_count": 72,
     "metadata": {},
     "output_type": "execute_result"
    }
   ],
   "source": [
    "df_ws"
   ]
  },
  {
   "cell_type": "code",
   "execution_count": 73,
   "id": "00131a08-f833-41ce-a9fc-283c33a9f4b1",
   "metadata": {},
   "outputs": [
    {
     "data": {
      "application/vnd.plotly.v1+json": {
       "config": {
        "plotlyServerURL": "https://plot.ly"
       },
       "data": [
        {
         "hovertemplate": "Sex=Both sexes<br>Date=%{x}<br>VALUE=%{y}<extra></extra>",
         "legendgroup": "Both sexes",
         "marker": {
          "color": "#636efa",
          "symbol": "circle"
         },
         "mode": "markers",
         "name": "Both sexes",
         "orientation": "v",
         "showlegend": true,
         "type": "scatter",
         "x": [
          "2017-01-01T00:00:00",
          "2018-01-01T00:00:00",
          "2019-01-01T00:00:00",
          "2020-01-01T00:00:00",
          "2021-01-01T00:00:00",
          "2022-01-01T00:00:00"
         ],
         "xaxis": "x",
         "y": [
          44760,
          46140,
          46980,
          50740,
          51290,
          51810
         ],
         "yaxis": "y"
        },
        {
         "hovertemplate": "<b>OLS trendline</b><br>VALUE = 4.93077e-05 * Date + -28403.5<br>R<sup>2</sup>=0.930340<br><br>Sex=Both sexes<br>Date=%{x}<br>VALUE=%{y} <b>(trend)</b><extra></extra>",
         "legendgroup": "Both sexes",
         "marker": {
          "color": "#636efa",
          "symbol": "circle"
         },
         "mode": "lines",
         "name": "Both sexes",
         "showlegend": false,
         "type": "scatter",
         "x": [
          "2017-01-01T00:00:00",
          "2018-01-01T00:00:00",
          "2019-01-01T00:00:00",
          "2020-01-01T00:00:00",
          "2021-01-01T00:00:00",
          "2022-01-01T00:00:00"
         ],
         "xaxis": "x",
         "y": [
          44731.15740560586,
          46286.12641815342,
          47841.09543070098,
          49396.06444324854,
          50955.29364487156,
          52510.26265741912
         ],
         "yaxis": "y"
        },
        {
         "hovertemplate": "Sex=Males<br>Date=%{x}<br>VALUE=%{y}<extra></extra>",
         "legendgroup": "Males",
         "marker": {
          "color": "#EF553B",
          "symbol": "circle"
         },
         "mode": "markers",
         "name": "Males",
         "orientation": "v",
         "showlegend": true,
         "type": "scatter",
         "x": [
          "2017-01-01T00:00:00",
          "2018-01-01T00:00:00",
          "2019-01-01T00:00:00",
          "2020-01-01T00:00:00",
          "2021-01-01T00:00:00",
          "2022-01-01T00:00:00"
         ],
         "xaxis": "x",
         "y": [
          50880,
          52490,
          53220,
          56350,
          57570,
          58220
         ],
         "yaxis": "y"
        },
        {
         "hovertemplate": "<b>OLS trendline</b><br>VALUE = 4.98615e-05 * Date + -23100.1<br>R<sup>2</sup>=0.963393<br><br>Sex=Males<br>Date=%{x}<br>VALUE=%{y} <b>(trend)</b><extra></extra>",
         "legendgroup": "Males",
         "marker": {
          "color": "#EF553B",
          "symbol": "circle"
         },
         "mode": "lines",
         "name": "Males",
         "showlegend": false,
         "type": "scatter",
         "x": [
          "2017-01-01T00:00:00",
          "2018-01-01T00:00:00",
          "2019-01-01T00:00:00",
          "2020-01-01T00:00:00",
          "2021-01-01T00:00:00",
          "2022-01-01T00:00:00"
         ],
         "xaxis": "x",
         "y": [
          50855.81977292414,
          52428.25079306221,
          54000.681813200295,
          55573.11283333838,
          57149.85188366861,
          58722.2829038067
         ],
         "yaxis": "y"
        },
        {
         "hovertemplate": "Sex=Females<br>Date=%{x}<br>VALUE=%{y}<extra></extra>",
         "legendgroup": "Females",
         "marker": {
          "color": "#00cc96",
          "symbol": "circle"
         },
         "mode": "markers",
         "name": "Females",
         "orientation": "v",
         "showlegend": true,
         "type": "scatter",
         "x": [
          "2017-01-01T00:00:00",
          "2018-01-01T00:00:00",
          "2019-01-01T00:00:00",
          "2020-01-01T00:00:00",
          "2021-01-01T00:00:00",
          "2022-01-01T00:00:00"
         ],
         "xaxis": "x",
         "y": [
          38980,
          40460,
          41450,
          45650,
          46100,
          46320
         ],
         "yaxis": "y"
        },
        {
         "hovertemplate": "<b>OLS trendline</b><br>VALUE = 5.23493e-05 * Date + -38614.7<br>R<sup>2</sup>=0.909340<br><br>Sex=Females<br>Date=%{x}<br>VALUE=%{y} <b>(trend)</b><extra></extra>",
         "legendgroup": "Females",
         "marker": {
          "color": "#00cc96",
          "symbol": "circle"
         },
         "mode": "lines",
         "name": "Females",
         "showlegend": false,
         "type": "scatter",
         "x": [
          "2017-01-01T00:00:00",
          "2018-01-01T00:00:00",
          "2019-01-01T00:00:00",
          "2020-01-01T00:00:00",
          "2021-01-01T00:00:00",
          "2022-01-01T00:00:00"
         ],
         "xaxis": "x",
         "y": [
          39031.276341904915,
          40682.162741617954,
          42333.04914133101,
          43983.93554104405,
          45639.344917194656,
          47290.23131690771
         ],
         "yaxis": "y"
        }
       ],
       "layout": {
        "autosize": true,
        "legend": {
         "title": {
          "text": "Sex"
         },
         "tracegroupgap": 0
        },
        "margin": {
         "t": 60
        },
        "template": {
         "data": {
          "bar": [
           {
            "error_x": {
             "color": "#2a3f5f"
            },
            "error_y": {
             "color": "#2a3f5f"
            },
            "marker": {
             "line": {
              "color": "#E5ECF6",
              "width": 0.5
             },
             "pattern": {
              "fillmode": "overlay",
              "size": 10,
              "solidity": 0.2
             }
            },
            "type": "bar"
           }
          ],
          "barpolar": [
           {
            "marker": {
             "line": {
              "color": "#E5ECF6",
              "width": 0.5
             },
             "pattern": {
              "fillmode": "overlay",
              "size": 10,
              "solidity": 0.2
             }
            },
            "type": "barpolar"
           }
          ],
          "carpet": [
           {
            "aaxis": {
             "endlinecolor": "#2a3f5f",
             "gridcolor": "white",
             "linecolor": "white",
             "minorgridcolor": "white",
             "startlinecolor": "#2a3f5f"
            },
            "baxis": {
             "endlinecolor": "#2a3f5f",
             "gridcolor": "white",
             "linecolor": "white",
             "minorgridcolor": "white",
             "startlinecolor": "#2a3f5f"
            },
            "type": "carpet"
           }
          ],
          "choropleth": [
           {
            "colorbar": {
             "outlinewidth": 0,
             "ticks": ""
            },
            "type": "choropleth"
           }
          ],
          "contour": [
           {
            "colorbar": {
             "outlinewidth": 0,
             "ticks": ""
            },
            "colorscale": [
             [
              0,
              "#0d0887"
             ],
             [
              0.1111111111111111,
              "#46039f"
             ],
             [
              0.2222222222222222,
              "#7201a8"
             ],
             [
              0.3333333333333333,
              "#9c179e"
             ],
             [
              0.4444444444444444,
              "#bd3786"
             ],
             [
              0.5555555555555556,
              "#d8576b"
             ],
             [
              0.6666666666666666,
              "#ed7953"
             ],
             [
              0.7777777777777778,
              "#fb9f3a"
             ],
             [
              0.8888888888888888,
              "#fdca26"
             ],
             [
              1,
              "#f0f921"
             ]
            ],
            "type": "contour"
           }
          ],
          "contourcarpet": [
           {
            "colorbar": {
             "outlinewidth": 0,
             "ticks": ""
            },
            "type": "contourcarpet"
           }
          ],
          "heatmap": [
           {
            "colorbar": {
             "outlinewidth": 0,
             "ticks": ""
            },
            "colorscale": [
             [
              0,
              "#0d0887"
             ],
             [
              0.1111111111111111,
              "#46039f"
             ],
             [
              0.2222222222222222,
              "#7201a8"
             ],
             [
              0.3333333333333333,
              "#9c179e"
             ],
             [
              0.4444444444444444,
              "#bd3786"
             ],
             [
              0.5555555555555556,
              "#d8576b"
             ],
             [
              0.6666666666666666,
              "#ed7953"
             ],
             [
              0.7777777777777778,
              "#fb9f3a"
             ],
             [
              0.8888888888888888,
              "#fdca26"
             ],
             [
              1,
              "#f0f921"
             ]
            ],
            "type": "heatmap"
           }
          ],
          "heatmapgl": [
           {
            "colorbar": {
             "outlinewidth": 0,
             "ticks": ""
            },
            "colorscale": [
             [
              0,
              "#0d0887"
             ],
             [
              0.1111111111111111,
              "#46039f"
             ],
             [
              0.2222222222222222,
              "#7201a8"
             ],
             [
              0.3333333333333333,
              "#9c179e"
             ],
             [
              0.4444444444444444,
              "#bd3786"
             ],
             [
              0.5555555555555556,
              "#d8576b"
             ],
             [
              0.6666666666666666,
              "#ed7953"
             ],
             [
              0.7777777777777778,
              "#fb9f3a"
             ],
             [
              0.8888888888888888,
              "#fdca26"
             ],
             [
              1,
              "#f0f921"
             ]
            ],
            "type": "heatmapgl"
           }
          ],
          "histogram": [
           {
            "marker": {
             "pattern": {
              "fillmode": "overlay",
              "size": 10,
              "solidity": 0.2
             }
            },
            "type": "histogram"
           }
          ],
          "histogram2d": [
           {
            "colorbar": {
             "outlinewidth": 0,
             "ticks": ""
            },
            "colorscale": [
             [
              0,
              "#0d0887"
             ],
             [
              0.1111111111111111,
              "#46039f"
             ],
             [
              0.2222222222222222,
              "#7201a8"
             ],
             [
              0.3333333333333333,
              "#9c179e"
             ],
             [
              0.4444444444444444,
              "#bd3786"
             ],
             [
              0.5555555555555556,
              "#d8576b"
             ],
             [
              0.6666666666666666,
              "#ed7953"
             ],
             [
              0.7777777777777778,
              "#fb9f3a"
             ],
             [
              0.8888888888888888,
              "#fdca26"
             ],
             [
              1,
              "#f0f921"
             ]
            ],
            "type": "histogram2d"
           }
          ],
          "histogram2dcontour": [
           {
            "colorbar": {
             "outlinewidth": 0,
             "ticks": ""
            },
            "colorscale": [
             [
              0,
              "#0d0887"
             ],
             [
              0.1111111111111111,
              "#46039f"
             ],
             [
              0.2222222222222222,
              "#7201a8"
             ],
             [
              0.3333333333333333,
              "#9c179e"
             ],
             [
              0.4444444444444444,
              "#bd3786"
             ],
             [
              0.5555555555555556,
              "#d8576b"
             ],
             [
              0.6666666666666666,
              "#ed7953"
             ],
             [
              0.7777777777777778,
              "#fb9f3a"
             ],
             [
              0.8888888888888888,
              "#fdca26"
             ],
             [
              1,
              "#f0f921"
             ]
            ],
            "type": "histogram2dcontour"
           }
          ],
          "mesh3d": [
           {
            "colorbar": {
             "outlinewidth": 0,
             "ticks": ""
            },
            "type": "mesh3d"
           }
          ],
          "parcoords": [
           {
            "line": {
             "colorbar": {
              "outlinewidth": 0,
              "ticks": ""
             }
            },
            "type": "parcoords"
           }
          ],
          "pie": [
           {
            "automargin": true,
            "type": "pie"
           }
          ],
          "scatter": [
           {
            "fillpattern": {
             "fillmode": "overlay",
             "size": 10,
             "solidity": 0.2
            },
            "type": "scatter"
           }
          ],
          "scatter3d": [
           {
            "line": {
             "colorbar": {
              "outlinewidth": 0,
              "ticks": ""
             }
            },
            "marker": {
             "colorbar": {
              "outlinewidth": 0,
              "ticks": ""
             }
            },
            "type": "scatter3d"
           }
          ],
          "scattercarpet": [
           {
            "marker": {
             "colorbar": {
              "outlinewidth": 0,
              "ticks": ""
             }
            },
            "type": "scattercarpet"
           }
          ],
          "scattergeo": [
           {
            "marker": {
             "colorbar": {
              "outlinewidth": 0,
              "ticks": ""
             }
            },
            "type": "scattergeo"
           }
          ],
          "scattergl": [
           {
            "marker": {
             "colorbar": {
              "outlinewidth": 0,
              "ticks": ""
             }
            },
            "type": "scattergl"
           }
          ],
          "scattermapbox": [
           {
            "marker": {
             "colorbar": {
              "outlinewidth": 0,
              "ticks": ""
             }
            },
            "type": "scattermapbox"
           }
          ],
          "scatterpolar": [
           {
            "marker": {
             "colorbar": {
              "outlinewidth": 0,
              "ticks": ""
             }
            },
            "type": "scatterpolar"
           }
          ],
          "scatterpolargl": [
           {
            "marker": {
             "colorbar": {
              "outlinewidth": 0,
              "ticks": ""
             }
            },
            "type": "scatterpolargl"
           }
          ],
          "scatterternary": [
           {
            "marker": {
             "colorbar": {
              "outlinewidth": 0,
              "ticks": ""
             }
            },
            "type": "scatterternary"
           }
          ],
          "surface": [
           {
            "colorbar": {
             "outlinewidth": 0,
             "ticks": ""
            },
            "colorscale": [
             [
              0,
              "#0d0887"
             ],
             [
              0.1111111111111111,
              "#46039f"
             ],
             [
              0.2222222222222222,
              "#7201a8"
             ],
             [
              0.3333333333333333,
              "#9c179e"
             ],
             [
              0.4444444444444444,
              "#bd3786"
             ],
             [
              0.5555555555555556,
              "#d8576b"
             ],
             [
              0.6666666666666666,
              "#ed7953"
             ],
             [
              0.7777777777777778,
              "#fb9f3a"
             ],
             [
              0.8888888888888888,
              "#fdca26"
             ],
             [
              1,
              "#f0f921"
             ]
            ],
            "type": "surface"
           }
          ],
          "table": [
           {
            "cells": {
             "fill": {
              "color": "#EBF0F8"
             },
             "line": {
              "color": "white"
             }
            },
            "header": {
             "fill": {
              "color": "#C8D4E3"
             },
             "line": {
              "color": "white"
             }
            },
            "type": "table"
           }
          ]
         },
         "layout": {
          "annotationdefaults": {
           "arrowcolor": "#2a3f5f",
           "arrowhead": 0,
           "arrowwidth": 1
          },
          "autotypenumbers": "strict",
          "coloraxis": {
           "colorbar": {
            "outlinewidth": 0,
            "ticks": ""
           }
          },
          "colorscale": {
           "diverging": [
            [
             0,
             "#8e0152"
            ],
            [
             0.1,
             "#c51b7d"
            ],
            [
             0.2,
             "#de77ae"
            ],
            [
             0.3,
             "#f1b6da"
            ],
            [
             0.4,
             "#fde0ef"
            ],
            [
             0.5,
             "#f7f7f7"
            ],
            [
             0.6,
             "#e6f5d0"
            ],
            [
             0.7,
             "#b8e186"
            ],
            [
             0.8,
             "#7fbc41"
            ],
            [
             0.9,
             "#4d9221"
            ],
            [
             1,
             "#276419"
            ]
           ],
           "sequential": [
            [
             0,
             "#0d0887"
            ],
            [
             0.1111111111111111,
             "#46039f"
            ],
            [
             0.2222222222222222,
             "#7201a8"
            ],
            [
             0.3333333333333333,
             "#9c179e"
            ],
            [
             0.4444444444444444,
             "#bd3786"
            ],
            [
             0.5555555555555556,
             "#d8576b"
            ],
            [
             0.6666666666666666,
             "#ed7953"
            ],
            [
             0.7777777777777778,
             "#fb9f3a"
            ],
            [
             0.8888888888888888,
             "#fdca26"
            ],
            [
             1,
             "#f0f921"
            ]
           ],
           "sequentialminus": [
            [
             0,
             "#0d0887"
            ],
            [
             0.1111111111111111,
             "#46039f"
            ],
            [
             0.2222222222222222,
             "#7201a8"
            ],
            [
             0.3333333333333333,
             "#9c179e"
            ],
            [
             0.4444444444444444,
             "#bd3786"
            ],
            [
             0.5555555555555556,
             "#d8576b"
            ],
            [
             0.6666666666666666,
             "#ed7953"
            ],
            [
             0.7777777777777778,
             "#fb9f3a"
            ],
            [
             0.8888888888888888,
             "#fdca26"
            ],
            [
             1,
             "#f0f921"
            ]
           ]
          },
          "colorway": [
           "#636efa",
           "#EF553B",
           "#00cc96",
           "#ab63fa",
           "#FFA15A",
           "#19d3f3",
           "#FF6692",
           "#B6E880",
           "#FF97FF",
           "#FECB52"
          ],
          "font": {
           "color": "#2a3f5f"
          },
          "geo": {
           "bgcolor": "white",
           "lakecolor": "white",
           "landcolor": "#E5ECF6",
           "showlakes": true,
           "showland": true,
           "subunitcolor": "white"
          },
          "hoverlabel": {
           "align": "left"
          },
          "hovermode": "closest",
          "mapbox": {
           "style": "light"
          },
          "paper_bgcolor": "white",
          "plot_bgcolor": "#E5ECF6",
          "polar": {
           "angularaxis": {
            "gridcolor": "white",
            "linecolor": "white",
            "ticks": ""
           },
           "bgcolor": "#E5ECF6",
           "radialaxis": {
            "gridcolor": "white",
            "linecolor": "white",
            "ticks": ""
           }
          },
          "scene": {
           "xaxis": {
            "backgroundcolor": "#E5ECF6",
            "gridcolor": "white",
            "gridwidth": 2,
            "linecolor": "white",
            "showbackground": true,
            "ticks": "",
            "zerolinecolor": "white"
           },
           "yaxis": {
            "backgroundcolor": "#E5ECF6",
            "gridcolor": "white",
            "gridwidth": 2,
            "linecolor": "white",
            "showbackground": true,
            "ticks": "",
            "zerolinecolor": "white"
           },
           "zaxis": {
            "backgroundcolor": "#E5ECF6",
            "gridcolor": "white",
            "gridwidth": 2,
            "linecolor": "white",
            "showbackground": true,
            "ticks": "",
            "zerolinecolor": "white"
           }
          },
          "shapedefaults": {
           "line": {
            "color": "#2a3f5f"
           }
          },
          "ternary": {
           "aaxis": {
            "gridcolor": "white",
            "linecolor": "white",
            "ticks": ""
           },
           "baxis": {
            "gridcolor": "white",
            "linecolor": "white",
            "ticks": ""
           },
           "bgcolor": "#E5ECF6",
           "caxis": {
            "gridcolor": "white",
            "linecolor": "white",
            "ticks": ""
           }
          },
          "title": {
           "x": 0.05
          },
          "xaxis": {
           "automargin": true,
           "gridcolor": "white",
           "linecolor": "white",
           "ticks": "",
           "title": {
            "standoff": 15
           },
           "zerolinecolor": "white",
           "zerolinewidth": 2
          },
          "yaxis": {
           "automargin": true,
           "gridcolor": "white",
           "linecolor": "white",
           "ticks": "",
           "title": {
            "standoff": 15
           },
           "zerolinecolor": "white",
           "zerolinewidth": 2
          }
         }
        },
        "xaxis": {
         "anchor": "y",
         "autorange": true,
         "domain": [
          0,
          1
         ],
         "range": [
          "2016-09-15 11:20:06.3325",
          "2022-04-18 12:39:53.6675"
         ],
         "title": {
          "text": "Date"
         },
         "type": "date"
        },
        "yaxis": {
         "anchor": "x",
         "autorange": true,
         "domain": [
          0,
          1
         ],
         "range": [
          37480.90773317298,
          59840.25001805058
         ],
         "title": {
          "text": "VALUE"
         },
         "type": "linear"
        }
       }
      },
      "image/png": "[encoded data removed]",
      "text/html": [
       "<div>                            <div id=\"33d2919d-d60c-4f8d-9f27-00ab9cf18862\" class=\"plotly-graph-div\" style=\"height:525px; width:100%;\"></div>            <script type=\"text/javascript\">                require([\"plotly\"], function(Plotly) {                    window.PLOTLYENV=window.PLOTLYENV || {};                                    if (document.getElementById(\"33d2919d-d60c-4f8d-9f27-00ab9cf18862\")) {                    Plotly.newPlot(                        \"33d2919d-d60c-4f8d-9f27-00ab9cf18862\",                        [{\"hovertemplate\":\"Sex=Both sexes\\u003cbr\\u003eDate=%{x}\\u003cbr\\u003eVALUE=%{y}\\u003cextra\\u003e\\u003c\\u002fextra\\u003e\",\"legendgroup\":\"Both sexes\",\"marker\":{\"color\":\"#636efa\",\"symbol\":\"circle\"},\"mode\":\"markers\",\"name\":\"Both sexes\",\"orientation\":\"v\",\"showlegend\":true,\"x\":[\"2017-01-01T00:00:00\",\"2018-01-01T00:00:00\",\"2019-01-01T00:00:00\",\"2020-01-01T00:00:00\",\"2021-01-01T00:00:00\",\"2022-01-01T00:00:00\"],\"xaxis\":\"x\",\"y\":[44760.0,46140.0,46980.0,50740.0,51290.0,51810.0],\"yaxis\":\"y\",\"type\":\"scatter\"},{\"hovertemplate\":\"\\u003cb\\u003eOLS trendline\\u003c\\u002fb\\u003e\\u003cbr\\u003eVALUE = 4.93077e-05 * Date + -28403.5\\u003cbr\\u003eR\\u003csup\\u003e2\\u003c\\u002fsup\\u003e=0.930340\\u003cbr\\u003e\\u003cbr\\u003eSex=Both sexes\\u003cbr\\u003eDate=%{x}\\u003cbr\\u003eVALUE=%{y} \\u003cb\\u003e(trend)\\u003c\\u002fb\\u003e\\u003cextra\\u003e\\u003c\\u002fextra\\u003e\",\"legendgroup\":\"Both sexes\",\"marker\":{\"color\":\"#636efa\",\"symbol\":\"circle\"},\"mode\":\"lines\",\"name\":\"Both sexes\",\"showlegend\":false,\"x\":[\"2017-01-01T00:00:00\",\"2018-01-01T00:00:00\",\"2019-01-01T00:00:00\",\"2020-01-01T00:00:00\",\"2021-01-01T00:00:00\",\"2022-01-01T00:00:00\"],\"xaxis\":\"x\",\"y\":[44731.15740560586,46286.12641815342,47841.09543070098,49396.06444324854,50955.29364487156,52510.26265741912],\"yaxis\":\"y\",\"type\":\"scatter\"},{\"hovertemplate\":\"Sex=Males\\u003cbr\\u003eDate=%{x}\\u003cbr\\u003eVALUE=%{y}\\u003cextra\\u003e\\u003c\\u002fextra\\u003e\",\"legendgroup\":\"Males\",\"marker\":{\"color\":\"#EF553B\",\"symbol\":\"circle\"},\"mode\":\"markers\",\"name\":\"Males\",\"orientation\":\"v\",\"showlegend\":true,\"x\":[\"2017-01-01T00:00:00\",\"2018-01-01T00:00:00\",\"2019-01-01T00:00:00\",\"2020-01-01T00:00:00\",\"2021-01-01T00:00:00\",\"2022-01-01T00:00:00\"],\"xaxis\":\"x\",\"y\":[50880.0,52490.0,53220.0,56350.0,57570.0,58220.0],\"yaxis\":\"y\",\"type\":\"scatter\"},{\"hovertemplate\":\"\\u003cb\\u003eOLS trendline\\u003c\\u002fb\\u003e\\u003cbr\\u003eVALUE = 4.98615e-05 * Date + -23100.1\\u003cbr\\u003eR\\u003csup\\u003e2\\u003c\\u002fsup\\u003e=0.963393\\u003cbr\\u003e\\u003cbr\\u003eSex=Males\\u003cbr\\u003eDate=%{x}\\u003cbr\\u003eVALUE=%{y} \\u003cb\\u003e(trend)\\u003c\\u002fb\\u003e\\u003cextra\\u003e\\u003c\\u002fextra\\u003e\",\"legendgroup\":\"Males\",\"marker\":{\"color\":\"#EF553B\",\"symbol\":\"circle\"},\"mode\":\"lines\",\"name\":\"Males\",\"showlegend\":false,\"x\":[\"2017-01-01T00:00:00\",\"2018-01-01T00:00:00\",\"2019-01-01T00:00:00\",\"2020-01-01T00:00:00\",\"2021-01-01T00:00:00\",\"2022-01-01T00:00:00\"],\"xaxis\":\"x\",\"y\":[50855.81977292414,52428.25079306221,54000.681813200295,55573.11283333838,57149.85188366861,58722.2829038067],\"yaxis\":\"y\",\"type\":\"scatter\"},{\"hovertemplate\":\"Sex=Females\\u003cbr\\u003eDate=%{x}\\u003cbr\\u003eVALUE=%{y}\\u003cextra\\u003e\\u003c\\u002fextra\\u003e\",\"legendgroup\":\"Females\",\"marker\":{\"color\":\"#00cc96\",\"symbol\":\"circle\"},\"mode\":\"markers\",\"name\":\"Females\",\"orientation\":\"v\",\"showlegend\":true,\"x\":[\"2017-01-01T00:00:00\",\"2018-01-01T00:00:00\",\"2019-01-01T00:00:00\",\"2020-01-01T00:00:00\",\"2021-01-01T00:00:00\",\"2022-01-01T00:00:00\"],\"xaxis\":\"x\",\"y\":[38980.0,40460.0,41450.0,45650.0,46100.0,46320.0],\"yaxis\":\"y\",\"type\":\"scatter\"},{\"hovertemplate\":\"\\u003cb\\u003eOLS trendline\\u003c\\u002fb\\u003e\\u003cbr\\u003eVALUE = 5.23493e-05 * Date + -38614.7\\u003cbr\\u003eR\\u003csup\\u003e2\\u003c\\u002fsup\\u003e=0.909340\\u003cbr\\u003e\\u003cbr\\u003eSex=Females\\u003cbr\\u003eDate=%{x}\\u003cbr\\u003eVALUE=%{y} \\u003cb\\u003e(trend)\\u003c\\u002fb\\u003e\\u003cextra\\u003e\\u003c\\u002fextra\\u003e\",\"legendgroup\":\"Females\",\"marker\":{\"color\":\"#00cc96\",\"symbol\":\"circle\"},\"mode\":\"lines\",\"name\":\"Females\",\"showlegend\":false,\"x\":[\"2017-01-01T00:00:00\",\"2018-01-01T00:00:00\",\"2019-01-01T00:00:00\",\"2020-01-01T00:00:00\",\"2021-01-01T00:00:00\",\"2022-01-01T00:00:00\"],\"xaxis\":\"x\",\"y\":[39031.276341904915,40682.162741617954,42333.04914133101,43983.93554104405,45639.344917194656,47290.23131690771],\"yaxis\":\"y\",\"type\":\"scatter\"}],                        {\"template\":{\"data\":{\"histogram2dcontour\":[{\"type\":\"histogram2dcontour\",\"colorbar\":{\"outlinewidth\":0,\"ticks\":\"\"},\"colorscale\":[[0.0,\"#0d0887\"],[0.1111111111111111,\"#46039f\"],[0.2222222222222222,\"#7201a8\"],[0.3333333333333333,\"#9c179e\"],[0.4444444444444444,\"#bd3786\"],[0.5555555555555556,\"#d8576b\"],[0.6666666666666666,\"#ed7953\"],[0.7777777777777778,\"#fb9f3a\"],[0.8888888888888888,\"#fdca26\"],[1.0,\"#f0f921\"]]}],\"choropleth\":[{\"type\":\"choropleth\",\"colorbar\":{\"outlinewidth\":0,\"ticks\":\"\"}}],\"histogram2d\":[{\"type\":\"histogram2d\",\"colorbar\":{\"outlinewidth\":0,\"ticks\":\"\"},\"colorscale\":[[0.0,\"#0d0887\"],[0.1111111111111111,\"#46039f\"],[0.2222222222222222,\"#7201a8\"],[0.3333333333333333,\"#9c179e\"],[0.4444444444444444,\"#bd3786\"],[0.5555555555555556,\"#d8576b\"],[0.6666666666666666,\"#ed7953\"],[0.7777777777777778,\"#fb9f3a\"],[0.8888888888888888,\"#fdca26\"],[1.0,\"#f0f921\"]]}],\"heatmap\":[{\"type\":\"heatmap\",\"colorbar\":{\"outlinewidth\":0,\"ticks\":\"\"},\"colorscale\":[[0.0,\"#0d0887\"],[0.1111111111111111,\"#46039f\"],[0.2222222222222222,\"#7201a8\"],[0.3333333333333333,\"#9c179e\"],[0.4444444444444444,\"#bd3786\"],[0.5555555555555556,\"#d8576b\"],[0.6666666666666666,\"#ed7953\"],[0.7777777777777778,\"#fb9f3a\"],[0.8888888888888888,\"#fdca26\"],[1.0,\"#f0f921\"]]}],\"heatmapgl\":[{\"type\":\"heatmapgl\",\"colorbar\":{\"outlinewidth\":0,\"ticks\":\"\"},\"colorscale\":[[0.0,\"#0d0887\"],[0.1111111111111111,\"#46039f\"],[0.2222222222222222,\"#7201a8\"],[0.3333333333333333,\"#9c179e\"],[0.4444444444444444,\"#bd3786\"],[0.5555555555555556,\"#d8576b\"],[0.6666666666666666,\"#ed7953\"],[0.7777777777777778,\"#fb9f3a\"],[0.8888888888888888,\"#fdca26\"],[1.0,\"#f0f921\"]]}],\"contourcarpet\":[{\"type\":\"contourcarpet\",\"colorbar\":{\"outlinewidth\":0,\"ticks\":\"\"}}],\"contour\":[{\"type\":\"contour\",\"colorbar\":{\"outlinewidth\":0,\"ticks\":\"\"},\"colorscale\":[[0.0,\"#0d0887\"],[0.1111111111111111,\"#46039f\"],[0.2222222222222222,\"#7201a8\"],[0.3333333333333333,\"#9c179e\"],[0.4444444444444444,\"#bd3786\"],[0.5555555555555556,\"#d8576b\"],[0.6666666666666666,\"#ed7953\"],[0.7777777777777778,\"#fb9f3a\"],[0.8888888888888888,\"#fdca26\"],[1.0,\"#f0f921\"]]}],\"surface\":[{\"type\":\"surface\",\"colorbar\":{\"outlinewidth\":0,\"ticks\":\"\"},\"colorscale\":[[0.0,\"#0d0887\"],[0.1111111111111111,\"#46039f\"],[0.2222222222222222,\"#7201a8\"],[0.3333333333333333,\"#9c179e\"],[0.4444444444444444,\"#bd3786\"],[0.5555555555555556,\"#d8576b\"],[0.6666666666666666,\"#ed7953\"],[0.7777777777777778,\"#fb9f3a\"],[0.8888888888888888,\"#fdca26\"],[1.0,\"#f0f921\"]]}],\"mesh3d\":[{\"type\":\"mesh3d\",\"colorbar\":{\"outlinewidth\":0,\"ticks\":\"\"}}],\"scatter\":[{\"fillpattern\":{\"fillmode\":\"overlay\",\"size\":10,\"solidity\":0.2},\"type\":\"scatter\"}],\"parcoords\":[{\"type\":\"parcoords\",\"line\":{\"colorbar\":{\"outlinewidth\":0,\"ticks\":\"\"}}}],\"scatterpolargl\":[{\"type\":\"scatterpolargl\",\"marker\":{\"colorbar\":{\"outlinewidth\":0,\"ticks\":\"\"}}}],\"bar\":[{\"error_x\":{\"color\":\"#2a3f5f\"},\"error_y\":{\"color\":\"#2a3f5f\"},\"marker\":{\"line\":{\"color\":\"#E5ECF6\",\"width\":0.5},\"pattern\":{\"fillmode\":\"overlay\",\"size\":10,\"solidity\":0.2}},\"type\":\"bar\"}],\"scattergeo\":[{\"type\":\"scattergeo\",\"marker\":{\"colorbar\":{\"outlinewidth\":0,\"ticks\":\"\"}}}],\"scatterpolar\":[{\"type\":\"scatterpolar\",\"marker\":{\"colorbar\":{\"outlinewidth\":0,\"ticks\":\"\"}}}],\"histogram\":[{\"marker\":{\"pattern\":{\"fillmode\":\"overlay\",\"size\":10,\"solidity\":0.2}},\"type\":\"histogram\"}],\"scattergl\":[{\"type\":\"scattergl\",\"marker\":{\"colorbar\":{\"outlinewidth\":0,\"ticks\":\"\"}}}],\"scatter3d\":[{\"type\":\"scatter3d\",\"line\":{\"colorbar\":{\"outlinewidth\":0,\"ticks\":\"\"}},\"marker\":{\"colorbar\":{\"outlinewidth\":0,\"ticks\":\"\"}}}],\"scattermapbox\":[{\"type\":\"scattermapbox\",\"marker\":{\"colorbar\":{\"outlinewidth\":0,\"ticks\":\"\"}}}],\"scatterternary\":[{\"type\":\"scatterternary\",\"marker\":{\"colorbar\":{\"outlinewidth\":0,\"ticks\":\"\"}}}],\"scattercarpet\":[{\"type\":\"scattercarpet\",\"marker\":{\"colorbar\":{\"outlinewidth\":0,\"ticks\":\"\"}}}],\"carpet\":[{\"aaxis\":{\"endlinecolor\":\"#2a3f5f\",\"gridcolor\":\"white\",\"linecolor\":\"white\",\"minorgridcolor\":\"white\",\"startlinecolor\":\"#2a3f5f\"},\"baxis\":{\"endlinecolor\":\"#2a3f5f\",\"gridcolor\":\"white\",\"linecolor\":\"white\",\"minorgridcolor\":\"white\",\"startlinecolor\":\"#2a3f5f\"},\"type\":\"carpet\"}],\"table\":[{\"cells\":{\"fill\":{\"color\":\"#EBF0F8\"},\"line\":{\"color\":\"white\"}},\"header\":{\"fill\":{\"color\":\"#C8D4E3\"},\"line\":{\"color\":\"white\"}},\"type\":\"table\"}],\"barpolar\":[{\"marker\":{\"line\":{\"color\":\"#E5ECF6\",\"width\":0.5},\"pattern\":{\"fillmode\":\"overlay\",\"size\":10,\"solidity\":0.2}},\"type\":\"barpolar\"}],\"pie\":[{\"automargin\":true,\"type\":\"pie\"}]},\"layout\":{\"autotypenumbers\":\"strict\",\"colorway\":[\"#636efa\",\"#EF553B\",\"#00cc96\",\"#ab63fa\",\"#FFA15A\",\"#19d3f3\",\"#FF6692\",\"#B6E880\",\"#FF97FF\",\"#FECB52\"],\"font\":{\"color\":\"#2a3f5f\"},\"hovermode\":\"closest\",\"hoverlabel\":{\"align\":\"left\"},\"paper_bgcolor\":\"white\",\"plot_bgcolor\":\"#E5ECF6\",\"polar\":{\"bgcolor\":\"#E5ECF6\",\"angularaxis\":{\"gridcolor\":\"white\",\"linecolor\":\"white\",\"ticks\":\"\"},\"radialaxis\":{\"gridcolor\":\"white\",\"linecolor\":\"white\",\"ticks\":\"\"}},\"ternary\":{\"bgcolor\":\"#E5ECF6\",\"aaxis\":{\"gridcolor\":\"white\",\"linecolor\":\"white\",\"ticks\":\"\"},\"baxis\":{\"gridcolor\":\"white\",\"linecolor\":\"white\",\"ticks\":\"\"},\"caxis\":{\"gridcolor\":\"white\",\"linecolor\":\"white\",\"ticks\":\"\"}},\"coloraxis\":{\"colorbar\":{\"outlinewidth\":0,\"ticks\":\"\"}},\"colorscale\":{\"sequential\":[[0.0,\"#0d0887\"],[0.1111111111111111,\"#46039f\"],[0.2222222222222222,\"#7201a8\"],[0.3333333333333333,\"#9c179e\"],[0.4444444444444444,\"#bd3786\"],[0.5555555555555556,\"#d8576b\"],[0.6666666666666666,\"#ed7953\"],[0.7777777777777778,\"#fb9f3a\"],[0.8888888888888888,\"#fdca26\"],[1.0,\"#f0f921\"]],\"sequentialminus\":[[0.0,\"#0d0887\"],[0.1111111111111111,\"#46039f\"],[0.2222222222222222,\"#7201a8\"],[0.3333333333333333,\"#9c179e\"],[0.4444444444444444,\"#bd3786\"],[0.5555555555555556,\"#d8576b\"],[0.6666666666666666,\"#ed7953\"],[0.7777777777777778,\"#fb9f3a\"],[0.8888888888888888,\"#fdca26\"],[1.0,\"#f0f921\"]],\"diverging\":[[0,\"#8e0152\"],[0.1,\"#c51b7d\"],[0.2,\"#de77ae\"],[0.3,\"#f1b6da\"],[0.4,\"#fde0ef\"],[0.5,\"#f7f7f7\"],[0.6,\"#e6f5d0\"],[0.7,\"#b8e186\"],[0.8,\"#7fbc41\"],[0.9,\"#4d9221\"],[1,\"#276419\"]]},\"xaxis\":{\"gridcolor\":\"white\",\"linecolor\":\"white\",\"ticks\":\"\",\"title\":{\"standoff\":15},\"zerolinecolor\":\"white\",\"automargin\":true,\"zerolinewidth\":2},\"yaxis\":{\"gridcolor\":\"white\",\"linecolor\":\"white\",\"ticks\":\"\",\"title\":{\"standoff\":15},\"zerolinecolor\":\"white\",\"automargin\":true,\"zerolinewidth\":2},\"scene\":{\"xaxis\":{\"backgroundcolor\":\"#E5ECF6\",\"gridcolor\":\"white\",\"linecolor\":\"white\",\"showbackground\":true,\"ticks\":\"\",\"zerolinecolor\":\"white\",\"gridwidth\":2},\"yaxis\":{\"backgroundcolor\":\"#E5ECF6\",\"gridcolor\":\"white\",\"linecolor\":\"white\",\"showbackground\":true,\"ticks\":\"\",\"zerolinecolor\":\"white\",\"gridwidth\":2},\"zaxis\":{\"backgroundcolor\":\"#E5ECF6\",\"gridcolor\":\"white\",\"linecolor\":\"white\",\"showbackground\":true,\"ticks\":\"\",\"zerolinecolor\":\"white\",\"gridwidth\":2}},\"shapedefaults\":{\"line\":{\"color\":\"#2a3f5f\"}},\"annotationdefaults\":{\"arrowcolor\":\"#2a3f5f\",\"arrowhead\":0,\"arrowwidth\":1},\"geo\":{\"bgcolor\":\"white\",\"landcolor\":\"#E5ECF6\",\"subunitcolor\":\"white\",\"showland\":true,\"showlakes\":true,\"lakecolor\":\"white\"},\"title\":{\"x\":0.05},\"mapbox\":{\"style\":\"light\"}}},\"xaxis\":{\"anchor\":\"y\",\"domain\":[0.0,1.0],\"title\":{\"text\":\"Date\"}},\"yaxis\":{\"anchor\":\"x\",\"domain\":[0.0,1.0],\"title\":{\"text\":\"VALUE\"}},\"legend\":{\"title\":{\"text\":\"Sex\"},\"tracegroupgap\":0},\"margin\":{\"t\":60}},                        {\"responsive\": true}                    ).then(function(){\n",
       "                            \n",
       "var gd = document.getElementById('33d2919d-d60c-4f8d-9f27-00ab9cf18862');\n",
       "var x = new MutationObserver(function (mutations, observer) {{\n",
       "        var display = window.getComputedStyle(gd).display;\n",
       "        if (!display || display === 'none') {{\n",
       "            console.log([gd, 'removed!']);\n",
       "            Plotly.purge(gd);\n",
       "            observer.disconnect();\n",
       "        }}\n",
       "}});\n",
       "\n",
       "// Listen for the removal of the full notebook cells\n",
       "var notebookContainer = gd.closest('#notebook-container');\n",
       "if (notebookContainer) {{\n",
       "    x.observe(notebookContainer, {childList: true});\n",
       "}}\n",
       "\n",
       "// Listen for the clearing of the current output cell\n",
       "var outputEl = gd.closest('.output');\n",
       "if (outputEl) {{\n",
       "    x.observe(outputEl, {childList: true});\n",
       "}}\n",
       "\n",
       "                        })                };                });            </script>        </div>"
      ]
     },
     "metadata": {},
     "output_type": "display_data"
    }
   ],
   "source": [
    "fig3 = px.scatter(df_ws.loc[(df_ws['Statistics']=='Median total income') \n",
    "               & (df_ws['Sex'].isin(['Both sexes', 'Males', 'Females']))], x='Date', y='VALUE', color='Sex', trendline=\"ols\")\n",
    "fig3.show()"
   ]
  },
  {
   "cell_type": "code",
   "execution_count": 74,
   "id": "14a1c9c5-396b-44c5-a784-ac588368dec8",
   "metadata": {},
   "outputs": [
    {
     "data": {
      "text/html": [
       "<div>\n",
       "<style scoped>\n",
       "    .dataframe tbody tr th:only-of-type {\n",
       "        vertical-align: middle;\n",
       "    }\n",
       "\n",
       "    .dataframe tbody tr th {\n",
       "        vertical-align: top;\n",
       "    }\n",
       "\n",
       "    .dataframe thead th {\n",
       "        text-align: right;\n",
       "    }\n",
       "</style>\n",
       "<table border=\"1\" class=\"dataframe\">\n",
       "  <thead>\n",
       "    <tr style=\"text-align: right;\">\n",
       "      <th></th>\n",
       "      <th>Date</th>\n",
       "      <th>GEO</th>\n",
       "      <th>DGUID</th>\n",
       "      <th>Labour force characteristics</th>\n",
       "      <th>UOM</th>\n",
       "      <th>UOM_ID</th>\n",
       "      <th>SCALAR_FACTOR</th>\n",
       "      <th>SCALAR_ID</th>\n",
       "      <th>VECTOR</th>\n",
       "      <th>COORDINATE</th>\n",
       "      <th>VALUE</th>\n",
       "      <th>STATUS</th>\n",
       "      <th>SYMBOL</th>\n",
       "      <th>TERMINATED</th>\n",
       "      <th>DECIMALS</th>\n",
       "    </tr>\n",
       "  </thead>\n",
       "  <tbody>\n",
       "    <tr>\n",
       "      <th>136</th>\n",
       "      <td>2006-01-01</td>\n",
       "      <td>North Bay, Ontario</td>\n",
       "      <td>2016S0504575</td>\n",
       "      <td>Population</td>\n",
       "      <td>Persons</td>\n",
       "      <td>249</td>\n",
       "      <td>thousands</td>\n",
       "      <td>3</td>\n",
       "      <td>v1235071884</td>\n",
       "      <td>19.1</td>\n",
       "      <td>60.9</td>\n",
       "      <td>NaN</td>\n",
       "      <td>NaN</td>\n",
       "      <td>NaN</td>\n",
       "      <td>1</td>\n",
       "    </tr>\n",
       "    <tr>\n",
       "      <th>137</th>\n",
       "      <td>2006-01-01</td>\n",
       "      <td>North Bay, Ontario</td>\n",
       "      <td>2016S0504575</td>\n",
       "      <td>Labour force</td>\n",
       "      <td>Persons</td>\n",
       "      <td>249</td>\n",
       "      <td>thousands</td>\n",
       "      <td>3</td>\n",
       "      <td>v1235071885</td>\n",
       "      <td>19.2</td>\n",
       "      <td>38.7</td>\n",
       "      <td>NaN</td>\n",
       "      <td>NaN</td>\n",
       "      <td>NaN</td>\n",
       "      <td>1</td>\n",
       "    </tr>\n",
       "    <tr>\n",
       "      <th>138</th>\n",
       "      <td>2006-01-01</td>\n",
       "      <td>North Bay, Ontario</td>\n",
       "      <td>2016S0504575</td>\n",
       "      <td>Employment</td>\n",
       "      <td>Persons</td>\n",
       "      <td>249</td>\n",
       "      <td>thousands</td>\n",
       "      <td>3</td>\n",
       "      <td>v1235071886</td>\n",
       "      <td>19.3</td>\n",
       "      <td>36.2</td>\n",
       "      <td>NaN</td>\n",
       "      <td>NaN</td>\n",
       "      <td>NaN</td>\n",
       "      <td>1</td>\n",
       "    </tr>\n",
       "    <tr>\n",
       "      <th>139</th>\n",
       "      <td>2006-01-01</td>\n",
       "      <td>North Bay, Ontario</td>\n",
       "      <td>2016S0504575</td>\n",
       "      <td>Unemployment</td>\n",
       "      <td>Persons</td>\n",
       "      <td>249</td>\n",
       "      <td>thousands</td>\n",
       "      <td>3</td>\n",
       "      <td>v1235071887</td>\n",
       "      <td>19.4</td>\n",
       "      <td>2.5</td>\n",
       "      <td>NaN</td>\n",
       "      <td>NaN</td>\n",
       "      <td>NaN</td>\n",
       "      <td>1</td>\n",
       "    </tr>\n",
       "    <tr>\n",
       "      <th>140</th>\n",
       "      <td>2006-01-01</td>\n",
       "      <td>North Bay, Ontario</td>\n",
       "      <td>2016S0504575</td>\n",
       "      <td>Not in labour force</td>\n",
       "      <td>Persons</td>\n",
       "      <td>249</td>\n",
       "      <td>thousands</td>\n",
       "      <td>3</td>\n",
       "      <td>v1235071888</td>\n",
       "      <td>19.5</td>\n",
       "      <td>22.2</td>\n",
       "      <td>NaN</td>\n",
       "      <td>NaN</td>\n",
       "      <td>NaN</td>\n",
       "      <td>1</td>\n",
       "    </tr>\n",
       "    <tr>\n",
       "      <th>...</th>\n",
       "      <td>...</td>\n",
       "      <td>...</td>\n",
       "      <td>...</td>\n",
       "      <td>...</td>\n",
       "      <td>...</td>\n",
       "      <td>...</td>\n",
       "      <td>...</td>\n",
       "      <td>...</td>\n",
       "      <td>...</td>\n",
       "      <td>...</td>\n",
       "      <td>...</td>\n",
       "      <td>...</td>\n",
       "      <td>...</td>\n",
       "      <td>...</td>\n",
       "      <td>...</td>\n",
       "    </tr>\n",
       "    <tr>\n",
       "      <th>4083</th>\n",
       "      <td>2023-01-01</td>\n",
       "      <td>North Bay, Ontario</td>\n",
       "      <td>2016S0504575</td>\n",
       "      <td>Unemployment</td>\n",
       "      <td>Persons</td>\n",
       "      <td>249</td>\n",
       "      <td>thousands</td>\n",
       "      <td>3</td>\n",
       "      <td>v1235071887</td>\n",
       "      <td>19.4</td>\n",
       "      <td>2.1</td>\n",
       "      <td>NaN</td>\n",
       "      <td>NaN</td>\n",
       "      <td>NaN</td>\n",
       "      <td>1</td>\n",
       "    </tr>\n",
       "    <tr>\n",
       "      <th>4084</th>\n",
       "      <td>2023-01-01</td>\n",
       "      <td>North Bay, Ontario</td>\n",
       "      <td>2016S0504575</td>\n",
       "      <td>Not in labour force</td>\n",
       "      <td>Persons</td>\n",
       "      <td>249</td>\n",
       "      <td>thousands</td>\n",
       "      <td>3</td>\n",
       "      <td>v1235071888</td>\n",
       "      <td>19.5</td>\n",
       "      <td>27.1</td>\n",
       "      <td>NaN</td>\n",
       "      <td>NaN</td>\n",
       "      <td>NaN</td>\n",
       "      <td>1</td>\n",
       "    </tr>\n",
       "    <tr>\n",
       "      <th>4085</th>\n",
       "      <td>2023-01-01</td>\n",
       "      <td>North Bay, Ontario</td>\n",
       "      <td>2016S0504575</td>\n",
       "      <td>Unemployment rate</td>\n",
       "      <td>Percentage</td>\n",
       "      <td>242</td>\n",
       "      <td>units</td>\n",
       "      <td>0</td>\n",
       "      <td>v1235071889</td>\n",
       "      <td>19.6</td>\n",
       "      <td>5.9</td>\n",
       "      <td>NaN</td>\n",
       "      <td>NaN</td>\n",
       "      <td>NaN</td>\n",
       "      <td>1</td>\n",
       "    </tr>\n",
       "    <tr>\n",
       "      <th>4086</th>\n",
       "      <td>2023-01-01</td>\n",
       "      <td>North Bay, Ontario</td>\n",
       "      <td>2016S0504575</td>\n",
       "      <td>Participation rate</td>\n",
       "      <td>Percentage</td>\n",
       "      <td>242</td>\n",
       "      <td>units</td>\n",
       "      <td>0</td>\n",
       "      <td>v1235071890</td>\n",
       "      <td>19.7</td>\n",
       "      <td>56.8</td>\n",
       "      <td>NaN</td>\n",
       "      <td>NaN</td>\n",
       "      <td>NaN</td>\n",
       "      <td>1</td>\n",
       "    </tr>\n",
       "    <tr>\n",
       "      <th>4087</th>\n",
       "      <td>2023-01-01</td>\n",
       "      <td>North Bay, Ontario</td>\n",
       "      <td>2016S0504575</td>\n",
       "      <td>Employment rate</td>\n",
       "      <td>Percentage</td>\n",
       "      <td>242</td>\n",
       "      <td>units</td>\n",
       "      <td>0</td>\n",
       "      <td>v1235071891</td>\n",
       "      <td>19.8</td>\n",
       "      <td>53.3</td>\n",
       "      <td>NaN</td>\n",
       "      <td>NaN</td>\n",
       "      <td>NaN</td>\n",
       "      <td>1</td>\n",
       "    </tr>\n",
       "  </tbody>\n",
       "</table>\n",
       "<p>144 rows × 15 columns</p>\n",
       "</div>"
      ],
      "text/plain": [
       "           Date                 GEO         DGUID  \\\n",
       "136  2006-01-01  North Bay, Ontario  2016S0504575   \n",
       "137  2006-01-01  North Bay, Ontario  2016S0504575   \n",
       "138  2006-01-01  North Bay, Ontario  2016S0504575   \n",
       "139  2006-01-01  North Bay, Ontario  2016S0504575   \n",
       "140  2006-01-01  North Bay, Ontario  2016S0504575   \n",
       "...         ...                 ...           ...   \n",
       "4083 2023-01-01  North Bay, Ontario  2016S0504575   \n",
       "4084 2023-01-01  North Bay, Ontario  2016S0504575   \n",
       "4085 2023-01-01  North Bay, Ontario  2016S0504575   \n",
       "4086 2023-01-01  North Bay, Ontario  2016S0504575   \n",
       "4087 2023-01-01  North Bay, Ontario  2016S0504575   \n",
       "\n",
       "     Labour force characteristics         UOM UOM_ID SCALAR_FACTOR SCALAR_ID  \\\n",
       "136                    Population     Persons    249     thousands         3   \n",
       "137                  Labour force     Persons    249     thousands         3   \n",
       "138                    Employment     Persons    249     thousands         3   \n",
       "139                  Unemployment     Persons    249     thousands         3   \n",
       "140           Not in labour force     Persons    249     thousands         3   \n",
       "...                           ...         ...    ...           ...       ...   \n",
       "4083                 Unemployment     Persons    249     thousands         3   \n",
       "4084          Not in labour force     Persons    249     thousands         3   \n",
       "4085            Unemployment rate  Percentage    242         units         0   \n",
       "4086           Participation rate  Percentage    242         units         0   \n",
       "4087              Employment rate  Percentage    242         units         0   \n",
       "\n",
       "           VECTOR COORDINATE  VALUE STATUS SYMBOL TERMINATED DECIMALS  \n",
       "136   v1235071884       19.1   60.9    NaN    NaN        NaN        1  \n",
       "137   v1235071885       19.2   38.7    NaN    NaN        NaN        1  \n",
       "138   v1235071886       19.3   36.2    NaN    NaN        NaN        1  \n",
       "139   v1235071887       19.4    2.5    NaN    NaN        NaN        1  \n",
       "140   v1235071888       19.5   22.2    NaN    NaN        NaN        1  \n",
       "...           ...        ...    ...    ...    ...        ...      ...  \n",
       "4083  v1235071887       19.4    2.1    NaN    NaN        NaN        1  \n",
       "4084  v1235071888       19.5   27.1    NaN    NaN        NaN        1  \n",
       "4085  v1235071889       19.6    5.9    NaN    NaN        NaN        1  \n",
       "4086  v1235071890       19.7   56.8    NaN    NaN        NaN        1  \n",
       "4087  v1235071891       19.8   53.3    NaN    NaN        NaN        1  \n",
       "\n",
       "[144 rows x 15 columns]"
      ]
     },
     "execution_count": 74,
     "metadata": {},
     "output_type": "execute_result"
    }
   ],
   "source": [
    "df_lf"
   ]
  },
  {
   "cell_type": "code",
   "execution_count": 75,
   "id": "90b96834-4911-4df4-abc4-cf4c8a5a9f5f",
   "metadata": {},
   "outputs": [
    {
     "data": {
      "text/plain": [
       "['Persons']"
      ]
     },
     "execution_count": 75,
     "metadata": {},
     "output_type": "execute_result"
    }
   ],
   "source": [
    "df_ei['UOM'].unique().tolist()\n"
   ]
  },
  {
   "cell_type": "code",
   "execution_count": 245,
   "id": "823b5dc5-dae5-488c-ad1a-20cbd5fdf3a1",
   "metadata": {
    "editable": true,
    "slideshow": {
     "slide_type": ""
    },
    "tags": []
   },
   "outputs": [
    {
     "data": {
      "text/html": [
       "\n",
       "        <iframe\n",
       "            width=\"100%\"\n",
       "            height=\"650\"\n",
       "            src=\"http://127.0.0.1:8050/\"\n",
       "            frameborder=\"0\"\n",
       "            allowfullscreen\n",
       "            \n",
       "        ></iframe>\n",
       "        "
      ],
      "text/plain": [
       "<IPython.lib.display.IFrame at 0x138e9dcfb60>"
      ]
     },
     "metadata": {},
     "output_type": "display_data"
    }
   ],
   "source": [
    "app = Dash(__name__, external_stylesheets=[dbc.themes.SIMPLEX])\n",
    "myTitle = 'Labour Market in North Bay Ontario'\n",
    "app.title = myTitle\n",
    "# fig = go.Figure(\n",
    "#     go.Scattergl(x=np.random.randn(1000),\n",
    "#                  y=np.random.randn(1000),\n",
    "#                  mode='markers',\n",
    "#                  marker=dict(\n",
    "#                      color=random.sample(['#ecf0f1'] * 500 +\n",
    "#                                          [\"#3498db\"] * 500, 1000),\n",
    "#                      line_width=1)\n",
    "#                 ))\n",
    "\n",
    "# fig.update_layout(plot_bgcolor='#ffffff',\n",
    "#                   width=790,\n",
    "#                   height=730,\n",
    "#                   xaxis_visible=False,\n",
    "#                   yaxis_visible=False,\n",
    "#                   showlegend=False,\n",
    "#                   margin=dict(l=0, r=0, t=0, b=0))\n",
    "# fig = px.scatter(df_ei[(df_ei['Age group']==age_group_list[0]) & \n",
    "#                  (df_ei['Sex'].isin(sex_list)) & \n",
    "#                  (df_ei['Beneficiary detail'] == beneficiary_list[0])], \n",
    "#                  x='Date', \n",
    "#                  y='Claimants', \n",
    "#                  color='Sex', \n",
    "#                  size='Claimants',\n",
    "#                  labels={'Date':''},\n",
    "#                  template='simple_white',\n",
    "#                  width=990,\n",
    "#                  height=243,\n",
    "#                  # trendline='ols',\n",
    "#                  title='EI Claimants')\n",
    "y_age = df_dg['Age group'].unique()\n",
    "x_Male = df_dg['VALUE'].loc[(df_dg['Gender']=='Men+') & (df_dg['Date'] == '2023-01-01')]\n",
    "x_Female = df_dg['VALUE'].loc[(df_dg['Gender']=='Women+') & (df_dg['Date'] == '2023-01-01')] * -1\n",
    "fig = go.Figure()\n",
    "fig.add_trace(go.Bar(y =  y_age, x=x_Male, name = 'Male', orientation= 'h', ))\n",
    "fig.add_trace(go.Bar(y =  y_age, x=x_Female, name = 'Female', orientation= 'h', ))\n",
    "fig.update_layout(title='Population Pyramid - North Bay - 2023',\n",
    "                  barmode = 'relative', \n",
    "                  bargap = 0.0, bargroupgap = 0, \n",
    "                  xaxis = dict(tickvals = [-3000, -2000, -1000, \n",
    "                                           0, 1000, 2000, 3000], \n",
    "                                \n",
    "                              ticktext = ['3000', '2000', '1000', '0',  \n",
    "                                          '1000', '2000', '3000'], \n",
    "                                \n",
    "                              title = 'Persons', \n",
    "                              title_font_size = 14\n",
    "                              ),\n",
    "                  template='simple_white',\n",
    "                  width=990,\n",
    "                  height=243,\n",
    "                  margin=dict(l=1, r=1, t=40, b=1),\n",
    "                 ) \n",
    "\n",
    "fig1 = px.bar(df_lf.loc[(df_lf['Labour force characteristics'].isin(['Employment', 'Not in labour force', 'Unemployment']))],\n",
    "                  x='Date',\n",
    "                  y='VALUE',\n",
    "                  title='Population by Employment Characteristic',\n",
    "                  labels={'VALUE': 'Persons',\n",
    "                         'Date':'Year',\n",
    "                         'Labour force characteristics':'Characteristic'},\n",
    "                  # size='VALUE',\n",
    "                  template='simple_white',\n",
    "                  width=990,\n",
    "                  height=243,\n",
    "                  color='Labour force characteristics',\n",
    "                  # trendline='ols',\n",
    "             )\n",
    "fig2 = px.scatter(df_ws.loc[(df_ws['Statistics']=='Median total income') \n",
    "               & (df_ws['Sex'].isin(['Both sexes', 'Males', 'Females']))], \n",
    "                  template='simple_white', \n",
    "                  title = \"Median Income in 000's\",\n",
    "                  x='Date', \n",
    "                  y='VALUE', \n",
    "                  labels = {'VALUE': '$,000s',\n",
    "                           'Date':'Year',\n",
    "                           'Sex':'Gender',\n",
    "                           'Both sexes':'Average'},\n",
    "                  width=990,\n",
    "                  height=243,\n",
    "                  color='Sex', \n",
    "                  trendline=\"ols\")\n",
    "\n",
    "fig.update_layout(margin=dict(l=1, r=1, t=40, b=1))\n",
    "fig1.update_layout(\n",
    "    # plot_bgcolor='#ffffff',\n",
    "    margin=dict(l=1, r=1, t=40, b=1))\n",
    "fig2.update_layout(margin=dict(l=1, r=1, t=40, b=1),\n",
    "                  )\n",
    "app.layout=dbc.Container([\n",
    "    html.Div(\n",
    "        [\n",
    "            html.Div([\n",
    "                html.H1([\n",
    "                    html.Span(\"Welcome\"),\n",
    "                    html.Br(),\n",
    "                    html.Span(\"to the North Bay Labour Market Dashboard!\")\n",
    "                ]),\n",
    "                html.P(\"This Dashboard assists users in understanding the local labour market conditions.\")\n",
    "            ],\n",
    "                     style={\n",
    "                         \"vertical-alignment\": \"top\",\n",
    "                         \"height\": 260\n",
    "                     }),\n",
    "            html.Div(\n",
    "                [\n",
    "                    html.Div(dbc.RadioItems(\n",
    "                        className='btn-group',\n",
    "                        inputClassName='btn-check',\n",
    "                        labelClassName=\"btn btn-outline-light\",\n",
    "                        labelCheckedClassName=\"btn btn-light\",\n",
    "                        options=[\n",
    "                            {\"label\": \"Graph\", \"value\": 1},\n",
    "                            {\"label\": \"Table\", \"value\": 2}\n",
    "                        ],\n",
    "                        value=1\n",
    "                        ),\n",
    "                             style={'width': 206}\n",
    "                    ),\n",
    "                    html.Div(\n",
    "                        dbc.Button(\n",
    "                            \"About\",\n",
    "                            className=\"btn btn-info\",\n",
    "                            n_clicks=0\n",
    "                        ),\n",
    "                        style={'width': 104})\n",
    "                ],\n",
    "                style={\n",
    "                    'margin-left': 15,\n",
    "                    'margin-right': 15,\n",
    "                    'display': 'flex'\n",
    "                }),\n",
    "            html.Div(\n",
    "                [\n",
    "                    html.Div(\n",
    "                        [\n",
    "                            html.H2('Sex:'),\n",
    "                            dcc.Dropdown(\n",
    "                                options=sex_list,\n",
    "                                value=1,\n",
    "                                clearable=True,\n",
    "                                multi=True,\n",
    "                                optionHeight=40\n",
    "                            )\n",
    "                        ]\n",
    "                    ),\n",
    "                    html.Div(\n",
    "                        [\n",
    "                            html.H2('Statistic to Plot:'),\n",
    "                            dcc.Dropdown(\n",
    "                                options=UOM['Measure'],\n",
    "                                value=1,\n",
    "                                clearable=False,\n",
    "                                multi=True,\n",
    "                                optionHeight=40\n",
    "                            )\n",
    "                        ]\n",
    "                    ),                    \n",
    "                    html.Div(\n",
    "                        [\n",
    "                            html.H2('Income statistic:'),\n",
    "                            dcc.Dropdown(\n",
    "                                options=income_statistic_list,\n",
    "                                value=income_statistic_list[0],\n",
    "                                clearable=True,\n",
    "                                multi=True,\n",
    "                                optionHeight=40\n",
    "                                \n",
    "                            )\n",
    "                        ]\n",
    "                    )\n",
    "            ],\n",
    "                     style={\n",
    "                         'margin-left': 15,\n",
    "                         'margin-right': 15,\n",
    "                         'margin-top': 30\n",
    "                     }),\n",
    "            \n",
    "            html.Div(html.Img(src='assets/image.svg',\n",
    "             style={\n",
    "                 'margin-left': 15,\n",
    "                 'margin-right': 15,\n",
    "                 'margin-top': 30,\n",
    "                 'width': 310,\n",
    "                 'display':'flex'\n",
    "             }\n",
    "                             )\n",
    "                    )\n",
    "        ],\n",
    "    style={\n",
    "        'width': 340,\n",
    "        'margin-left': 35,\n",
    "        'margin-top': 35,\n",
    "        'margin-bottom': 35\n",
    "    }), \n",
    "    html.Div(\n",
    "        [\n",
    "            html.Div(dcc.Graph(figure=fig), style={'width': 990}),\n",
    "            html.Div(dcc.Graph(figure=fig1), style={'width':990}),\n",
    "            html.Div(dcc.Graph(figure=fig2), style={'width':990})\n",
    "            # html.Div(\n",
    "            #     [\n",
    "            #         html.H2('Output 1:'),\n",
    "            #         html.Div(className='Output'),\n",
    "            #         html.H2('Output 2:'),\n",
    "            #         html.Div(html.H3(\"Selected Value\"), className='Output')\n",
    "            #     ],\n",
    "            #       style={'width': 200})\n",
    "        ],\n",
    "        \n",
    "        style={\n",
    "            'width': 990,\n",
    "            'margin-top': 35,\n",
    "            'margin-right': 35,\n",
    "            'margin-bottom': 35,\n",
    "            # 'display':'flex'\n",
    "            }) \n",
    "    \n",
    "], \n",
    "                         \n",
    "   fluid = True,\n",
    "   className='dashboard-container',\n",
    "   style={'display':'flex'}\n",
    "   )\n",
    "if __name__ == \"__main__\":\n",
    "    app.run_server(debug=True, port=8050)\n",
    "\n",
    "\n"
   ]
  },
  {
   "cell_type": "code",
   "execution_count": null,
   "id": "20f7a229-6a93-4a4d-b1e2-91f59f36ffee",
   "metadata": {},
   "outputs": [],
   "source": []
  },
  {
   "cell_type": "code",
   "execution_count": null,
   "id": "ba12d37d-7fb9-4ed1-8ede-cd25785dfef6",
   "metadata": {},
   "outputs": [],
   "source": []
  }
 ],
 "metadata": {
  "kernelspec": {
   "display_name": "Python 3 (ipykernel)",
   "language": "python",
   "name": "python3"
  },
  "language_info": {
   "codemirror_mode": {
    "name": "ipython",
    "version": 3
   },
   "file_extension": ".py",
   "mimetype": "text/x-python",
   "name": "python",
   "nbconvert_exporter": "python",
   "pygments_lexer": "ipython3",
   "version": "3.12.3"
  },
  "widgets": {
   "application/vnd.jupyter.widget-state+json": {
    "state": {},
    "version_major": 2,
    "version_minor": 0
   }
  }
 },
 "nbformat": 4,
 "nbformat_minor": 5
}
