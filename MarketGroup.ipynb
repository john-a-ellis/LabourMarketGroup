{
 "cells": [
  {
   "cell_type": "code",
   "execution_count": 1,
   "id": "60ecca9a-cacf-4a4a-9d86-c2d7314e82e2",
   "metadata": {},
   "outputs": [],
   "source": [
    "# Import Dependencies\n",
    "import pandas as pd\n",
    "from dash import Dash, html, dcc, callback, Output, Input, State\n",
    "import plotly.express as px\n",
    "from stats_can import StatsCan\n",
    "import dash_bootstrap_components as dbc\n",
    "import datetime as dt\n",
    "# import plotly.graph_objects as go\n",
    "import numpy as np\n",
    "import random\n",
    "sc = StatsCan()\n",
    "pd.options.display.max_colwidth = 255"
   ]
  },
  {
   "cell_type": "code",
   "execution_count": 2,
   "id": "186ebab6-5804-476a-a997-c2e60edc0b2d",
   "metadata": {},
   "outputs": [],
   "source": [
    "#set storage location for Stats Can Data\n",
    "sc = StatsCan(data_folder=\"Resources\")"
   ]
  },
  {
   "cell_type": "code",
   "execution_count": 3,
   "id": "8876a3d4-078e-4c37-ae15-5d1c74f2bb11",
   "metadata": {},
   "outputs": [],
   "source": [
    "#Set Global Variable for North Bay\n",
    "getLocation = ['North Bay, Ontario','North Bay (CA), Ontario']"
   ]
  },
  {
   "cell_type": "code",
   "execution_count": 4,
   "id": "51fa4bca-17d6-49d2-b96e-8a5973e602b0",
   "metadata": {},
   "outputs": [
    {
     "name": "stdout",
     "output_type": "stream",
     "text": [
      "Downloading and loading table_17100148\n"
     ]
    },
    {
     "name": "stderr",
     "output_type": "stream",
     "text": [
      "17100148-eng.zip: 100%|█████████████████████████████████████████████████████| 20.9M/20.9M [00:02<00:00, 7.16MB/s]\n",
      "C:\\Users\\johna\\anaconda3\\envs\\newdev\\Lib\\site-packages\\stats_can\\sc.py:221: FutureWarning: errors='ignore' is deprecated and will raise in a future version. Use to_datetime without passing `errors` and catch exceptions explicitly instead\n",
      "  df[\"REF_DATE\"] = pd.to_datetime(df[\"REF_DATE\"], errors=\"ignore\")\n",
      "C:\\Users\\johna\\AppData\\Local\\Temp\\ipykernel_165952\\1709151455.py:7: FutureWarning: The behavior of Series.replace (and DataFrame.replace) with CategoricalDtype is deprecated. In a future version, replace will only be used for cases that preserve the categories. To change the categories, use ser.cat.rename_categories instead.\n",
      "  df=df.replace(to_replace='90 years and older', value= '90 years +')\n"
     ]
    }
   ],
   "source": [
    "df = sc.table_to_df(\"17-10-0148-01\") # demographic data\n",
    "\n",
    "df=df.loc[df['GEO'].isin(getLocation)]\n",
    "\n",
    "df.rename(columns = {'REF_DATE':'Date'}, inplace=True)\n",
    "\n",
    "df=df.replace(to_replace='90 years and older', value= '90 years +')"
   ]
  },
  {
   "cell_type": "code",
   "execution_count": 5,
   "id": "41a7ca6a-fdcc-41cf-9afa-95026267aca4",
   "metadata": {},
   "outputs": [],
   "source": [
    "gender_list=df['Gender'].unique().tolist()\n",
    "dg_date_list= df['Date'].unique().tolist()\n",
    "mylist = df['Age group'].unique().tolist()"
   ]
  },
  {
   "cell_type": "code",
   "execution_count": 6,
   "id": "ff80ab3d-12e0-4876-817a-20a41fad07fe",
   "metadata": {},
   "outputs": [],
   "source": [
    "age_list = []\n",
    "for i in mylist:\n",
    "    # print(i)\n",
    "    if i.find('to') != -1:\n",
    "        age_list.append(i)\n",
    "    elif i.find('and') != -1:\n",
    "        age_list.append(i)\n",
    "    elif i.find('+') != -1:\n",
    "        age_list.append(i)\n",
    "        \n",
    "\n",
    "age_list.remove('0 to 14 years')\n",
    "age_list.remove('65 years and older')\n",
    "age_list.remove('15 to 64 years')"
   ]
  },
  {
   "cell_type": "code",
   "execution_count": 7,
   "id": "ebb87cd0-8f55-4aeb-84a7-6d44e36f4f05",
   "metadata": {},
   "outputs": [],
   "source": [
    "df_dg = df.loc[(df['GEO'].isin(getLocation)) & (df['Age group'].isin(age_list)) & (df['Gender'].isin(gender_list))]\n"
   ]
  },
  {
   "cell_type": "code",
   "execution_count": 8,
   "id": "97e19c84-bd0f-438b-a9bb-74c144c7ee91",
   "metadata": {},
   "outputs": [
    {
     "name": "stdout",
     "output_type": "stream",
     "text": [
      "Downloading and loading table_14100391\n"
     ]
    },
    {
     "name": "stderr",
     "output_type": "stream",
     "text": [
      "14100391-eng.zip: 100%|█████████████████████████████████████████████████████| 30.6k/30.6k [00:00<00:00, 5.08MB/s]\n",
      "C:\\Users\\johna\\anaconda3\\envs\\newdev\\Lib\\site-packages\\stats_can\\sc.py:221: FutureWarning: errors='ignore' is deprecated and will raise in a future version. Use to_datetime without passing `errors` and catch exceptions explicitly instead\n",
      "  df[\"REF_DATE\"] = pd.to_datetime(df[\"REF_DATE\"], errors=\"ignore\")\n"
     ]
    },
    {
     "name": "stdout",
     "output_type": "stream",
     "text": [
      "Downloading and loading table_11100072\n"
     ]
    },
    {
     "name": "stderr",
     "output_type": "stream",
     "text": [
      "11100072-eng.zip: 100%|█████████████████████████████████████████████████████| 2.01M/2.01M [00:01<00:00, 1.23MB/s]\n",
      "C:\\Users\\johna\\anaconda3\\envs\\newdev\\Lib\\site-packages\\stats_can\\sc.py:221: FutureWarning: errors='ignore' is deprecated and will raise in a future version. Use to_datetime without passing `errors` and catch exceptions explicitly instead\n",
      "  df[\"REF_DATE\"] = pd.to_datetime(df[\"REF_DATE\"], errors=\"ignore\")\n"
     ]
    }
   ],
   "source": [
    "#Import Data from Stats Canada\n",
    "# df = sc.table_to_df(\"14-10-0137-01\") # Count of Persons claiming EI per week\n",
    "# df.rename(columns = {'REF_DATE':'Date'}, inplace=True)\n",
    "# df_ei = df.loc[(df['GEO'].isin(getLocation)) & (df['Age group'] == '15 years and over')]\n",
    "# df_ei.rename(columns = {'VALUE':'Claimants'}, inplace=True)\n",
    "df = sc.table_to_df(\"14-10-0391-01\") # Labour force characteristics by year for 5 years\n",
    "df.rename(columns = {'REF_DATE':'Date'}, inplace=True)\n",
    "df_lf= df.loc[df['GEO'].isin((getLocation))]\n",
    "df = sc.table_to_df(\"11-10-0072-01\") # Wages Salearies and  commissions of tax filers by sex and age group\n",
    "df.rename(columns = {'REF_DATE':'Date'}, inplace=True)\n",
    "df_ws= df.loc[(df['GEO'].isin(getLocation)) & (df['Age group']=='Ages 15 years and over')]\n",
    "df=''"
   ]
  },
  {
   "cell_type": "code",
   "execution_count": 9,
   "id": "654b604e-8cc5-417b-b967-7f3fb9cbb509",
   "metadata": {},
   "outputs": [
    {
     "name": "stderr",
     "output_type": "stream",
     "text": [
      "C:\\Users\\johna\\AppData\\Local\\Temp\\ipykernel_165952\\2123867828.py:2: FutureWarning: A value is trying to be set on a copy of a DataFrame or Series through chained assignment using an inplace method.\n",
      "The behavior will change in pandas 3.0. This inplace method will never work because the intermediate object on which we are setting values always behaves as a copy.\n",
      "\n",
      "For example, when doing 'df[col].method(value, inplace=True)', try using 'df.method({col: value}, inplace=True)' or df[col] = df[col].method(value) instead, to perform the operation inplace on the original object.\n",
      "\n",
      "\n",
      "  df_ws['Sex'].replace('Both sexes', 'Both', inplace =True)\n",
      "C:\\Users\\johna\\AppData\\Local\\Temp\\ipykernel_165952\\2123867828.py:2: FutureWarning: The behavior of Series.replace (and DataFrame.replace) with CategoricalDtype is deprecated. In a future version, replace will only be used for cases that preserve the categories. To change the categories, use ser.cat.rename_categories instead.\n",
      "  df_ws['Sex'].replace('Both sexes', 'Both', inplace =True)\n",
      "C:\\Users\\johna\\AppData\\Local\\Temp\\ipykernel_165952\\2123867828.py:3: FutureWarning: A value is trying to be set on a copy of a DataFrame or Series through chained assignment using an inplace method.\n",
      "The behavior will change in pandas 3.0. This inplace method will never work because the intermediate object on which we are setting values always behaves as a copy.\n",
      "\n",
      "For example, when doing 'df[col].method(value, inplace=True)', try using 'df.method({col: value}, inplace=True)' or df[col] = df[col].method(value) instead, to perform the operation inplace on the original object.\n",
      "\n",
      "\n",
      "  df_ws['Sex'].replace('Males', 'Men+', inplace=True)\n",
      "C:\\Users\\johna\\AppData\\Local\\Temp\\ipykernel_165952\\2123867828.py:3: FutureWarning: The behavior of Series.replace (and DataFrame.replace) with CategoricalDtype is deprecated. In a future version, replace will only be used for cases that preserve the categories. To change the categories, use ser.cat.rename_categories instead.\n",
      "  df_ws['Sex'].replace('Males', 'Men+', inplace=True)\n",
      "C:\\Users\\johna\\AppData\\Local\\Temp\\ipykernel_165952\\2123867828.py:4: FutureWarning: A value is trying to be set on a copy of a DataFrame or Series through chained assignment using an inplace method.\n",
      "The behavior will change in pandas 3.0. This inplace method will never work because the intermediate object on which we are setting values always behaves as a copy.\n",
      "\n",
      "For example, when doing 'df[col].method(value, inplace=True)', try using 'df.method({col: value}, inplace=True)' or df[col] = df[col].method(value) instead, to perform the operation inplace on the original object.\n",
      "\n",
      "\n",
      "  df_ws['Sex'].replace('Females', 'Women+', inplace=True)\n",
      "C:\\Users\\johna\\AppData\\Local\\Temp\\ipykernel_165952\\2123867828.py:4: FutureWarning: The behavior of Series.replace (and DataFrame.replace) with CategoricalDtype is deprecated. In a future version, replace will only be used for cases that preserve the categories. To change the categories, use ser.cat.rename_categories instead.\n",
      "  df_ws['Sex'].replace('Females', 'Women+', inplace=True)\n"
     ]
    }
   ],
   "source": [
    "#replacing \n",
    "df_ws['Sex'].replace('Both sexes', 'Both', inplace =True) \n",
    "df_ws['Sex'].replace('Males', 'Men+', inplace=True)\n",
    "df_ws['Sex'].replace('Females', 'Women+', inplace=True)\n",
    "df_ws.rename(columns={'Sex':'Gender'}, inplace=True)"
   ]
  },
  {
   "cell_type": "code",
   "execution_count": 10,
   "id": "7b73b171-b864-46ef-a08a-4b71768cd307",
   "metadata": {
    "scrolled": true
   },
   "outputs": [],
   "source": [
    "#set up drop lists \n",
    "# sex_list = df_ei['Sex'].unique().tolist()\n",
    "# beneficiary_list = df_ei['Beneficiary detail'].unique().tolist()\n",
    "characteristic_list= df_lf['Labour force characteristics'].unique().tolist()\n",
    "# age_group_list = df_ei['Age group'].unique().tolist()\n",
    "income_statistic_list = df_ws['Statistics'].unique().tolist()\n",
    "\n"
   ]
  },
  {
   "cell_type": "code",
   "execution_count": 11,
   "id": "a3d1c447-c38f-46f2-a565-b1f050e00f1f",
   "metadata": {},
   "outputs": [],
   "source": [
    "UOM = df_ws[['Statistics', 'UOM']]\n",
    "UOM=UOM.drop_duplicates()"
   ]
  },
  {
   "cell_type": "code",
   "execution_count": 12,
   "id": "437ec8e4-4600-4a91-a2e9-77400e0634fe",
   "metadata": {},
   "outputs": [],
   "source": [
    "UOM=UOM.rename(columns={'Statistics':'Measure'})"
   ]
  },
  {
   "cell_type": "code",
   "execution_count": 13,
   "id": "0871b478-07f8-492c-982d-18ac5464bb0a",
   "metadata": {},
   "outputs": [],
   "source": [
    "temp_df=df_lf[['Labour force characteristics', 'UOM']]\n",
    "temp_df=temp_df.drop_duplicates()\n",
    "temp_df=temp_df.rename(columns={'Labour force characteristics':'Measure'})\n"
   ]
  },
  {
   "cell_type": "code",
   "execution_count": 14,
   "id": "41eda4aa-6d57-43ba-aaf3-c547fb35a96c",
   "metadata": {},
   "outputs": [],
   "source": [
    "UOM=pd.concat([UOM, temp_df], ignore_index = True)"
   ]
  },
  {
   "cell_type": "code",
   "execution_count": 15,
   "id": "8598d95c-2d09-49b5-a139-36b90910897b",
   "metadata": {},
   "outputs": [],
   "source": [
    "# beneficiary_list = df_ei['Beneficiary detail'].unique().tolist()"
   ]
  },
  {
   "cell_type": "code",
   "execution_count": 16,
   "id": "29808081-3184-4328-8cb1-7b3f1cc59270",
   "metadata": {},
   "outputs": [],
   "source": [
    "# temp_df=df_ei[['Beneficiary detail', 'UOM']]\n",
    "# temp_df=temp_df.drop_duplicates()\n",
    "# temp_df=temp_df.replace(to_replace='Persons', value='Claimants')\n",
    "# temp_df=temp_df.rename(columns={'Beneficiary detail':'Measure'})"
   ]
  },
  {
   "cell_type": "code",
   "execution_count": 17,
   "id": "2191df84-7ff2-48e9-a37e-d8b7ba925baf",
   "metadata": {},
   "outputs": [],
   "source": [
    "# creating negative values for women for population pyramid.\n",
    "df_dg['VALUE'] = df_dg.apply(lambda row: row['VALUE']*-1 if row['Gender']=='Women+' else row['VALUE'], axis=1)"
   ]
  },
  {
   "cell_type": "code",
   "execution_count": 18,
   "id": "35a7ef0f-a7c6-49e7-badf-fa942812f51d",
   "metadata": {},
   "outputs": [],
   "source": [
    "df_dg['Year']=pd.DatetimeIndex(df_dg['Date']).year\n"
   ]
  },
  {
   "cell_type": "code",
   "execution_count": 19,
   "id": "f7c695bf-3ac8-41e3-afdc-a6fd94242bab",
   "metadata": {},
   "outputs": [
    {
     "data": {
      "text/plain": [
       "array(['Men+', 'Women+'], dtype=object)"
      ]
     },
     "execution_count": 19,
     "metadata": {},
     "output_type": "execute_result"
    }
   ],
   "source": [
    "df_dg.drop(df_dg.index[df_dg['Gender']=='Total - gender'], inplace=True)\n",
    "df_dg['Gender'].unique()"
   ]
  },
  {
   "cell_type": "code",
   "execution_count": 20,
   "id": "431c09a1-43a8-4b76-af9d-06c4b56b27d6",
   "metadata": {},
   "outputs": [],
   "source": [
    "markdown_about = dcc.Markdown('''\n",
    "- The North Bay Labour Market Dashboard was created by John Ellis to showcase data viualization and analytical abilities.  All data is retrieved from the Statistics Canada website via API calls.  The Data includes: \n",
    "- Wages, salaries and commissions of tax filers aged 15 years and over by sex and age group. [Adapted from Statistics Canada Table: 11-10-0072-01 Released: 2024-03-06](https://www150.statcan.gc.ca/t1/tbl1/en/tv.action?pid=1110007201)   \n",
    "- Labour force characteristics, annual. [Adapted from Statistics Canada Table: 14-10-0391-01 Released: 2024-01-05](https://www150.statcan.gc.ca/t1/tbl1/en/tv.action?pid=1410039101)  \n",
    "- Population estimates, July 1, by census metropolitan area and census agglomeration, 2021 boundaries. [Adpated from Statistics Canada Table: 17-10-0148-01 Released: 2024-05-22](https://www150.statcan.gc.ca/t1/tbl1/en/tv.action?pid=1710014801)  \n",
    "*This does not constitute an endorsement by Statistics Canada of this product.*\n",
    "''')"
   ]
  },
  {
   "cell_type": "code",
   "execution_count": 21,
   "id": "823b5dc5-dae5-488c-ad1a-20cbd5fdf3a1",
   "metadata": {
    "editable": true,
    "slideshow": {
     "slide_type": ""
    },
    "tags": []
   },
   "outputs": [
    {
     "data": {
      "text/html": [
       "\n",
       "        <iframe\n",
       "            width=\"100%\"\n",
       "            height=\"650\"\n",
       "            src=\"http://127.0.0.1:8050/\"\n",
       "            frameborder=\"0\"\n",
       "            allowfullscreen\n",
       "            \n",
       "        ></iframe>\n",
       "        "
      ],
      "text/plain": [
       "<IPython.lib.display.IFrame at 0x17fa278b320>"
      ]
     },
     "metadata": {},
     "output_type": "display_data"
    }
   ],
   "source": [
    "app = Dash(__name__, external_stylesheets=[dbc.themes.SIMPLEX])\n",
    "myTitle = 'Labour Market in North Bay Ontario'\n",
    "app.title = myTitle\n",
    "\n",
    "y_age = df_dg['Age group'].unique()\n",
    "\n",
    "y_Population = df_lf['VALUE'].loc[(df_lf['Labour force characteristics'].isin(['Population'])) & (df_lf['Date'] > '2016-01-01')]\n",
    "x_Date = df_lf.loc[(df_lf['Labour force characteristics'].isin(['Population'])) & (df_lf['Date'] > '2016-01-01')]\n",
    "\n",
    "\n",
    "fig=px.bar(df_dg, x='VALUE', y='Age group', orientation='h',  template='simple_white', animation_frame='Year', color='Gender', labels={'VALUES':'Population'}, )\n",
    "    \n",
    "    \n",
    "\n",
    "fig.update_layout(title='Population Pyramid - 2001 to 2023',\n",
    "                  barmode = 'relative', \n",
    "                  bargap = 0.0, bargroupgap = 0, \n",
    "                  xaxis = dict(tickvals = [-3000, -2000, -1000, \n",
    "                                           0, 1000, 2000, 3000], \n",
    "                                \n",
    "                              ticktext = ['3000', '2000', '1000', '0',  \n",
    "                                          '1000', '2000', '3000'], \n",
    "                                \n",
    "                              title = None, \n",
    "                              # title_font_size = 14\n",
    "                              ),\n",
    "                  template='simple_white',\n",
    "                  width=990,\n",
    "                  height=283,\n",
    "                  margin=dict(l=1, r=1, t=40, b=10),\n",
    "                  \n",
    "                 ) \n",
    "fig['layout']['updatemenus'][0]['pad']=dict(r= 10, t= 30)\n",
    "fig['layout']['sliders'][0]['pad']=dict(r= 10, t= 1,)\n",
    "\n",
    "fig1 = px.bar(df_lf.loc[(df_lf['Labour force characteristics'].isin(['Employment', 'Not in labour force', 'Unemployment'])) & (df_lf['Date'] > '2016-01-01')],\n",
    "                  x='Date',\n",
    "                  y='VALUE',\n",
    "                  title='Population Breakdown by Employment Characteristic',\n",
    "                  labels={'VALUE': 'Persons in ,000s',\n",
    "                         'Date':'Year',\n",
    "                         'Labour force characteristics':'Characteristic'},\n",
    "                  # size='VALUE',\n",
    "                  template='simple_white',\n",
    "                  width=990,\n",
    "                  height=243,\n",
    "                  color='Labour force characteristics',\n",
    "                  # trendline='ols',\n",
    "             )\n",
    "\n",
    "# fig1.add_trace(go.Bar( name='Total Population', y=y_Population, x=x_Date, ))\n",
    "                          \n",
    "fig2 = px.scatter(df_ws.loc[(df_ws['Statistics']=='Median total income') \n",
    "               & (df_ws['Gender'].isin(['Both', 'Men+', 'Women+']))], \n",
    "                  template='simple_white', \n",
    "                  title = \"Median Income in 000's with Trend\",\n",
    "                  x='Date', \n",
    "                  y='VALUE', \n",
    "                  labels = {'VALUE': '$,000s',\n",
    "                           'Date':'Year',\n",
    "                           # 'Sex':'Gender',\n",
    "                           # 'Both sexes':'Average'\n",
    "                           },\n",
    "                  width=990,\n",
    "                  height=243,\n",
    "                  color='Gender', \n",
    "                  trendline=\"ols\")\n",
    "\n",
    "fig.update_layout(margin=dict(l=1, r=1, t=40, b=1))\n",
    "fig1.update_layout(\n",
    "    # plot_bgcolor='#ffffff',\n",
    "    margin=dict(l=1, r=1, t=40, b=1))\n",
    "fig2.update_layout(margin=dict(l=1, r=1, t=40, b=1),\n",
    "                  )\n",
    "\n",
    "# app layout\n",
    "app.layout=dbc.Container([\n",
    "    html.Div(\n",
    "        [\n",
    "            html.Div([\n",
    "                html.H1([\n",
    "                    html.Span(\"Welcome\"),\n",
    "                    html.Br(),\n",
    "                    html.Span(\"to the North Bay Labour Market Dashboard!\")\n",
    "                ]),\n",
    "                html.P(\"This Dashboard assists users in understanding the local labour market conditions.\")\n",
    "            ],\n",
    "                     style={\n",
    "                         \"vertical-alignment\": \"top\",\n",
    "                         \"height\": 260\n",
    "                     }),\n",
    "            html.Div(\n",
    "                [\n",
    "                    # html.Div(dbc.Button(\n",
    "                    #     # className='btn-group',\n",
    "                    #     # inputClassName='btn-check',\n",
    "                    #     # labelClassName=\"btn btn-outline-light\",\n",
    "                    #     # labelCheckedClassName=\"btn btn-light\",\n",
    "                    #     # options=[\n",
    "                    #     #     {\"label\": \"Graph\", \"value\": 1},\n",
    "                    #     #     {\"label\": \"Table\", \"value\": 2}\n",
    "                    #     # ],\n",
    "                    #     \"Dashboard\",\n",
    "                    #     className=\"btn btn-dashboard\",\n",
    "                    #     color=\"primary\",\n",
    "                    #     # outline = True,\n",
    "                    #     n_clicks=0, \n",
    "                        \n",
    "                    #     ),\n",
    "                    #          style={'width': 104,\n",
    "                    #                'background':'fffff'}\n",
    "                    # ),\n",
    "                    html.Div([\n",
    "                        dbc.Button(\n",
    "                            \"About\",\n",
    "                            className=\"btn btn-info\",\n",
    "                            n_clicks=0,\n",
    "                            id='button-info'\n",
    "                        ),\n",
    "                        dbc.Modal(\n",
    "                            [\n",
    "                                dbc.ModalHeader(dbc.ModalTitle(\"About\")),\n",
    "                                dbc.ModalBody(markdown_about, className=\"MarkDown\"),\n",
    "                                dbc.ModalFooter(\n",
    "                                    dbc.Button(\n",
    "                                        \"Close\", id=\"close\", className=\"ms-auto\", n_clicks=0\n",
    "                                    )\n",
    "                                ),\n",
    "                            ],\n",
    "                            id=\"modal\",\n",
    "                            is_open=False,\n",
    "                        ),                \n",
    "                    ],\n",
    "                             style={'width': 104})\n",
    "                ],\n",
    "                style={\n",
    "                    'margin-left': 15,\n",
    "                    'margin-right': 15,\n",
    "                    'display': 'flex'\n",
    "                }\n",
    "            \n",
    "            ),\n",
    "            html.Div(\n",
    "                [\n",
    "                    html.Div(\n",
    "                        [\n",
    "                            # html.H2('Sex:'),\n",
    "                            # dcc.Dropdown(\n",
    "                            #     options=sex_list,\n",
    "                            #     value=1,\n",
    "                            #     clearable=True,\n",
    "                            #     multi=True,\n",
    "                            #     optionHeight=40\n",
    "                            # )\n",
    "                        ]\n",
    "                    ),\n",
    "                    html.Div(\n",
    "                        [\n",
    "                            # html.H2('Statistic to Plot:'),\n",
    "                            # dcc.Dropdown(\n",
    "                            #     options=UOM['Measure'],\n",
    "                            #     value=1,\n",
    "                            #     clearable=False,\n",
    "                            #     multi=True,\n",
    "                            #     optionHeight=40\n",
    "                            # )\n",
    "                        ]\n",
    "                    ),                    \n",
    "                    html.Div(\n",
    "                        [\n",
    "                            # html.H2('Income statistic:'),\n",
    "                            # dcc.Dropdown(\n",
    "                            #     options=income_statistic_list,\n",
    "                            #     value=income_statistic_list[0],\n",
    "                            #     clearable=True,\n",
    "                            #     multi=True,\n",
    "                            #     optionHeight=40\n",
    "                                \n",
    "                            # )\n",
    "                        ]\n",
    "                    )\n",
    "            ],\n",
    "                     style={\n",
    "                         'margin-left': 15,\n",
    "                         'margin-right': 15,\n",
    "                         'margin-top': 30\n",
    "                     }),\n",
    "            \n",
    "            html.Div(html.Img(src='assets/image.svg',\n",
    "             style={\n",
    "                 'margin-left': 15,\n",
    "                 'margin-right': 15,\n",
    "                 'margin-top': 30,\n",
    "                 'width': 310,\n",
    "                 'display':'flex'\n",
    "             }\n",
    "                             )\n",
    "                    )\n",
    "        ],\n",
    "    style={\n",
    "        'width': 340,\n",
    "        'margin-left': 15,\n",
    "        'margin-top': 15,\n",
    "        'margin-bottom': 15\n",
    "    }), \n",
    "    html.Div(\n",
    "        [\n",
    "            html.Div(dcc.Graph(figure=fig), style={'width': 990}),\n",
    "            html.Div(dcc.Graph(figure=fig1), style={'width':990}),\n",
    "            html.Div(dcc.Graph(figure=fig2), style={'width':990})\n",
    "            # html.Div(\n",
    "            #     [\n",
    "            #         html.H2('Output 1:'),\n",
    "            #         html.Div(className='Output'),\n",
    "            #         html.H2('Output 2:'),\n",
    "            #         html.Div(html.H3(\"Selected Value\"), className='Output')\n",
    "            #     ],\n",
    "            #       style={'width': 200})\n",
    "        ],\n",
    "        \n",
    "        style={\n",
    "            'width': 990,\n",
    "            'margin-top': 15,\n",
    "            'margin-right': 15,\n",
    "            'margin-bottom': 15,\n",
    "            # 'display':'flex'\n",
    "            }) \n",
    "    \n",
    "    ],          \n",
    "                      \n",
    "   fluid = True,\n",
    "   className='dashboard-container',\n",
    "   style={'display':'flex'}\n",
    "   )\n",
    "@app.callback(\n",
    "    Output(\"modal\", \"is_open\"),\n",
    "    [Input(\"button-info\", \"n_clicks\"), Input(\"close\", \"n_clicks\")],\n",
    "    [State(\"modal\", \"is_open\")],\n",
    ")\n",
    "def toggle_modal(n1, n2, is_open):\n",
    "    if n1 or n2:\n",
    "        return not is_open\n",
    "    return is_open\n",
    "if __name__ == \"__main__\":\n",
    "    app.run_server(debug=True, port=8050)\n",
    "\n",
    "\n"
   ]
  },
  {
   "cell_type": "code",
   "execution_count": null,
   "id": "e0d2cc50-77b2-4d74-8b03-4ac4a645f73a",
   "metadata": {},
   "outputs": [],
   "source": []
  },
  {
   "cell_type": "code",
   "execution_count": null,
   "id": "d7f11fb7-4d96-4c86-a11d-612ee8c4a597",
   "metadata": {},
   "outputs": [],
   "source": []
  }
 ],
 "metadata": {
  "kernelspec": {
   "display_name": "Python 3 (ipykernel)",
   "language": "python",
   "name": "python3"
  },
  "language_info": {
   "codemirror_mode": {
    "name": "ipython",
    "version": 3
   },
   "file_extension": ".py",
   "mimetype": "text/x-python",
   "name": "python",
   "nbconvert_exporter": "python",
   "pygments_lexer": "ipython3",
   "version": "3.12.3"
  },
  "widgets": {
   "application/vnd.jupyter.widget-state+json": {
    "state": {},
    "version_major": 2,
    "version_minor": 0
   }
  }
 },
 "nbformat": 4,
 "nbformat_minor": 5
}
